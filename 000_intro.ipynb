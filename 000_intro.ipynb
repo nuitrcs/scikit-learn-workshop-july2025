{
 "cells": [
  {
   "cell_type": "markdown",
   "id": "9cc01510-630f-42c8-9112-4da50a57ab6a",
   "metadata": {
    "panel-layout": {
     "height": 60.3125,
     "visible": true,
     "width": 100
    }
   },
   "source": [
    "# <span style = \"color:rebeccapurple\">Introduction to scikit-learn Workshop</span>"
   ]
  },
  {
   "cell_type": "markdown",
   "id": "61ee69a4",
   "metadata": {},
   "source": [
    "by efrén cruz cortés"
   ]
  },
  {
   "cell_type": "markdown",
   "id": "5bdc2be4-c689-451a-99eb-bcdd9ef6c8f5",
   "metadata": {
    "panel-layout": {
     "height": 50.09375,
     "visible": true,
     "width": 100
    }
   },
   "source": [
    "## <span style = \"color:darkorchid\">What is scikit-learn?</span>"
   ]
  },
  {
   "cell_type": "markdown",
   "id": "e2e1e398-a0d4-4253-a250-7af6dd620528",
   "metadata": {
    "panel-layout": {
     "height": 133,
     "visible": true,
     "width": 100
    }
   },
   "source": [
    "`scikit-learn` is a user-friendly python library that helps you implement a variety of machine learning algorithms with just a few lines of code. You do not need to be an expert in machine learning to use `scikit-learn`, however, you do need to learn some concepts to use it correctly.\n",
    "\n",
    "Today, we will learn a bit of both. We will alternate between coding and concepts so you can be successful in your future machine learning endeavors!"
   ]
  },
  {
   "cell_type": "markdown",
   "id": "2eb29f43-3975-48c4-8dfd-0f8c6957719a",
   "metadata": {
    "panel-layout": {
     "height": 60.3125,
     "visible": true,
     "width": 100
    }
   },
   "source": [
    "## <span style = \"color:darkorchid\"> The adventures of Alice and Bo"
   ]
  },
  {
   "cell_type": "markdown",
   "id": "67f340b2-57b1-4f23-9bc3-165d64216404",
   "metadata": {},
   "source": [
    "Throughout the workshop we will follow the adventures of two researchers: Alice and Bo. I will teach with examples from Alice's adventures. You will work on exercises from Bo's breakthroughs.\n",
    "\n",
    "I asked midjourney to generate images of Alice and Bo on the style of Alice in Wonderland. This is what I got:"
   ]
  },
  {
   "cell_type": "markdown",
   "id": "9201554e-169c-430c-8086-879dad57ec88",
   "metadata": {},
   "source": [
    "<img src = \"images/Alice-and-Bo.png\" width = 900>"
   ]
  },
  {
   "cell_type": "markdown",
   "id": "67672247",
   "metadata": {},
   "source": [
    "You may notice that throughout the workshop the looks of Alice and Bo are not super consistent. Blame Midjourney and Sora 😅"
   ]
  },
  {
   "cell_type": "markdown",
   "id": "dfd4888f",
   "metadata": {},
   "source": [
    "## <span style = \"color:darkorchid\"> Outline"
   ]
  },
  {
   "cell_type": "markdown",
   "id": "be93182b",
   "metadata": {},
   "source": [
    "Here's a general outline of the topics we will cover in this workshop. Note that we may not go through all of them due to time constraints. I'd rather spend more time in the core sections to make sure concepts and syntax are fully understood, and to give you time to discuss and digest, than to hurry the process. Also, we have a ton of exercises to give you practice, and we'll make sure we take enough time to work on those."
   ]
  },
  {
   "cell_type": "markdown",
   "id": "93145928",
   "metadata": {},
   "source": [
    "**Day 1**\n",
    "<ul style=\"list-style: none; padding-left: 15px;\">\n",
    "    <li>1) Python Review\n",
    "    <li>2a) Datasets\n",
    "    <li>2b) Preprocessing\n",
    "    <li>3) Regression\n",
    "    <li>4) ColumnTransformer\n",
    "    <li>5) Pipeline\n",
    "</ul>\n",
    "\n",
    "**Day 2**\n",
    "<ul style=\"list-style: none; padding-left: 15px;\">\n",
    "    <li>6) Classification<br>\n",
    "    <li>7) Evaluation<br>\n",
    "    <li>8) Cross Validation<br>\n",
    "    <li>9) Clustering<br>\n",
    "    <li>10) Dimensionality Reduction<br>\n",
    "</ul>"
   ]
  },
  {
   "cell_type": "markdown",
   "id": "4a39fb31",
   "metadata": {},
   "source": [
    "## <span style = \"color:darkorchid\">A Note on Google Colab</span>"
   ]
  },
  {
   "cell_type": "markdown",
   "id": "58a307e4",
   "metadata": {},
   "source": [
    "Some of you will be running things locally, and some of you will use through Google Colab. I will go through the workshop using Google Colab unless there's an internet or server issue.\n",
    "\n",
    "Throughout, we will load data and install packages differently depending on if we are in Colab or not. We can easily address this with the following piece of code, which check if you are on Colab or not:"
   ]
  },
  {
   "cell_type": "code",
   "execution_count": 1,
   "id": "fbff6131",
   "metadata": {},
   "outputs": [
    {
     "name": "stdout",
     "output_type": "stream",
     "text": [
      "You are NOT working in Google Colab.\n"
     ]
    }
   ],
   "source": [
    "try:\n",
    "    import google.colab\n",
    "    print(\"You ARE working in Google Colab.👍🏽\")\n",
    "except ModuleNotFoundError:\n",
    "    print(\"You are NOT working in Google Colab.\")"
   ]
  },
  {
   "cell_type": "markdown",
   "id": "059d5601",
   "metadata": {},
   "source": [
    "**Preloaded Images**\n",
    "\n",
    "Some images in the notebook are preloaded. If by chance you run the cell where these images are, it should be fine if you're working locally, but it will break if you are on Google Colab (since you don't have the image files). If that's the case you can ignore it, next time you load it in Colab they will appear."
   ]
  },
  {
   "cell_type": "markdown",
   "id": "49be92e6",
   "metadata": {},
   "source": [
    "## <span style = \"color:darkorchid\">Files in the GitHub Repository</span>"
   ]
  },
  {
   "cell_type": "markdown",
   "id": "008f6350",
   "metadata": {},
   "source": [
    "The repo has:\n",
    "- Two subfolders: data and images.\n",
    "- Jupyter notebooks:\n",
    "    - Lecture notebooks prefixed *000_* to *010_*\n",
    "    - A *support_materials.ipynb* notebook with extra code I used to generate some images\n",
    "- The powerpoint slides\n",
    "- A *README.md* file to for general useful information.\n",
    "- Three weird files: *.python-version*, *uv.lock* and *pyproject.toml* which you can safely ignore. They are there for those who know how to use **uv** for environment and package management."
   ]
  },
  {
   "cell_type": "markdown",
   "id": "1ab422e8",
   "metadata": {},
   "source": [
    "## <span style = \"color:darkorchid\">Environments and Installations</span>"
   ]
  },
  {
   "cell_type": "markdown",
   "id": "bef24856",
   "metadata": {},
   "source": [
    "**Colab users**<br>\n",
    "- Don't worry about this.\n",
    "\n",
    "**Anaconda users**<br>\n",
    "- Using the GUI, create a new environment, call it *scikit_learn_workshop* or something informative like that\n",
    "- Using the GUI, install scikit-learn, numpy, pandas, and matplotlib\n",
    "- When you start your Jupyter Lab (or whatever IDE you are using) make sure the environment above is selected\n",
    "\n",
    "**uv and other users**<br>\n",
    "- I'm assuming you know how to do this yourself. I will not go over it.\n",
    "- If you can't figure it out, please use Google Colab."
   ]
  },
  {
   "cell_type": "markdown",
   "id": "50bd2259",
   "metadata": {},
   "source": [
    "Let's get started!"
   ]
  },
  {
   "cell_type": "markdown",
   "id": "bb0aa809",
   "metadata": {},
   "source": [
    "# <span style = \"color:rebeccapurple\">What is Machine Learning?</span>"
   ]
  },
  {
   "cell_type": "markdown",
   "id": "f55f4d49",
   "metadata": {},
   "source": [
    "## <span style = \"color:darkorange\">Conceptual Intermezzo - Machine Learning tasks, concepts, models"
   ]
  },
  {
   "cell_type": "markdown",
   "id": "166b94b6",
   "metadata": {},
   "source": [
    "See slides"
   ]
  },
  {
   "cell_type": "markdown",
   "id": "1fda734e",
   "metadata": {},
   "source": [
    "# <span style = \"color:rebeccapurple\"> Credit\n",
    "\n",
    "The author of these notebooks and the exercises is efrén cruz cortés. However, I owe inspiration and some of the materials of the preprocessing and regression sections to Ritika Giri."
   ]
  },
  {
   "cell_type": "markdown",
   "id": "ca4c8a82",
   "metadata": {},
   "source": []
  }
 ],
 "metadata": {
  "kernelspec": {
   "display_name": ".venv",
   "language": "python",
   "name": "python3"
  },
  "language_info": {
   "codemirror_mode": {
    "name": "ipython",
    "version": 3
   },
   "file_extension": ".py",
   "mimetype": "text/x-python",
   "name": "python",
   "nbconvert_exporter": "python",
   "pygments_lexer": "ipython3",
   "version": "3.11.5"
  },
  "panel-cell-order": [
   "9cc01510-630f-42c8-9112-4da50a57ab6a",
   "5b082360-237e-4ba3-a055-c6ab1f45abb5",
   "5bdc2be4-c689-451a-99eb-bcdd9ef6c8f5",
   "e2e1e398-a0d4-4253-a250-7af6dd620528",
   "85353d77-3bc8-4cfa-867f-1adc24765050",
   "909fbd52-47ae-4dbf-8e81-8e656029e1e2",
   "d76fb7bc-fce8-41b8-b5ac-21d69c2fa660",
   "a77f401e-c06c-47ff-b401-c428b6561fda",
   "a380bf25-42e7-4db8-89f3-b9f395a009a3",
   "1b2b0957-8ae6-488c-82aa-05e3c704acbf",
   "2eb29f43-3975-48c4-8dfd-0f8c6957719a",
   "48095baf-bd2d-4860-b83b-238479c55e43",
   "e3101a01-d755-4c90-8037-b094d273ad60",
   "aa4adf62-b240-49ac-b057-4f475dbb2061",
   "5de79fc5-7d21-4711-a8e5-30edf1e430de",
   "48359de5-eea5-44fd-b148-4950ed66d90b",
   "17037863-9ef6-4a5d-a842-33d3d1069186",
   "64f84854-086f-471e-ac9a-996074de6b63",
   "d2d95da1-15a4-4f76-acb7-3a1081c3f862",
   "6bf86c16-2a91-4401-bb67-4f693996e86a",
   "0fde2a73-03d6-41c5-a6f1-53b274f6f538",
   "e20c8781-cf90-4b44-bd88-c99b933227ab",
   "e31700c5-4d2f-4d7a-ae72-4fce0e093b0a",
   "ec0e52b3-ad02-4f0c-9569-0f031d299b9c",
   "ce73879b-97da-483c-b754-3c89b731d5a3",
   "43d9c52a-efdd-4903-9966-3644788b7c52",
   "ef14c206-cdf3-4fd9-a0d4-dfd5d16ce410",
   "d5a2c1df-34b8-4c28-9f64-ee803421f3d5",
   "191905e0-0a6b-484e-948d-84f3387c87cb",
   "ce1c111d-d4aa-4c08-9d88-87c4b52d1d41",
   "ebd739a5-ae8c-41e4-b87b-a1d28401ee1e",
   "5d2fe31b-3d23-46eb-88dc-0d330b217461",
   "7e8c6446-0727-4548-8a92-4bdf543ff508",
   "75097743-a5c5-411d-9f53-ab0396b55544",
   "853cde47-e945-49f4-87d5-1e1834afdc59",
   "74a013d0-9471-444c-a078-0aaf46d5f372",
   "fb6c5094-edab-479b-bbae-0908d77b29ed",
   "abd6b0a3-bf39-431d-a592-166c73e8b7ce",
   "34c89974-8212-4605-aa2f-5c40d50d3719"
  ]
 },
 "nbformat": 4,
 "nbformat_minor": 5
}
