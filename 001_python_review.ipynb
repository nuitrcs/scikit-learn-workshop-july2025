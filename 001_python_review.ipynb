{
 "cells": [
  {
   "cell_type": "markdown",
   "id": "201695ea",
   "metadata": {},
   "source": [
    "# <span style = \"color:rebeccapurple\">Python Review</span>"
   ]
  },
  {
   "cell_type": "markdown",
   "id": "d1a78efa",
   "metadata": {},
   "source": [
    "<span style=\"text-transform: uppercase;\n",
    "        font-size: 14px;\n",
    "        letter-spacing: 1px;\n",
    "        font-family: 'Segoe UI', sans-serif;\">\n",
    "    Author\n",
    "</span><br>\n",
    "efrén cruz cortés\n",
    "<hr style=\"border: none; height: 1px; background: linear-gradient(to right, transparent 0%, #ccc 10%, transparent 100%); margin-top: 10px;\">"
   ]
  },
  {
   "cell_type": "markdown",
   "id": "753d77f7",
   "metadata": {},
   "source": [
    "## <span style = \"color:darkorchid\">What do I assume you know?</span>"
   ]
  },
  {
   "cell_type": "markdown",
   "id": "3b2f6bdc",
   "metadata": {},
   "source": [
    "This workshop is an introduction to `scikit-learn`, not to programming. Hence, we will assume you have some familiarity with the following:\n",
    "\n",
    "#### Python preliminaries\n",
    "<ul>\n",
    "    <li>Basic Python structures (lists, dictionaries, tuples) and control flow (loops, conditionals, etc.)</li>\n",
    "    <li>Numpy arrays</li>\n",
    "    <li>Pandas dataframes</li>\n",
    "    <li>Basics of matplotlib for visualization</li>\n",
    "    <li>Basics of classes and objects (we will do a quick review)</li>\n",
    "</ul>\n",
    "\n",
    "We will have a quick review of python structures, arrays, and dataframes, but we cannot linger much on them. We will use `matplotlib` and `seaborn` for plotting, but you do not really need to know, at this stage, all the specifics for how those work."
   ]
  },
  {
   "cell_type": "markdown",
   "id": "d1546214",
   "metadata": {},
   "source": [
    "#### Machine learning preliminaries\n",
    "This `scikit-learn` workshop will help you implement machine learning in your projects. However, we cannot be comprehensive in such a short course, in particular, we don't have much time to introduce foundational concepts in machine learning. Hence, I will assume you have <b>some familiarity with machine learning</b>, not necessarily technical, but in the sense that you know what it is used for, and how it works, broadly speaking. If you don't, it is OK, we will still review some of those concepts as we proceed, but we may go a bit faster, so make sure you ask plenty of questions. You are also encouraged to review concepts on your own during and after the workshop."
   ]
  },
  {
   "cell_type": "markdown",
   "id": "06975f81",
   "metadata": {},
   "source": [
    "# <span style = \"color:rebeccapurple\">Python Basic Objects</span>"
   ]
  },
  {
   "cell_type": "markdown",
   "id": "b7d02e0d",
   "metadata": {},
   "source": [
    "## <span style = \"color:darkorchid\"> Imports"
   ]
  },
  {
   "cell_type": "markdown",
   "id": "a23e7b55",
   "metadata": {},
   "source": [
    "It is best practice to place imports at the top of your script/jupyter notebook. You may not be familiar with what we are importing next, but it will be clear by the end of the notebook."
   ]
  },
  {
   "cell_type": "code",
   "execution_count": 1,
   "id": "d80438fe",
   "metadata": {},
   "outputs": [],
   "source": [
    "import numpy as np      # <-- Numpy is usually imported as 'np' (this is convention)\n",
    "import pandas as pd     # <-- Pandas is usually imported as 'pd' (this is convention)"
   ]
  },
  {
   "cell_type": "markdown",
   "id": "5b7a1ad2",
   "metadata": {},
   "source": [
    "## <span style = \"color:darkorchid\">Data Structures in Python</span>"
   ]
  },
  {
   "cell_type": "markdown",
   "id": "76085f89",
   "metadata": {},
   "source": [
    "We will use lists, dictionaries, tuples, numpy arrays and pandas dataframes. While you don't need to be an expert, some intuition on how these work and what their differences are is crucial. Let's review of of these."
   ]
  },
  {
   "cell_type": "markdown",
   "id": "f16da771",
   "metadata": {},
   "source": [
    "### <span style=\"color:teal\">Base python structures</span>"
   ]
  },
  {
   "cell_type": "markdown",
   "id": "dcdd54ef",
   "metadata": {},
   "source": [
    "Base python has three basic structures you should strive to be acquainted with:\n",
    "<ul>\n",
    "    <li>lists</li>\n",
    "    <li>dictionaries</li>\n",
    "    <li>tuples</li>\n",
    "</ul>"
   ]
  },
  {
   "cell_type": "markdown",
   "id": "3da288b3",
   "metadata": {},
   "source": [
    "#### Lists\n",
    "\n",
    "Lists are ordered collections of objects. You can create empty lists, increase the size of lists, and obtain specific elements through indexing."
   ]
  },
  {
   "cell_type": "code",
   "execution_count": 2,
   "id": "932e632e",
   "metadata": {},
   "outputs": [
    {
     "name": "stdout",
     "output_type": "stream",
     "text": [
      "[]\n"
     ]
    }
   ],
   "source": [
    "# Empty lists\n",
    "my_list = []\n",
    "print(my_list)"
   ]
  },
  {
   "cell_type": "code",
   "execution_count": 3,
   "id": "e4e14e9d",
   "metadata": {},
   "outputs": [
    {
     "name": "stdout",
     "output_type": "stream",
     "text": [
      "[1, 2, 'hello']\n"
     ]
    }
   ],
   "source": [
    "# Non-empty lists\n",
    "my_list = [1, 2, \"hello\"]\n",
    "print(my_list)"
   ]
  },
  {
   "cell_type": "code",
   "execution_count": 4,
   "id": "05a5d8aa",
   "metadata": {},
   "outputs": [
    {
     "name": "stdout",
     "output_type": "stream",
     "text": [
      "[1, 2, 'hello', 'good bye']\n"
     ]
    }
   ],
   "source": [
    "# Adding an element to a list\n",
    "my_list.append(\"good bye\")\n",
    "print(my_list)"
   ]
  },
  {
   "cell_type": "code",
   "execution_count": 5,
   "id": "f0504baa",
   "metadata": {},
   "outputs": [
    {
     "name": "stdout",
     "output_type": "stream",
     "text": [
      "1\n",
      "2\n",
      "hello\n",
      "good bye\n"
     ]
    }
   ],
   "source": [
    "# Iterating over a list\n",
    "for i in my_list:\n",
    "    print(i)"
   ]
  },
  {
   "cell_type": "code",
   "execution_count": 6,
   "id": "7d687444",
   "metadata": {},
   "outputs": [
    {
     "name": "stdout",
     "output_type": "stream",
     "text": [
      "1\n",
      "[2, 'hello']\n"
     ]
    }
   ],
   "source": [
    "# Indexing a list\n",
    "print(my_list[0])\n",
    "print(my_list[1:3])"
   ]
  },
  {
   "cell_type": "code",
   "execution_count": 7,
   "id": "5ceaa747",
   "metadata": {},
   "outputs": [
    {
     "name": "stdout",
     "output_type": "stream",
     "text": [
      "[1, 2, 'hello', 'hello again']\n"
     ]
    }
   ],
   "source": [
    "# Overwriting an element in a list:\n",
    "my_list[3] = \"hello again\"\n",
    "print(my_list)"
   ]
  },
  {
   "cell_type": "markdown",
   "id": "214e772c",
   "metadata": {},
   "source": [
    "**Note**\n",
    "\n",
    "Lists are agnostic to data type: not all elements must be of the same type, and they don't have to be numbers. Hence, lists do not represent \"vectors\" or \"matrices\" (that's the role of numpy arrays), and they are not tables either (that's the role of pandas dataframes)."
   ]
  },
  {
   "cell_type": "markdown",
   "id": "cb988bf4",
   "metadata": {},
   "source": [
    "#### Dictionaries\n",
    "\n",
    "Dictionaries are also collections of objects, but instead of being indexed by order, as in the list case, they have a *key*, which uniquely identifies the *value* of your object. These are called key-value pairs."
   ]
  },
  {
   "cell_type": "code",
   "execution_count": 8,
   "id": "90003576",
   "metadata": {},
   "outputs": [
    {
     "name": "stdout",
     "output_type": "stream",
     "text": [
      "{}\n"
     ]
    }
   ],
   "source": [
    "# An empty dictionary\n",
    "my_dict = {}\n",
    "print(my_dict)"
   ]
  },
  {
   "cell_type": "code",
   "execution_count": 9,
   "id": "0e506110",
   "metadata": {},
   "outputs": [
    {
     "name": "stdout",
     "output_type": "stream",
     "text": [
      "{'data': [1, 2, 3], 'salutation': 'hello', 'inception': {'some key': 'some value'}}\n"
     ]
    }
   ],
   "source": [
    "# A non-empty dictionary with key-value pairs formatted as key:value\n",
    "my_dict = {\"data\": [1,2,3],\n",
    "          \"salutation\": \"hello\",\n",
    "          \"inception\": {\"some key\":\"some value\"}}\n",
    "print(my_dict)"
   ]
  },
  {
   "cell_type": "code",
   "execution_count": 10,
   "id": "f59306d8",
   "metadata": {},
   "outputs": [
    {
     "data": {
      "text/plain": [
       "[1, 2, 3]"
      ]
     },
     "execution_count": 10,
     "metadata": {},
     "output_type": "execute_result"
    }
   ],
   "source": [
    "my_dict[\"data\"]"
   ]
  },
  {
   "cell_type": "code",
   "execution_count": 11,
   "id": "40bade35",
   "metadata": {},
   "outputs": [
    {
     "data": {
      "text/plain": [
       "'hello'"
      ]
     },
     "execution_count": 11,
     "metadata": {},
     "output_type": "execute_result"
    }
   ],
   "source": [
    "my_dict[\"salutation\"]"
   ]
  },
  {
   "cell_type": "code",
   "execution_count": 12,
   "id": "67226f79",
   "metadata": {},
   "outputs": [
    {
     "data": {
      "text/plain": [
       "{'some key': 'some value'}"
      ]
     },
     "execution_count": 12,
     "metadata": {},
     "output_type": "execute_result"
    }
   ],
   "source": [
    "my_dict[\"inception\"] # <-- This is a dictionary inside a dictionary. Inception!"
   ]
  },
  {
   "cell_type": "markdown",
   "id": "885553e6",
   "metadata": {},
   "source": [
    "**Note**\n",
    "\n",
    "We have used only strings as keys. Most of the time this will be the case. It is possible to use other objects as keys, but we won't go into that (if you know about mutability and hashability, only immutable and hashable objects can be keys)."
   ]
  },
  {
   "cell_type": "markdown",
   "id": "415bb5c3",
   "metadata": {},
   "source": [
    "#### Tuples\n",
    "Tuples are ordered collections of objects, almost like lists, BUT, they are immutable. Meaning that you can't change them as you did with lists. You cannot change their elements, add a new element, delete one, etc."
   ]
  },
  {
   "cell_type": "code",
   "execution_count": 13,
   "id": "24a3bbba",
   "metadata": {},
   "outputs": [
    {
     "name": "stdout",
     "output_type": "stream",
     "text": [
      "(1, 2, 'hello')\n"
     ]
    }
   ],
   "source": [
    "# :: TUPLES ::\n",
    "my_tuple = (1,2,\"hello\")\n",
    "print(my_tuple)"
   ]
  },
  {
   "cell_type": "code",
   "execution_count": 14,
   "id": "2ad39632",
   "metadata": {},
   "outputs": [
    {
     "data": {
      "text/plain": [
       "1"
      ]
     },
     "execution_count": 14,
     "metadata": {},
     "output_type": "execute_result"
    }
   ],
   "source": [
    "my_tuple[0]"
   ]
  },
  {
   "cell_type": "code",
   "execution_count": 15,
   "id": "d9d670c1",
   "metadata": {},
   "outputs": [
    {
     "ename": "TypeError",
     "evalue": "'tuple' object does not support item assignment",
     "output_type": "error",
     "traceback": [
      "\u001b[31m---------------------------------------------------------------------------\u001b[39m",
      "\u001b[31mTypeError\u001b[39m                                 Traceback (most recent call last)",
      "\u001b[36mCell\u001b[39m\u001b[36m \u001b[39m\u001b[32mIn[15]\u001b[39m\u001b[32m, line 1\u001b[39m\n\u001b[32m----> \u001b[39m\u001b[32m1\u001b[39m \u001b[43mmy_tuple\u001b[49m\u001b[43m[\u001b[49m\u001b[32;43m0\u001b[39;49m\u001b[43m]\u001b[49m = \u001b[32m10\u001b[39m\n",
      "\u001b[31mTypeError\u001b[39m: 'tuple' object does not support item assignment"
     ]
    }
   ],
   "source": [
    "my_tuple[0] = 10"
   ]
  },
  {
   "cell_type": "markdown",
   "id": "79e7b1ec",
   "metadata": {},
   "source": [
    "You should get an error in the last cell, that's because you can't change elements of tuples."
   ]
  },
  {
   "cell_type": "markdown",
   "id": "2733c9a4",
   "metadata": {},
   "source": [
    "### <span style=\"color:teal\">Numpy arrays"
   ]
  },
  {
   "cell_type": "markdown",
   "id": "fee8c01a",
   "metadata": {},
   "source": [
    "Numpy arrays will take the role of vectors and matrices in python. They are ordered collections of objects, like lists, but there is an important constraint: all elements must be of the same type. Furthermore, if your elements are numeric, you can do numeric operations on the arrays, including matrix multiplication."
   ]
  },
  {
   "cell_type": "markdown",
   "id": "d494f67e",
   "metadata": {},
   "source": [
    "**Importing Numpy**.\n",
    "Numpy is a python package that is not imported by default, so we must import it. Chances are you already have numpy installed, so there is no need to install it. We have imported it at the top of this ipynb file."
   ]
  },
  {
   "cell_type": "code",
   "execution_count": 16,
   "id": "97e31761",
   "metadata": {},
   "outputs": [
    {
     "data": {
      "text/plain": [
       "array([1, 2, 3])"
      ]
     },
     "execution_count": 16,
     "metadata": {},
     "output_type": "execute_result"
    }
   ],
   "source": [
    "# create an array\n",
    "my_array = np.array([1,2,3])\n",
    "my_array"
   ]
  },
  {
   "cell_type": "markdown",
   "id": "afea1fa0",
   "metadata": {},
   "source": [
    "Note the object type is 'array'. If you were to print it though, it looks just like a list:"
   ]
  },
  {
   "cell_type": "code",
   "execution_count": 17,
   "id": "01496fbf",
   "metadata": {},
   "outputs": [
    {
     "name": "stdout",
     "output_type": "stream",
     "text": [
      "[1 2 3]\n"
     ]
    }
   ],
   "source": [
    "print(my_array)"
   ]
  },
  {
   "cell_type": "code",
   "execution_count": 18,
   "id": "84406bbe",
   "metadata": {},
   "outputs": [
    {
     "name": "stdout",
     "output_type": "stream",
     "text": [
      "1\n"
     ]
    }
   ],
   "source": [
    "# Index an array\n",
    "print(my_array[0])"
   ]
  },
  {
   "cell_type": "code",
   "execution_count": 19,
   "id": "3004417c",
   "metadata": {},
   "outputs": [
    {
     "name": "stdout",
     "output_type": "stream",
     "text": [
      "[2 4 6]\n"
     ]
    }
   ],
   "source": [
    "# Perform numeric computations with an array:\n",
    "print(2 * my_array)"
   ]
  },
  {
   "cell_type": "code",
   "execution_count": 20,
   "id": "6cd364ef",
   "metadata": {},
   "outputs": [
    {
     "name": "stdout",
     "output_type": "stream",
     "text": [
      "[1, 2, 3, 1, 2, 3]\n"
     ]
    }
   ],
   "source": [
    "# Compare that with a list:\n",
    "print(2 * [1,2,3])"
   ]
  },
  {
   "cell_type": "code",
   "execution_count": 21,
   "id": "8a01134f",
   "metadata": {},
   "outputs": [
    {
     "data": {
      "text/plain": [
       "array([[0, 1, 0],\n",
       "       [1, 0, 0],\n",
       "       [0, 0, 1]])"
      ]
     },
     "execution_count": 21,
     "metadata": {},
     "output_type": "execute_result"
    }
   ],
   "source": [
    "# Let's build a matrix:\n",
    "my_matrix = np.array([[0,1,0],\n",
    "                     [1,0,0],\n",
    "                     [0,0,1]])\n",
    "my_matrix"
   ]
  },
  {
   "cell_type": "code",
   "execution_count": 22,
   "id": "6d52b769",
   "metadata": {},
   "outputs": [
    {
     "data": {
      "text/plain": [
       "array([2, 1, 3])"
      ]
     },
     "execution_count": 22,
     "metadata": {},
     "output_type": "execute_result"
    }
   ],
   "source": [
    "# We can multiply arrays as if they were matrices/vectors with the matmul() method\n",
    "np.matmul(my_matrix, my_array)"
   ]
  },
  {
   "cell_type": "markdown",
   "id": "3a01bf21",
   "metadata": {},
   "source": [
    "### <span style=\"color:teal\">Pandas dataframes"
   ]
  },
  {
   "cell_type": "markdown",
   "id": "fd9d305d",
   "metadata": {},
   "source": [
    "Pandas is another package that is commonly used in python but must be imported. Pandas is mostly used to manipulate datasets, for example by subsetting. The main object in pandas is the dataframe, which is basically a table. Pandas allows you to manipulate these tables easily. When it comes to datasets, the convention is for rows to be the different observations (for example patients) and for columns to be the observed features (for example age, sex, etc.). "
   ]
  },
  {
   "cell_type": "code",
   "execution_count": 23,
   "id": "b83c1134",
   "metadata": {},
   "outputs": [
    {
     "data": {
      "text/html": [
       "<div>\n",
       "<style scoped>\n",
       "    .dataframe tbody tr th:only-of-type {\n",
       "        vertical-align: middle;\n",
       "    }\n",
       "\n",
       "    .dataframe tbody tr th {\n",
       "        vertical-align: top;\n",
       "    }\n",
       "\n",
       "    .dataframe thead th {\n",
       "        text-align: right;\n",
       "    }\n",
       "</style>\n",
       "<table border=\"1\" class=\"dataframe\">\n",
       "  <thead>\n",
       "    <tr style=\"text-align: right;\">\n",
       "      <th></th>\n",
       "      <th>0</th>\n",
       "      <th>1</th>\n",
       "    </tr>\n",
       "  </thead>\n",
       "  <tbody>\n",
       "    <tr>\n",
       "      <th>0</th>\n",
       "      <td>1</td>\n",
       "      <td>2</td>\n",
       "    </tr>\n",
       "    <tr>\n",
       "      <th>1</th>\n",
       "      <td>3</td>\n",
       "      <td>4</td>\n",
       "    </tr>\n",
       "    <tr>\n",
       "      <th>2</th>\n",
       "      <td>5</td>\n",
       "      <td>6</td>\n",
       "    </tr>\n",
       "  </tbody>\n",
       "</table>\n",
       "</div>"
      ],
      "text/plain": [
       "   0  1\n",
       "0  1  2\n",
       "1  3  4\n",
       "2  5  6"
      ]
     },
     "execution_count": 23,
     "metadata": {},
     "output_type": "execute_result"
    }
   ],
   "source": [
    "# Creating a dataframe from a list of lists\n",
    "pd.DataFrame(data = [[1,2],[3,4], [5,6]])"
   ]
  },
  {
   "cell_type": "markdown",
   "id": "d57f108d",
   "metadata": {},
   "source": [
    "Note it automatically created column headings (0,1 in this case) and row indices."
   ]
  },
  {
   "cell_type": "code",
   "execution_count": 24,
   "id": "0cb36556",
   "metadata": {},
   "outputs": [
    {
     "data": {
      "text/html": [
       "<div>\n",
       "<style scoped>\n",
       "    .dataframe tbody tr th:only-of-type {\n",
       "        vertical-align: middle;\n",
       "    }\n",
       "\n",
       "    .dataframe tbody tr th {\n",
       "        vertical-align: top;\n",
       "    }\n",
       "\n",
       "    .dataframe thead th {\n",
       "        text-align: right;\n",
       "    }\n",
       "</style>\n",
       "<table border=\"1\" class=\"dataframe\">\n",
       "  <thead>\n",
       "    <tr style=\"text-align: right;\">\n",
       "      <th></th>\n",
       "      <th>Column 1</th>\n",
       "      <th>Column 2</th>\n",
       "    </tr>\n",
       "  </thead>\n",
       "  <tbody>\n",
       "    <tr>\n",
       "      <th>0</th>\n",
       "      <td>1</td>\n",
       "      <td>2</td>\n",
       "    </tr>\n",
       "    <tr>\n",
       "      <th>1</th>\n",
       "      <td>3</td>\n",
       "      <td>4</td>\n",
       "    </tr>\n",
       "    <tr>\n",
       "      <th>2</th>\n",
       "      <td>5</td>\n",
       "      <td>6</td>\n",
       "    </tr>\n",
       "  </tbody>\n",
       "</table>\n",
       "</div>"
      ],
      "text/plain": [
       "   Column 1  Column 2\n",
       "0         1         2\n",
       "1         3         4\n",
       "2         5         6"
      ]
     },
     "execution_count": 24,
     "metadata": {},
     "output_type": "execute_result"
    }
   ],
   "source": [
    "# Creating dataframe with column names:\n",
    "pd.DataFrame(data = [[1,2],[3,4], [5,6]], columns = [\"Column 1\", \"Column 2\"])"
   ]
  },
  {
   "cell_type": "code",
   "execution_count": 25,
   "id": "d56a512f",
   "metadata": {},
   "outputs": [
    {
     "data": {
      "text/html": [
       "<div>\n",
       "<style scoped>\n",
       "    .dataframe tbody tr th:only-of-type {\n",
       "        vertical-align: middle;\n",
       "    }\n",
       "\n",
       "    .dataframe tbody tr th {\n",
       "        vertical-align: top;\n",
       "    }\n",
       "\n",
       "    .dataframe thead th {\n",
       "        text-align: right;\n",
       "    }\n",
       "</style>\n",
       "<table border=\"1\" class=\"dataframe\">\n",
       "  <thead>\n",
       "    <tr style=\"text-align: right;\">\n",
       "      <th></th>\n",
       "      <th>Column 1</th>\n",
       "      <th>Column 2</th>\n",
       "    </tr>\n",
       "  </thead>\n",
       "  <tbody>\n",
       "    <tr>\n",
       "      <th>0</th>\n",
       "      <td>1</td>\n",
       "      <td>2</td>\n",
       "    </tr>\n",
       "    <tr>\n",
       "      <th>1</th>\n",
       "      <td>3</td>\n",
       "      <td>4</td>\n",
       "    </tr>\n",
       "    <tr>\n",
       "      <th>2</th>\n",
       "      <td>4</td>\n",
       "      <td>6</td>\n",
       "    </tr>\n",
       "  </tbody>\n",
       "</table>\n",
       "</div>"
      ],
      "text/plain": [
       "   Column 1  Column 2\n",
       "0         1         2\n",
       "1         3         4\n",
       "2         4         6"
      ]
     },
     "execution_count": 25,
     "metadata": {},
     "output_type": "execute_result"
    }
   ],
   "source": [
    "# Creating dataframe from a dictionary:\n",
    "pd.DataFrame(data = {\"Column 1\": [1, 3, 4], \"Column 2\": [2,4,6]})"
   ]
  },
  {
   "cell_type": "markdown",
   "id": "563fe9ff",
   "metadata": {},
   "source": [
    "Note that with the dictionary each key-value pair is a column. In the case of nested lists, each sublist is a row."
   ]
  },
  {
   "cell_type": "code",
   "execution_count": 26,
   "id": "6707116d",
   "metadata": {},
   "outputs": [
    {
     "data": {
      "text/html": [
       "<div>\n",
       "<style scoped>\n",
       "    .dataframe tbody tr th:only-of-type {\n",
       "        vertical-align: middle;\n",
       "    }\n",
       "\n",
       "    .dataframe tbody tr th {\n",
       "        vertical-align: top;\n",
       "    }\n",
       "\n",
       "    .dataframe thead th {\n",
       "        text-align: right;\n",
       "    }\n",
       "</style>\n",
       "<table border=\"1\" class=\"dataframe\">\n",
       "  <thead>\n",
       "    <tr style=\"text-align: right;\">\n",
       "      <th></th>\n",
       "      <th>col1</th>\n",
       "      <th>col2</th>\n",
       "      <th>col3</th>\n",
       "    </tr>\n",
       "  </thead>\n",
       "  <tbody>\n",
       "    <tr>\n",
       "      <th>0</th>\n",
       "      <td>0</td>\n",
       "      <td>1</td>\n",
       "      <td>0</td>\n",
       "    </tr>\n",
       "    <tr>\n",
       "      <th>1</th>\n",
       "      <td>1</td>\n",
       "      <td>0</td>\n",
       "      <td>0</td>\n",
       "    </tr>\n",
       "    <tr>\n",
       "      <th>2</th>\n",
       "      <td>0</td>\n",
       "      <td>0</td>\n",
       "      <td>1</td>\n",
       "    </tr>\n",
       "  </tbody>\n",
       "</table>\n",
       "</div>"
      ],
      "text/plain": [
       "   col1  col2  col3\n",
       "0     0     1     0\n",
       "1     1     0     0\n",
       "2     0     0     1"
      ]
     },
     "execution_count": 26,
     "metadata": {},
     "output_type": "execute_result"
    }
   ],
   "source": [
    "# You can also use numpy arrays:\n",
    "my_matrix = np.array([[0,1,0],\n",
    "                     [1,0,0],\n",
    "                     [0,0,1]])\n",
    "\n",
    "df = pd.DataFrame(data = my_matrix, columns = [\"col1\", \"col2\", \"col3\"])\n",
    "df"
   ]
  },
  {
   "cell_type": "code",
   "execution_count": 27,
   "id": "3cfc67ab",
   "metadata": {},
   "outputs": [
    {
     "data": {
      "text/plain": [
       "0    0\n",
       "1    1\n",
       "2    0\n",
       "Name: col1, dtype: int64"
      ]
     },
     "execution_count": 27,
     "metadata": {},
     "output_type": "execute_result"
    }
   ],
   "source": [
    "# To get the columns of a dataframe, you can call the column names as you'd do with dictionaries:\n",
    "df[\"col1\"]"
   ]
  },
  {
   "cell_type": "markdown",
   "id": "d195c92b",
   "metadata": {},
   "source": [
    "This actually return a pandas *series*, which are basically single columns (the numbers on the left are the indices, not actual values). If you want to return a *dataframe*, which is often necessary, you can use double brackets:"
   ]
  },
  {
   "cell_type": "code",
   "execution_count": 28,
   "id": "e8c770c7",
   "metadata": {},
   "outputs": [
    {
     "data": {
      "text/html": [
       "<div>\n",
       "<style scoped>\n",
       "    .dataframe tbody tr th:only-of-type {\n",
       "        vertical-align: middle;\n",
       "    }\n",
       "\n",
       "    .dataframe tbody tr th {\n",
       "        vertical-align: top;\n",
       "    }\n",
       "\n",
       "    .dataframe thead th {\n",
       "        text-align: right;\n",
       "    }\n",
       "</style>\n",
       "<table border=\"1\" class=\"dataframe\">\n",
       "  <thead>\n",
       "    <tr style=\"text-align: right;\">\n",
       "      <th></th>\n",
       "      <th>col1</th>\n",
       "    </tr>\n",
       "  </thead>\n",
       "  <tbody>\n",
       "    <tr>\n",
       "      <th>0</th>\n",
       "      <td>0</td>\n",
       "    </tr>\n",
       "    <tr>\n",
       "      <th>1</th>\n",
       "      <td>1</td>\n",
       "    </tr>\n",
       "    <tr>\n",
       "      <th>2</th>\n",
       "      <td>0</td>\n",
       "    </tr>\n",
       "  </tbody>\n",
       "</table>\n",
       "</div>"
      ],
      "text/plain": [
       "   col1\n",
       "0     0\n",
       "1     1\n",
       "2     0"
      ]
     },
     "execution_count": 28,
     "metadata": {},
     "output_type": "execute_result"
    }
   ],
   "source": [
    "df[[\"col1\"]]"
   ]
  },
  {
   "cell_type": "code",
   "execution_count": 29,
   "id": "9978cd2a",
   "metadata": {},
   "outputs": [
    {
     "data": {
      "text/html": [
       "<div>\n",
       "<style scoped>\n",
       "    .dataframe tbody tr th:only-of-type {\n",
       "        vertical-align: middle;\n",
       "    }\n",
       "\n",
       "    .dataframe tbody tr th {\n",
       "        vertical-align: top;\n",
       "    }\n",
       "\n",
       "    .dataframe thead th {\n",
       "        text-align: right;\n",
       "    }\n",
       "</style>\n",
       "<table border=\"1\" class=\"dataframe\">\n",
       "  <thead>\n",
       "    <tr style=\"text-align: right;\">\n",
       "      <th></th>\n",
       "      <th>col1</th>\n",
       "      <th>col2</th>\n",
       "      <th>col3</th>\n",
       "      <th>col4</th>\n",
       "    </tr>\n",
       "  </thead>\n",
       "  <tbody>\n",
       "    <tr>\n",
       "      <th>0</th>\n",
       "      <td>0</td>\n",
       "      <td>1</td>\n",
       "      <td>0</td>\n",
       "      <td>1</td>\n",
       "    </tr>\n",
       "    <tr>\n",
       "      <th>1</th>\n",
       "      <td>1</td>\n",
       "      <td>0</td>\n",
       "      <td>0</td>\n",
       "      <td>1</td>\n",
       "    </tr>\n",
       "    <tr>\n",
       "      <th>2</th>\n",
       "      <td>0</td>\n",
       "      <td>0</td>\n",
       "      <td>1</td>\n",
       "      <td>1</td>\n",
       "    </tr>\n",
       "  </tbody>\n",
       "</table>\n",
       "</div>"
      ],
      "text/plain": [
       "   col1  col2  col3  col4\n",
       "0     0     1     0     1\n",
       "1     1     0     0     1\n",
       "2     0     0     1     1"
      ]
     },
     "execution_count": 29,
     "metadata": {},
     "output_type": "execute_result"
    }
   ],
   "source": [
    "# You can create new columns also as with dictionaries:\n",
    "df[\"col4\"] = [1,1,1]\n",
    "df"
   ]
  },
  {
   "cell_type": "code",
   "execution_count": 30,
   "id": "7445d06e",
   "metadata": {},
   "outputs": [
    {
     "data": {
      "text/html": [
       "<div>\n",
       "<style scoped>\n",
       "    .dataframe tbody tr th:only-of-type {\n",
       "        vertical-align: middle;\n",
       "    }\n",
       "\n",
       "    .dataframe tbody tr th {\n",
       "        vertical-align: top;\n",
       "    }\n",
       "\n",
       "    .dataframe thead th {\n",
       "        text-align: right;\n",
       "    }\n",
       "</style>\n",
       "<table border=\"1\" class=\"dataframe\">\n",
       "  <thead>\n",
       "    <tr style=\"text-align: right;\">\n",
       "      <th></th>\n",
       "      <th>col1</th>\n",
       "      <th>col2</th>\n",
       "      <th>col3</th>\n",
       "      <th>col4</th>\n",
       "    </tr>\n",
       "  </thead>\n",
       "  <tbody>\n",
       "    <tr>\n",
       "      <th>0</th>\n",
       "      <td>0</td>\n",
       "      <td>1</td>\n",
       "      <td>0</td>\n",
       "      <td>1</td>\n",
       "    </tr>\n",
       "    <tr>\n",
       "      <th>1</th>\n",
       "      <td>1</td>\n",
       "      <td>0</td>\n",
       "      <td>0</td>\n",
       "      <td>1</td>\n",
       "    </tr>\n",
       "    <tr>\n",
       "      <th>2</th>\n",
       "      <td>0</td>\n",
       "      <td>0</td>\n",
       "      <td>1</td>\n",
       "      <td>1</td>\n",
       "    </tr>\n",
       "  </tbody>\n",
       "</table>\n",
       "</div>"
      ],
      "text/plain": [
       "   col1  col2  col3  col4\n",
       "0     0     1     0     1\n",
       "1     1     0     0     1\n",
       "2     0     0     1     1"
      ]
     },
     "execution_count": 30,
     "metadata": {},
     "output_type": "execute_result"
    }
   ],
   "source": [
    "# If you only want to see the first few elements of your dataframe, use the .head() method:\n",
    "df.head()"
   ]
  },
  {
   "cell_type": "markdown",
   "id": "db30b087",
   "metadata": {},
   "source": [
    "In this case there is no difference bc we only have three rows, but you will see it used later with larger data."
   ]
  },
  {
   "cell_type": "markdown",
   "id": "94f2a5c5",
   "metadata": {},
   "source": [
    "## <span style = \"color:darkorchid\">Classes and Objects</span>"
   ]
  },
  {
   "cell_type": "markdown",
   "id": "0f0973cb",
   "metadata": {},
   "source": [
    "Python is very versatile. You can write function after function if you wish. However, its strength stems from **object oriented programming**. The `scikit-learn` library makes plenty of use of objects and classes, so let's take a quick review at what these are."
   ]
  },
  {
   "cell_type": "markdown",
   "id": "5f8108ac",
   "metadata": {},
   "source": [
    "Imagine you are at a high-end restaurant. Let's say you are seeing Gordon Ramsay at work. There is an executive chef, a head chef, several sous-chefs, specialized chefs (for example for roasting, for pastries, etc.), each with a team of specialists (the butcher, the grill chef, the baker, the confectioner, etc.). Here is an image I got from google images:"
   ]
  },
  {
   "cell_type": "markdown",
   "id": "af79f66c",
   "metadata": {},
   "source": [
    "![brigade](images/brigade-de-cuisine-high-speed-learning.png){width=50%}"
   ]
  },
  {
   "cell_type": "markdown",
   "id": "4f9006ab",
   "metadata": {},
   "source": [
    "Think of each of these as a type or a *class* of chefs. There are important things to note:\n",
    "<ul>\n",
    "    <li>They are all of the generic type <i>chef</i>, but some have extra skills or responsibilities.</li>\n",
    "    <li>You can have several chefs of the same class (like several sous-chefs). However, these are not the same people!</li>\n",
    "</ul>"
   ]
  },
  {
   "cell_type": "markdown",
   "id": "1b7d4835",
   "metadata": {},
   "source": [
    "Well, classes in python are something similar. It is a specified type of entity that has specific skills and attributes. Objects are the realizations of these classes. Each realization is called an *instance*. In python, the skills are called *methods*, these are actions that all instances of a class can perform. They also have *attributes* which are variables, possibly unique, that each instance has (like the names of individual chefs).\n",
    "\n",
    "We won't go further over classes but the important principle is this:\n",
    "\n",
    "When you are writing a large python code, do not think of yourself as a homecook that does everything by themselves from scratch, following each step one after another. Instead, **think of yourself as an executive chef**. First you appoint all the chefs working for you, each with predetermined skills and attributes. You think of the overall plan, and then you delegate tasks to the respective chefs (which may, in turn, delegate tasks to their respective chefs and specialists)."
   ]
  },
  {
   "cell_type": "markdown",
   "id": "bf9c3078",
   "metadata": {},
   "source": [
    "Indeed, `scikit-learn` is very similar. It has classes of classifiers, of pre-processors, of regression models, etc. Your job will not be to cook absolutely everything by yourself, but to organize things conceptually, hire your appropriate chefs, tell them what to do and trust them."
   ]
  },
  {
   "cell_type": "markdown",
   "id": "e2140183",
   "metadata": {},
   "source": [
    "### <span style=\"color:teal\">Syntax for class instances"
   ]
  },
  {
   "cell_type": "markdown",
   "id": "80d07959",
   "metadata": {},
   "source": [
    "We already encountered several classes: lists, dictionaries, tuples, numpy arrays and pandas dataframes. Let's review class syntax with pandas drataframes:"
   ]
  },
  {
   "cell_type": "markdown",
   "id": "80d739a1",
   "metadata": {},
   "source": [
    "**The Pandas DataFrame object**"
   ]
  },
  {
   "cell_type": "code",
   "execution_count": 31,
   "id": "98eec862",
   "metadata": {},
   "outputs": [],
   "source": [
    "# To create the instance of a class:\n",
    "df_instance = pd.DataFrame(data=[1,2,3,4,5,6,7,8,9,10])"
   ]
  },
  {
   "cell_type": "code",
   "execution_count": 32,
   "id": "5b2cf245",
   "metadata": {},
   "outputs": [
    {
     "data": {
      "text/plain": [
       "pandas.core.frame.DataFrame"
      ]
     },
     "execution_count": 32,
     "metadata": {},
     "output_type": "execute_result"
    }
   ],
   "source": [
    "# Check what the class of our new object is\n",
    "type(df_instance)"
   ]
  },
  {
   "cell_type": "markdown",
   "id": "b6438f00",
   "metadata": {},
   "source": [
    "Attributes"
   ]
  },
  {
   "cell_type": "code",
   "execution_count": 33,
   "id": "796797e3",
   "metadata": {},
   "outputs": [
    {
     "data": {
      "text/plain": [
       "(10, 1)"
      ]
     },
     "execution_count": 33,
     "metadata": {},
     "output_type": "execute_result"
    }
   ],
   "source": [
    "# Your object can return its own data/attributes to you. For that use the dot syntax:\n",
    "df_instance.shape"
   ]
  },
  {
   "cell_type": "markdown",
   "id": "66a3706a",
   "metadata": {},
   "source": [
    "Methods"
   ]
  },
  {
   "cell_type": "code",
   "execution_count": 34,
   "id": "a0d66b44",
   "metadata": {},
   "outputs": [
    {
     "data": {
      "text/html": [
       "<div>\n",
       "<style scoped>\n",
       "    .dataframe tbody tr th:only-of-type {\n",
       "        vertical-align: middle;\n",
       "    }\n",
       "\n",
       "    .dataframe tbody tr th {\n",
       "        vertical-align: top;\n",
       "    }\n",
       "\n",
       "    .dataframe thead th {\n",
       "        text-align: right;\n",
       "    }\n",
       "</style>\n",
       "<table border=\"1\" class=\"dataframe\">\n",
       "  <thead>\n",
       "    <tr style=\"text-align: right;\">\n",
       "      <th></th>\n",
       "      <th>0</th>\n",
       "    </tr>\n",
       "  </thead>\n",
       "  <tbody>\n",
       "    <tr>\n",
       "      <th>0</th>\n",
       "      <td>1</td>\n",
       "    </tr>\n",
       "    <tr>\n",
       "      <th>1</th>\n",
       "      <td>2</td>\n",
       "    </tr>\n",
       "    <tr>\n",
       "      <th>2</th>\n",
       "      <td>3</td>\n",
       "    </tr>\n",
       "    <tr>\n",
       "      <th>3</th>\n",
       "      <td>4</td>\n",
       "    </tr>\n",
       "    <tr>\n",
       "      <th>4</th>\n",
       "      <td>5</td>\n",
       "    </tr>\n",
       "  </tbody>\n",
       "</table>\n",
       "</div>"
      ],
      "text/plain": [
       "   0\n",
       "0  1\n",
       "1  2\n",
       "2  3\n",
       "3  4\n",
       "4  5"
      ]
     },
     "execution_count": 34,
     "metadata": {},
     "output_type": "execute_result"
    }
   ],
   "source": [
    "# Your object can also perform actions (methods). Use dot plus parentheses:\n",
    "df_instance.head()"
   ]
  },
  {
   "cell_type": "code",
   "execution_count": 35,
   "id": "33a06feb",
   "metadata": {},
   "outputs": [
    {
     "data": {
      "text/plain": [
       "0    55\n",
       "dtype: int64"
      ]
     },
     "execution_count": 35,
     "metadata": {},
     "output_type": "execute_result"
    }
   ],
   "source": [
    "# A method with an argument:\n",
    "df_instance.apply(sum)"
   ]
  },
  {
   "cell_type": "markdown",
   "id": "5421d6a5",
   "metadata": {},
   "source": [
    "**An imaginary ChefClass object**"
   ]
  },
  {
   "cell_type": "markdown",
   "id": "b3f9b86c",
   "metadata": {},
   "source": [
    "If we were to have a `ChefClass` as in our example above, we would create instances, obtain attributes, and call methods in the following manner."
   ]
  },
  {
   "cell_type": "markdown",
   "id": "61d68201",
   "metadata": {},
   "source": [
    "```python\n",
    "# If you already have a class called ChefClass, you can create an instance like this:\n",
    "chef = ChefClass()\n",
    "\n",
    "# You can obtain attributes using a period:\n",
    "chef.specialty\n",
    "\n",
    "# You call a method (ask it to perform a skill) using a period and parenthesis, as if it were a function call:\n",
    "chef.cook()\n",
    "```"
   ]
  },
  {
   "cell_type": "markdown",
   "id": "3d2a802c",
   "metadata": {},
   "source": [
    "These are the three main ingredients of python objects:\n",
    "1. Create an instance: `x = ClassName()`\n",
    "2. Obtain internal data: `x.some_attribute`\n",
    "3. Perform an action: `x.some_method()`"
   ]
  },
  {
   "cell_type": "markdown",
   "id": "b9a8c2f7",
   "metadata": {},
   "source": [
    "**Scikit-learn objects**\n",
    "\n",
    "I emphasize the three points above because we will be using them a lot with `sklearn`. You will see a similar recipe as above, we create instances of `sklearn` objects, we make them perform an action, and then we obtain data from it.\n",
    "\n",
    "This will become clearer with examples, but keep it in mind!"
   ]
  },
  {
   "cell_type": "markdown",
   "id": "172c318c",
   "metadata": {},
   "source": [
    "And on to `scikit-learn`!"
   ]
  }
 ],
 "metadata": {
  "author": "efrén cruz cortés",
  "kernelspec": {
   "display_name": ".venv",
   "language": "python",
   "name": "python3"
  },
  "language_info": {
   "codemirror_mode": {
    "name": "ipython",
    "version": 3
   },
   "file_extension": ".py",
   "mimetype": "text/x-python",
   "name": "python",
   "nbconvert_exporter": "python",
   "pygments_lexer": "ipython3",
   "version": "3.11.5"
  }
 },
 "nbformat": 4,
 "nbformat_minor": 5
}
