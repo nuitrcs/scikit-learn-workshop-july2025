{
 "cells": [
  {
   "cell_type": "markdown",
   "id": "ea0546e5",
   "metadata": {},
   "source": [
    "# <span style = \"color:rebeccapurple\"> Datasets</span>"
   ]
  },
  {
   "cell_type": "markdown",
   "id": "c8f1c99d",
   "metadata": {},
   "source": [
    "<span style=\"text-transform: uppercase;\n",
    "        font-size: 14px;\n",
    "        letter-spacing: 1px;\n",
    "        font-family: 'Segoe UI', sans-serif;\">\n",
    "    Author\n",
    "</span><br>\n",
    "efrén cruz cortés\n",
    "<hr style=\"border: none; height: 1px; background: linear-gradient(to right, transparent 0%, #ccc 10%, transparent 100%); margin-top: 10px;\">"
   ]
  },
  {
   "cell_type": "markdown",
   "id": "919ab6c3",
   "metadata": {},
   "source": [
    "**Main points**\n",
    "- `sklearn.datasets` allows you to get datasets from sklearn\n",
    "- Datasets come with a variety of metadata\n",
    "- Datasets can be numpy arrays of pandas dataframes"
   ]
  },
  {
   "cell_type": "markdown",
   "id": "58e59af9",
   "metadata": {},
   "source": [
    "## <span style = \"color:darkorchid\"> Imports"
   ]
  },
  {
   "cell_type": "markdown",
   "id": "6b729c28",
   "metadata": {},
   "source": [
    "First, as with all scripts, let's import all the modules we will use for this workshop. `scikit-learn` is referred to as `sklearn`, pronounced \"S - K - Learn\"."
   ]
  },
  {
   "cell_type": "code",
   "execution_count": 1,
   "id": "bb753052",
   "metadata": {},
   "outputs": [],
   "source": [
    "# Scikit-learn specifics:\n",
    "from sklearn import datasets\n",
    "\n",
    "# Helper modules\n",
    "import pandas as pd"
   ]
  },
  {
   "cell_type": "markdown",
   "id": "c0677729",
   "metadata": {},
   "source": [
    "<span style=\"color:red\">**Warning**</span>\n",
    "\n",
    "`datasets` here is a module of the `sklearn` library. However, there is another standalone module called datasets, maintained by HuggingFace. These are unrelated, so remember when you are using sklearn.datasets and when you are using HF's datasets."
   ]
  },
  {
   "cell_type": "markdown",
   "id": "c5bfe705",
   "metadata": {},
   "source": [
    "We will obtain data in two ways: through `scikit-learn`, which gets the datasets from their website, and using `pandas` to load our own datasets."
   ]
  },
  {
   "cell_type": "markdown",
   "id": "13ab02fb",
   "metadata": {},
   "source": [
    "## <span style = \"color:darkorchid\"> Loading Data with scikit-learn"
   ]
  },
  {
   "cell_type": "markdown",
   "id": "cb969852",
   "metadata": {},
   "source": [
    "`scikit-learn` contains some toy datasets you can load directly from them. We will be using a couple of those in this tutorial. It requires the `datasets` module, which we already imported above."
   ]
  },
  {
   "cell_type": "markdown",
   "id": "791b08fe",
   "metadata": {},
   "source": [
    "**Alice Collects Diabetes Data**\n",
    "\n",
    "![alice-test-tube](images/alice_test_tube_v2_cropped.png){width=35%}"
   ]
  },
  {
   "cell_type": "code",
   "execution_count": 2,
   "id": "d818a33a",
   "metadata": {},
   "outputs": [],
   "source": [
    "# Loading diabetes dataset\n",
    "diabetes = datasets.load_diabetes()"
   ]
  },
  {
   "cell_type": "markdown",
   "id": "48909838",
   "metadata": {},
   "source": [
    "A dataset will not be just the raw data, it includes some metadata also, let's do a quick exploration. First, turns out sklearn datasets are \"Bunch\" types."
   ]
  },
  {
   "cell_type": "code",
   "execution_count": 3,
   "id": "db1ca502",
   "metadata": {},
   "outputs": [
    {
     "data": {
      "text/plain": [
       "sklearn.utils._bunch.Bunch"
      ]
     },
     "execution_count": 3,
     "metadata": {},
     "output_type": "execute_result"
    }
   ],
   "source": [
    "type(diabetes)"
   ]
  },
  {
   "cell_type": "markdown",
   "id": "e723a4d5",
   "metadata": {},
   "source": [
    "These are dictionary-like objects. We can see what they contain by looking at the keys:"
   ]
  },
  {
   "cell_type": "code",
   "execution_count": 4,
   "id": "e994c257",
   "metadata": {},
   "outputs": [
    {
     "data": {
      "text/plain": [
       "dict_keys(['data', 'target', 'frame', 'DESCR', 'feature_names', 'data_filename', 'target_filename', 'data_module'])"
      ]
     },
     "execution_count": 4,
     "metadata": {},
     "output_type": "execute_result"
    }
   ],
   "source": [
    "# What type of object is diabetes?\n",
    "diabetes.keys()"
   ]
  },
  {
   "cell_type": "markdown",
   "id": "a759052f",
   "metadata": {},
   "source": [
    "The data itself will be in `data` and in `target`. But let's take a quick look at other aspects of this dataset."
   ]
  },
  {
   "cell_type": "markdown",
   "id": "2eb500ed",
   "metadata": {},
   "source": [
    "The `DESCR` key contains a description of the dataset. It is a long string, so use it with the `print()` function:"
   ]
  },
  {
   "cell_type": "code",
   "execution_count": 5,
   "id": "beba43f9",
   "metadata": {},
   "outputs": [
    {
     "name": "stdout",
     "output_type": "stream",
     "text": [
      ".. _diabetes_dataset:\n",
      "\n",
      "Diabetes dataset\n",
      "----------------\n",
      "\n",
      "Ten baseline variables, age, sex, body mass index, average blood\n",
      "pressure, and six blood serum measurements were obtained for each of n =\n",
      "442 diabetes patients, as well as the response of interest, a\n",
      "quantitative measure of disease progression one year after baseline.\n",
      "\n",
      "**Data Set Characteristics:**\n",
      "\n",
      ":Number of Instances: 442\n",
      "\n",
      ":Number of Attributes: First 10 columns are numeric predictive values\n",
      "\n",
      ":Target: Column 11 is a quantitative measure of disease progression one year after baseline\n",
      "\n",
      ":Attribute Information:\n",
      "    - age     age in years\n",
      "    - sex\n",
      "    - bmi     body mass index\n",
      "    - bp      average blood pressure\n",
      "    - s1      tc, total serum cholesterol\n",
      "    - s2      ldl, low-density lipoproteins\n",
      "    - s3      hdl, high-density lipoproteins\n",
      "    - s4      tch, total cholesterol / HDL\n",
      "    - s5      ltg, possibly log of serum triglycerides level\n",
      "    - s6      glu, blood sugar level\n",
      "\n",
      "Note: Each of these 10 feature variables have been mean centered and scaled by the standard deviation times the square root of `n_samples` (i.e. the sum of squares of each column totals 1).\n",
      "\n",
      "Source URL:\n",
      "https://www4.stat.ncsu.edu/~boos/var.select/diabetes.html\n",
      "\n",
      "For more information see:\n",
      "Bradley Efron, Trevor Hastie, Iain Johnstone and Robert Tibshirani (2004) \"Least Angle Regression,\" Annals of Statistics (with discussion), 407-499.\n",
      "(https://web.stanford.edu/~hastie/Papers/LARS/LeastAngle_2002.pdf)\n",
      "\n"
     ]
    }
   ],
   "source": [
    "print(diabetes.DESCR)"
   ]
  },
  {
   "cell_type": "markdown",
   "id": "ba46620e",
   "metadata": {},
   "source": [
    "**Note**\n",
    "\n",
    "We can obtain the elements of a dataset either by key name, as in dictionaries, or as if they were class attributes. For example, for `feature_names`:"
   ]
  },
  {
   "cell_type": "code",
   "execution_count": 6,
   "id": "8316bf0c",
   "metadata": {},
   "outputs": [
    {
     "data": {
      "text/plain": [
       "['age', 'sex', 'bmi', 'bp', 's1', 's2', 's3', 's4', 's5', 's6']"
      ]
     },
     "execution_count": 6,
     "metadata": {},
     "output_type": "execute_result"
    }
   ],
   "source": [
    "# Dictionary syntax:\n",
    "diabetes['feature_names']"
   ]
  },
  {
   "cell_type": "code",
   "execution_count": 7,
   "id": "ac86905d",
   "metadata": {},
   "outputs": [
    {
     "data": {
      "text/plain": [
       "['age', 'sex', 'bmi', 'bp', 's1', 's2', 's3', 's4', 's5', 's6']"
      ]
     },
     "execution_count": 7,
     "metadata": {},
     "output_type": "execute_result"
    }
   ],
   "source": [
    "# Attribute syntax:\n",
    "diabetes.feature_names"
   ]
  },
  {
   "cell_type": "markdown",
   "id": "242b3ad9",
   "metadata": {},
   "source": [
    "Now for what we came for: the `data` object.\n",
    "\n",
    "By default, it is returned as a numpy array:"
   ]
  },
  {
   "cell_type": "code",
   "execution_count": 8,
   "id": "fa433011",
   "metadata": {},
   "outputs": [
    {
     "data": {
      "text/plain": [
       "array([[ 0.03807591,  0.05068012,  0.06169621, ..., -0.00259226,\n",
       "         0.01990749, -0.01764613],\n",
       "       [-0.00188202, -0.04464164, -0.05147406, ..., -0.03949338,\n",
       "        -0.06833155, -0.09220405],\n",
       "       [ 0.08529891,  0.05068012,  0.04445121, ..., -0.00259226,\n",
       "         0.00286131, -0.02593034],\n",
       "       ...,\n",
       "       [ 0.04170844,  0.05068012, -0.01590626, ..., -0.01107952,\n",
       "        -0.04688253,  0.01549073],\n",
       "       [-0.04547248, -0.04464164,  0.03906215, ...,  0.02655962,\n",
       "         0.04452873, -0.02593034],\n",
       "       [-0.04547248, -0.04464164, -0.0730303 , ..., -0.03949338,\n",
       "        -0.00422151,  0.00306441]], shape=(442, 10))"
      ]
     },
     "execution_count": 8,
     "metadata": {},
     "output_type": "execute_result"
    }
   ],
   "source": [
    "# Default datasets: arrays\n",
    "diabetes.data"
   ]
  },
  {
   "cell_type": "markdown",
   "id": "abbfbb22",
   "metadata": {},
   "source": [
    "But you can also ask for it to be a pandas dataframe:"
   ]
  },
  {
   "cell_type": "code",
   "execution_count": 9,
   "id": "470d90d2",
   "metadata": {},
   "outputs": [
    {
     "data": {
      "text/html": [
       "<div>\n",
       "<style scoped>\n",
       "    .dataframe tbody tr th:only-of-type {\n",
       "        vertical-align: middle;\n",
       "    }\n",
       "\n",
       "    .dataframe tbody tr th {\n",
       "        vertical-align: top;\n",
       "    }\n",
       "\n",
       "    .dataframe thead th {\n",
       "        text-align: right;\n",
       "    }\n",
       "</style>\n",
       "<table border=\"1\" class=\"dataframe\">\n",
       "  <thead>\n",
       "    <tr style=\"text-align: right;\">\n",
       "      <th></th>\n",
       "      <th>age</th>\n",
       "      <th>sex</th>\n",
       "      <th>bmi</th>\n",
       "      <th>bp</th>\n",
       "      <th>s1</th>\n",
       "      <th>s2</th>\n",
       "      <th>s3</th>\n",
       "      <th>s4</th>\n",
       "      <th>s5</th>\n",
       "      <th>s6</th>\n",
       "    </tr>\n",
       "  </thead>\n",
       "  <tbody>\n",
       "    <tr>\n",
       "      <th>0</th>\n",
       "      <td>0.038076</td>\n",
       "      <td>0.050680</td>\n",
       "      <td>0.061696</td>\n",
       "      <td>0.021872</td>\n",
       "      <td>-0.044223</td>\n",
       "      <td>-0.034821</td>\n",
       "      <td>-0.043401</td>\n",
       "      <td>-0.002592</td>\n",
       "      <td>0.019907</td>\n",
       "      <td>-0.017646</td>\n",
       "    </tr>\n",
       "    <tr>\n",
       "      <th>1</th>\n",
       "      <td>-0.001882</td>\n",
       "      <td>-0.044642</td>\n",
       "      <td>-0.051474</td>\n",
       "      <td>-0.026328</td>\n",
       "      <td>-0.008449</td>\n",
       "      <td>-0.019163</td>\n",
       "      <td>0.074412</td>\n",
       "      <td>-0.039493</td>\n",
       "      <td>-0.068332</td>\n",
       "      <td>-0.092204</td>\n",
       "    </tr>\n",
       "    <tr>\n",
       "      <th>2</th>\n",
       "      <td>0.085299</td>\n",
       "      <td>0.050680</td>\n",
       "      <td>0.044451</td>\n",
       "      <td>-0.005670</td>\n",
       "      <td>-0.045599</td>\n",
       "      <td>-0.034194</td>\n",
       "      <td>-0.032356</td>\n",
       "      <td>-0.002592</td>\n",
       "      <td>0.002861</td>\n",
       "      <td>-0.025930</td>\n",
       "    </tr>\n",
       "    <tr>\n",
       "      <th>3</th>\n",
       "      <td>-0.089063</td>\n",
       "      <td>-0.044642</td>\n",
       "      <td>-0.011595</td>\n",
       "      <td>-0.036656</td>\n",
       "      <td>0.012191</td>\n",
       "      <td>0.024991</td>\n",
       "      <td>-0.036038</td>\n",
       "      <td>0.034309</td>\n",
       "      <td>0.022688</td>\n",
       "      <td>-0.009362</td>\n",
       "    </tr>\n",
       "    <tr>\n",
       "      <th>4</th>\n",
       "      <td>0.005383</td>\n",
       "      <td>-0.044642</td>\n",
       "      <td>-0.036385</td>\n",
       "      <td>0.021872</td>\n",
       "      <td>0.003935</td>\n",
       "      <td>0.015596</td>\n",
       "      <td>0.008142</td>\n",
       "      <td>-0.002592</td>\n",
       "      <td>-0.031988</td>\n",
       "      <td>-0.046641</td>\n",
       "    </tr>\n",
       "  </tbody>\n",
       "</table>\n",
       "</div>"
      ],
      "text/plain": [
       "        age       sex       bmi        bp        s1        s2        s3  \\\n",
       "0  0.038076  0.050680  0.061696  0.021872 -0.044223 -0.034821 -0.043401   \n",
       "1 -0.001882 -0.044642 -0.051474 -0.026328 -0.008449 -0.019163  0.074412   \n",
       "2  0.085299  0.050680  0.044451 -0.005670 -0.045599 -0.034194 -0.032356   \n",
       "3 -0.089063 -0.044642 -0.011595 -0.036656  0.012191  0.024991 -0.036038   \n",
       "4  0.005383 -0.044642 -0.036385  0.021872  0.003935  0.015596  0.008142   \n",
       "\n",
       "         s4        s5        s6  \n",
       "0 -0.002592  0.019907 -0.017646  \n",
       "1 -0.039493 -0.068332 -0.092204  \n",
       "2 -0.002592  0.002861 -0.025930  \n",
       "3  0.034309  0.022688 -0.009362  \n",
       "4 -0.002592 -0.031988 -0.046641  "
      ]
     },
     "execution_count": 9,
     "metadata": {},
     "output_type": "execute_result"
    }
   ],
   "source": [
    "diabetes_df = datasets.load_diabetes(as_frame = True)\n",
    "diabetes_df.data.head()"
   ]
  },
  {
   "cell_type": "code",
   "execution_count": 10,
   "id": "72088c97",
   "metadata": {},
   "outputs": [
    {
     "data": {
      "text/plain": [
       "0    151.0\n",
       "1     75.0\n",
       "2    141.0\n",
       "3    206.0\n",
       "4    135.0\n",
       "Name: target, dtype: float64"
      ]
     },
     "execution_count": 10,
     "metadata": {},
     "output_type": "execute_result"
    }
   ],
   "source": [
    "# The prediction target comes as a separate element:\n",
    "diabetes_df.target.head()"
   ]
  },
  {
   "cell_type": "markdown",
   "id": "94a1c6a4",
   "metadata": {},
   "source": [
    "`scikit-learn` has other \"not toy\" datasets you can obtain but which we won't go into. You can find more about them <a href = \"https://scikit-learn.org/stable/datasets.html\" target = \"blank_\">here</a>"
   ]
  },
  {
   "cell_type": "markdown",
   "id": "0b03098c",
   "metadata": {},
   "source": [
    "#### <span style = \"color:red\"> EXERCISE"
   ]
  },
  {
   "cell_type": "markdown",
   "id": "1802c9a9",
   "metadata": {},
   "source": [
    "**Bo's Field Data Collection**\n",
    "\n",
    "![bo-iris](images/bo_iris_cropped.png){width=35%}"
   ]
  },
  {
   "cell_type": "markdown",
   "id": "269d4a97",
   "metadata": {},
   "source": [
    "`scikit-learn` has an \"iris\" dataset. Based on how we loaded \"diabetes\", can you guess how you can load \"iris\"?\n",
    "1. Load iris, use the `as_frame` argument.\n",
    "2. Show the keys so you know how it is structured.\n",
    "3. Print the description of the dataset\n",
    "4. Show the target names.\n",
    "5. Obtain the feature data and the target data.\n",
    "6. Show the first few rows of the feature data.\n",
    "7. Show the full target vector."
   ]
  },
  {
   "cell_type": "code",
   "execution_count": null,
   "id": "3c564524",
   "metadata": {},
   "outputs": [],
   "source": [
    "# Load iris\n"
   ]
  },
  {
   "cell_type": "code",
   "execution_count": null,
   "id": "8be6cbed",
   "metadata": {},
   "outputs": [],
   "source": [
    "# Show keys\n"
   ]
  },
  {
   "cell_type": "code",
   "execution_count": null,
   "id": "661b42f5",
   "metadata": {},
   "outputs": [],
   "source": [
    "# Print description\n"
   ]
  },
  {
   "cell_type": "code",
   "execution_count": null,
   "id": "b6c1d840",
   "metadata": {},
   "outputs": [],
   "source": [
    "# Show labels (target names)\n"
   ]
  },
  {
   "cell_type": "code",
   "execution_count": null,
   "id": "378e448e",
   "metadata": {},
   "outputs": [],
   "source": [
    "# Get feature data\n"
   ]
  },
  {
   "cell_type": "code",
   "execution_count": null,
   "id": "c2d31823",
   "metadata": {},
   "outputs": [],
   "source": [
    "# Get target data\n"
   ]
  },
  {
   "cell_type": "code",
   "execution_count": null,
   "id": "3a6ce8c1",
   "metadata": {},
   "outputs": [],
   "source": [
    "# Show first few rows of features (predictive data)\n"
   ]
  },
  {
   "cell_type": "code",
   "execution_count": null,
   "id": "a9d9f6f7",
   "metadata": {},
   "outputs": [],
   "source": [
    "# Show target\n"
   ]
  },
  {
   "cell_type": "markdown",
   "id": "c945439a",
   "metadata": {},
   "source": [
    "## <span style = \"color:darkorchid\">Loading our own data"
   ]
  },
  {
   "cell_type": "markdown",
   "id": "af812755",
   "metadata": {},
   "source": [
    "<b>NOTE</b> If you are using Google Colab, instead of working on your own computer, you'll need to load the datasets onto Colab as follows:"
   ]
  },
  {
   "cell_type": "code",
   "execution_count": 11,
   "id": "65aff446",
   "metadata": {},
   "outputs": [],
   "source": [
    "# For COLAB USERS only: change the variable below to 1\n",
    "get_file_yn = 0\n",
    "if get_file_yn:\n",
    "    !wget https://raw.githubusercontent.com/efren-cc/scikit-learn-workshop/main/data/penguins.csv\n",
    "    !wget https://raw.githubusercontent.com/efren-cc/scikit-learn-workshop/main/data/fish.csv"
   ]
  },
  {
   "cell_type": "markdown",
   "id": "dd6bb0be",
   "metadata": {},
   "source": [
    "Let's load the \"penguins\" dataset from our \"data\" folder using pandas. Remember we imported pandas as pd above."
   ]
  },
  {
   "cell_type": "code",
   "execution_count": 12,
   "id": "6ee45912",
   "metadata": {},
   "outputs": [],
   "source": [
    "penguins_df = pd.read_csv(\"data/penguins.csv\")"
   ]
  },
  {
   "cell_type": "code",
   "execution_count": 13,
   "id": "894ce06c",
   "metadata": {},
   "outputs": [
    {
     "data": {
      "text/html": [
       "<div>\n",
       "<style scoped>\n",
       "    .dataframe tbody tr th:only-of-type {\n",
       "        vertical-align: middle;\n",
       "    }\n",
       "\n",
       "    .dataframe tbody tr th {\n",
       "        vertical-align: top;\n",
       "    }\n",
       "\n",
       "    .dataframe thead th {\n",
       "        text-align: right;\n",
       "    }\n",
       "</style>\n",
       "<table border=\"1\" class=\"dataframe\">\n",
       "  <thead>\n",
       "    <tr style=\"text-align: right;\">\n",
       "      <th></th>\n",
       "      <th>species</th>\n",
       "      <th>island</th>\n",
       "      <th>bill_length_mm</th>\n",
       "      <th>bill_depth_mm</th>\n",
       "      <th>flipper_length_mm</th>\n",
       "      <th>body_mass_g</th>\n",
       "      <th>sex</th>\n",
       "      <th>year</th>\n",
       "    </tr>\n",
       "  </thead>\n",
       "  <tbody>\n",
       "    <tr>\n",
       "      <th>0</th>\n",
       "      <td>Adelie</td>\n",
       "      <td>Torgersen</td>\n",
       "      <td>39.1</td>\n",
       "      <td>18.7</td>\n",
       "      <td>181.0</td>\n",
       "      <td>3750.0</td>\n",
       "      <td>male</td>\n",
       "      <td>2007</td>\n",
       "    </tr>\n",
       "    <tr>\n",
       "      <th>1</th>\n",
       "      <td>Adelie</td>\n",
       "      <td>Torgersen</td>\n",
       "      <td>39.5</td>\n",
       "      <td>17.4</td>\n",
       "      <td>186.0</td>\n",
       "      <td>3800.0</td>\n",
       "      <td>female</td>\n",
       "      <td>2007</td>\n",
       "    </tr>\n",
       "    <tr>\n",
       "      <th>2</th>\n",
       "      <td>Adelie</td>\n",
       "      <td>Torgersen</td>\n",
       "      <td>40.3</td>\n",
       "      <td>18.0</td>\n",
       "      <td>195.0</td>\n",
       "      <td>3250.0</td>\n",
       "      <td>female</td>\n",
       "      <td>2007</td>\n",
       "    </tr>\n",
       "    <tr>\n",
       "      <th>3</th>\n",
       "      <td>Adelie</td>\n",
       "      <td>Torgersen</td>\n",
       "      <td>36.7</td>\n",
       "      <td>19.3</td>\n",
       "      <td>193.0</td>\n",
       "      <td>3450.0</td>\n",
       "      <td>female</td>\n",
       "      <td>2007</td>\n",
       "    </tr>\n",
       "    <tr>\n",
       "      <th>4</th>\n",
       "      <td>Adelie</td>\n",
       "      <td>Torgersen</td>\n",
       "      <td>39.3</td>\n",
       "      <td>20.6</td>\n",
       "      <td>190.0</td>\n",
       "      <td>3650.0</td>\n",
       "      <td>male</td>\n",
       "      <td>2007</td>\n",
       "    </tr>\n",
       "  </tbody>\n",
       "</table>\n",
       "</div>"
      ],
      "text/plain": [
       "  species     island  bill_length_mm  bill_depth_mm  flipper_length_mm  \\\n",
       "0  Adelie  Torgersen            39.1           18.7              181.0   \n",
       "1  Adelie  Torgersen            39.5           17.4              186.0   \n",
       "2  Adelie  Torgersen            40.3           18.0              195.0   \n",
       "3  Adelie  Torgersen            36.7           19.3              193.0   \n",
       "4  Adelie  Torgersen            39.3           20.6              190.0   \n",
       "\n",
       "   body_mass_g     sex  year  \n",
       "0       3750.0    male  2007  \n",
       "1       3800.0  female  2007  \n",
       "2       3250.0  female  2007  \n",
       "3       3450.0  female  2007  \n",
       "4       3650.0    male  2007  "
      ]
     },
     "execution_count": 13,
     "metadata": {},
     "output_type": "execute_result"
    }
   ],
   "source": [
    "penguins_df.head()"
   ]
  },
  {
   "cell_type": "markdown",
   "id": "bb08d1b1",
   "metadata": {},
   "source": [
    "<b>Summary:</b> If we have our own .csv data, we can load it using the pandas `.read_csv()` method. scikit-learn also has toy datasets we can play with, in our case we used `load_diabetes()` to obtain the diabetes dataset, but others are available. See the full list <a href = \"https://scikit-learn.org/stable/datasets/toy_dataset.html\" target = \"_blank\">here</a>."
   ]
  },
  {
   "cell_type": "markdown",
   "id": "64bea5bc",
   "metadata": {},
   "source": [
    "#### <span style = \"color:red\"> EXERCISE"
   ]
  },
  {
   "cell_type": "markdown",
   "id": "2ec44fc4",
   "metadata": {},
   "source": [
    "1. Load the fish dataset from our data folder as a pandas dataframe.\n",
    "2. Visualize the first few rows.\n",
    "3. Make a new dataframe with only the \"weight\" column.\n",
    "4. Drop the weight column from the original dataframe, make sure the change is permanent."
   ]
  },
  {
   "cell_type": "code",
   "execution_count": null,
   "id": "625aabb2",
   "metadata": {},
   "outputs": [],
   "source": [
    "# Read fish dataset\n"
   ]
  },
  {
   "cell_type": "code",
   "execution_count": null,
   "id": "8fd4da8a",
   "metadata": {},
   "outputs": [],
   "source": [
    "# Show first few rows\n"
   ]
  },
  {
   "cell_type": "code",
   "execution_count": null,
   "id": "6426f20a",
   "metadata": {},
   "outputs": [],
   "source": [
    "# Make new dataframe with only weigth column\n"
   ]
  },
  {
   "cell_type": "code",
   "execution_count": null,
   "id": "0b2dfa58",
   "metadata": {},
   "outputs": [],
   "source": [
    "# Make new dataframe without weight column. Hint: .drop() method.\n"
   ]
  }
 ],
 "metadata": {
  "author": "efrén cruz cortés",
  "kernelspec": {
   "display_name": "scikit-learn-workshop",
   "language": "python",
   "name": "python3"
  },
  "language_info": {
   "codemirror_mode": {
    "name": "ipython",
    "version": 3
   },
   "file_extension": ".py",
   "mimetype": "text/x-python",
   "name": "python",
   "nbconvert_exporter": "python",
   "pygments_lexer": "ipython3",
   "version": "3.11.5"
  }
 },
 "nbformat": 4,
 "nbformat_minor": 5
}
