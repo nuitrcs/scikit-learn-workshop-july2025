{
 "cells": [
  {
   "cell_type": "markdown",
   "id": "3da0ca59",
   "metadata": {},
   "source": [
    "<h1 style=\"color: rebeccapurple;\">Evaluation – A Quick Detour</h1>\n",
    "<span style=\"text-transform: uppercase;\n",
    "        font-size: 14px;\n",
    "        letter-spacing: 1px;\n",
    "        font-family: 'Segoe UI', sans-serif;\">\n",
    "    Author\n",
    "</span><br>\n",
    "efrén cruz cortés\n",
    "<hr style=\"border: none; height: 1px; background: linear-gradient(to right, transparent 0%, #ccc 10%, transparent 100%); margin-top: 10px;\">"
   ]
  },
  {
   "cell_type": "markdown",
   "id": "326c0ed4",
   "metadata": {},
   "source": [
    "So far we have seen two tasks:\n",
    "- Regression\n",
    "- Classification\n",
    "\n",
    "For regression, we evaluated our result based on the coefficient of determination $R^2$. For classification we evaluated using the proportion of correct predictions (accuracy). Let's take a closer look at evaluation metrics. We will focus on classification as it is likely you're less familiar with it."
   ]
  },
  {
   "cell_type": "markdown",
   "id": "e4552096",
   "metadata": {},
   "source": [
    "Evaluation is important to compare how different models perform on the same task, or to choose the best hyperparameters for a given model. Soon we will learn about `cross-validation`, where evaluation plays an important role."
   ]
  },
  {
   "cell_type": "markdown",
   "id": "0b08f3d4",
   "metadata": {},
   "source": [
    "## <span style=\"color:darkorchid\"> Imports"
   ]
  },
  {
   "cell_type": "code",
   "execution_count": 1,
   "id": "461688c7",
   "metadata": {},
   "outputs": [],
   "source": [
    "# Scikit-learn specifics:\n",
    "from sklearn import datasets\n",
    "from sklearn import metrics\n",
    "from sklearn.pipeline import Pipeline\n",
    "from sklearn import preprocessing\n",
    "from sklearn.model_selection import train_test_split\n",
    "from sklearn import svm\n",
    "\n",
    "# Helper modules\n",
    "import pandas as pd\n",
    "import matplotlib.pyplot as plt\n",
    "import numpy as np"
   ]
  },
  {
   "cell_type": "markdown",
   "id": "93073d1b",
   "metadata": {},
   "source": [
    "## <span style=\"color:darkorchid\"> Classification Metrics"
   ]
  },
  {
   "cell_type": "markdown",
   "id": "a1109440",
   "metadata": {},
   "source": [
    "To simplify our discussion, we will first focus on binary classification. The extension to multi-class classification is fairly straighforward, and we'll talk about it at the end."
   ]
  },
  {
   "cell_type": "markdown",
   "id": "002854cd",
   "metadata": {},
   "source": [
    "### <span style=\"color:teal\">Alice's Surprising Success"
   ]
  },
  {
   "cell_type": "markdown",
   "id": "c776af86",
   "metadata": {},
   "source": [
    "After Alice shows her extraordinary sommerlier skills in Italy, Portuguese growers ask for help. They want to be able to identify, based on chemical composition, the quality of the wine (as opposed to variety, as in Italy). In this case, our wines are either high quality or standard, making it a binary classification problem. Let's take a look at our data:"
   ]
  },
  {
   "cell_type": "code",
   "execution_count": 2,
   "id": "a5cb1443",
   "metadata": {},
   "outputs": [
    {
     "data": {
      "text/html": [
       "<div>\n",
       "<style scoped>\n",
       "    .dataframe tbody tr th:only-of-type {\n",
       "        vertical-align: middle;\n",
       "    }\n",
       "\n",
       "    .dataframe tbody tr th {\n",
       "        vertical-align: top;\n",
       "    }\n",
       "\n",
       "    .dataframe thead th {\n",
       "        text-align: right;\n",
       "    }\n",
       "</style>\n",
       "<table border=\"1\" class=\"dataframe\">\n",
       "  <thead>\n",
       "    <tr style=\"text-align: right;\">\n",
       "      <th></th>\n",
       "      <th>fixed acidity</th>\n",
       "      <th>volatile acidity</th>\n",
       "      <th>citric acid</th>\n",
       "      <th>residual sugar</th>\n",
       "      <th>chlorides</th>\n",
       "      <th>free sulfur dioxide</th>\n",
       "      <th>total sulfur dioxide</th>\n",
       "      <th>density</th>\n",
       "      <th>pH</th>\n",
       "      <th>sulphates</th>\n",
       "      <th>alcohol</th>\n",
       "      <th>quality</th>\n",
       "    </tr>\n",
       "  </thead>\n",
       "  <tbody>\n",
       "    <tr>\n",
       "      <th>0</th>\n",
       "      <td>7.4</td>\n",
       "      <td>0.70</td>\n",
       "      <td>0.00</td>\n",
       "      <td>1.9</td>\n",
       "      <td>0.076</td>\n",
       "      <td>11.0</td>\n",
       "      <td>34.0</td>\n",
       "      <td>0.9978</td>\n",
       "      <td>3.51</td>\n",
       "      <td>0.56</td>\n",
       "      <td>9.4</td>\n",
       "      <td>0</td>\n",
       "    </tr>\n",
       "    <tr>\n",
       "      <th>1</th>\n",
       "      <td>7.8</td>\n",
       "      <td>0.88</td>\n",
       "      <td>0.00</td>\n",
       "      <td>2.6</td>\n",
       "      <td>0.098</td>\n",
       "      <td>25.0</td>\n",
       "      <td>67.0</td>\n",
       "      <td>0.9968</td>\n",
       "      <td>3.20</td>\n",
       "      <td>0.68</td>\n",
       "      <td>9.8</td>\n",
       "      <td>0</td>\n",
       "    </tr>\n",
       "    <tr>\n",
       "      <th>2</th>\n",
       "      <td>7.8</td>\n",
       "      <td>0.76</td>\n",
       "      <td>0.04</td>\n",
       "      <td>2.3</td>\n",
       "      <td>0.092</td>\n",
       "      <td>15.0</td>\n",
       "      <td>54.0</td>\n",
       "      <td>0.9970</td>\n",
       "      <td>3.26</td>\n",
       "      <td>0.65</td>\n",
       "      <td>9.8</td>\n",
       "      <td>0</td>\n",
       "    </tr>\n",
       "    <tr>\n",
       "      <th>3</th>\n",
       "      <td>11.2</td>\n",
       "      <td>0.28</td>\n",
       "      <td>0.56</td>\n",
       "      <td>1.9</td>\n",
       "      <td>0.075</td>\n",
       "      <td>17.0</td>\n",
       "      <td>60.0</td>\n",
       "      <td>0.9980</td>\n",
       "      <td>3.16</td>\n",
       "      <td>0.58</td>\n",
       "      <td>9.8</td>\n",
       "      <td>0</td>\n",
       "    </tr>\n",
       "    <tr>\n",
       "      <th>4</th>\n",
       "      <td>7.4</td>\n",
       "      <td>0.70</td>\n",
       "      <td>0.00</td>\n",
       "      <td>1.9</td>\n",
       "      <td>0.076</td>\n",
       "      <td>11.0</td>\n",
       "      <td>34.0</td>\n",
       "      <td>0.9978</td>\n",
       "      <td>3.51</td>\n",
       "      <td>0.56</td>\n",
       "      <td>9.4</td>\n",
       "      <td>0</td>\n",
       "    </tr>\n",
       "  </tbody>\n",
       "</table>\n",
       "</div>"
      ],
      "text/plain": [
       "   fixed acidity  volatile acidity  citric acid  residual sugar  chlorides  \\\n",
       "0            7.4              0.70         0.00             1.9      0.076   \n",
       "1            7.8              0.88         0.00             2.6      0.098   \n",
       "2            7.8              0.76         0.04             2.3      0.092   \n",
       "3           11.2              0.28         0.56             1.9      0.075   \n",
       "4            7.4              0.70         0.00             1.9      0.076   \n",
       "\n",
       "   free sulfur dioxide  total sulfur dioxide  density    pH  sulphates  \\\n",
       "0                 11.0                  34.0   0.9978  3.51       0.56   \n",
       "1                 25.0                  67.0   0.9968  3.20       0.68   \n",
       "2                 15.0                  54.0   0.9970  3.26       0.65   \n",
       "3                 17.0                  60.0   0.9980  3.16       0.58   \n",
       "4                 11.0                  34.0   0.9978  3.51       0.56   \n",
       "\n",
       "   alcohol  quality  \n",
       "0      9.4        0  \n",
       "1      9.8        0  \n",
       "2      9.8        0  \n",
       "3      9.8        0  \n",
       "4      9.4        0  "
      ]
     },
     "execution_count": 2,
     "metadata": {},
     "output_type": "execute_result"
    }
   ],
   "source": [
    "port_wine = pd.read_csv('data/red_wine_binary.csv')\n",
    "port_wine.head()"
   ]
  },
  {
   "cell_type": "markdown",
   "id": "7aaf2b88",
   "metadata": {},
   "source": [
    "Since we know how to build a classification pipeline, let's do so. Ideally we would choose the appropriate scaler for each column, but to keep things simple let's standardize everything.\n",
    "\n",
    "As a reminder, in our previous classification pipelines, we obtained the accuracy by calling the `.score()` method. Let's explore this further."
   ]
  },
  {
   "cell_type": "code",
   "execution_count": 3,
   "id": "85000977",
   "metadata": {},
   "outputs": [
    {
     "data": {
      "text/plain": [
       "0.88125"
      ]
     },
     "execution_count": 3,
     "metadata": {},
     "output_type": "execute_result"
    }
   ],
   "source": [
    "pX = port_wine.drop(['quality'], axis='columns')\n",
    "py = port_wine['quality']\n",
    "pX_train, pX_test, py_train, py_test = train_test_split(pX, py, test_size=.3, random_state=42)\n",
    "\n",
    "port_wine_pipeline = Pipeline(\n",
    "    [\n",
    "        (\"preprocessor\", preprocessing.StandardScaler()),\n",
    "        (\"classifier\", svm.SVC())\n",
    "    ]\n",
    ")\n",
    "\n",
    "port_wine_pipeline.fit(pX_train, py_train)\n",
    "\n",
    "port_wine_pipeline.score(pX_test, py_test)"
   ]
  },
  {
   "cell_type": "markdown",
   "id": "0834f358",
   "metadata": {},
   "source": [
    "### <span style=\"color:teal\"> Accuracy"
   ]
  },
  {
   "cell_type": "markdown",
   "id": "f4688100",
   "metadata": {},
   "source": [
    "Accuracy is given by the proportion of correct predictions, among all classes. For example, if we predicted correctly $87$ cases out of $100$, independent of which class those successful cases were on, then the accuracy would be $.87$.\n",
    "$$\n",
    "accuracy = \\frac{\\text{number of correct predictions}}{n}\n",
    "$$\n",
    "This may intuitively seem the natural metric for performance, and it's fine for quite a few cases, but it may fail.\n",
    "\n",
    "Imagine you have an unbalanced dataset, where 99% of observations come from one class (call it $C_1$), and only $1\\%$ from the other. I can have a very simple classifier that always predicts $C_1$. If my test data is also split $99/1$, I will have an accuracy of $99%$!!\n",
    "\n",
    "But what if the $1\\%$ which is a very rare occurrance, is actually of high impact? This is common, for example, with medical diagnosis: even if the percentage of a disease in a population is small, we want to be able to properly diagnose it!"
   ]
  },
  {
   "cell_type": "markdown",
   "id": "7ec2642a",
   "metadata": {},
   "source": [
    "### <span style=\"color:teal\"> Classification Report\n",
    "We can get more measures with a `classification report` from the `metrics` module:"
   ]
  },
  {
   "cell_type": "code",
   "execution_count": 4,
   "id": "46816f2d",
   "metadata": {},
   "outputs": [
    {
     "name": "stdout",
     "output_type": "stream",
     "text": [
      "              precision    recall  f1-score   support\n",
      "\n",
      "           0       0.90      0.97      0.93       413\n",
      "           1       0.66      0.31      0.42        67\n",
      "\n",
      "    accuracy                           0.88       480\n",
      "   macro avg       0.78      0.64      0.68       480\n",
      "weighted avg       0.86      0.88      0.86       480\n",
      "\n"
     ]
    }
   ],
   "source": [
    "py_pred = port_wine_pipeline.predict(pX_test)\n",
    "print(metrics.classification_report(py_test, py_pred))"
   ]
  },
  {
   "cell_type": "markdown",
   "id": "1695de6e",
   "metadata": {},
   "source": [
    "- **Precision** for a class $C$ is the proportion of observations correctly classified as class $C$ out of everything classified as $C$. The higher the better.\n",
    "- **Recall** for a class $C$ is the proportion of observations correctly classified as class $C$ out of everything that was actually from $C$. The higher the better.\n",
    "- **$F_1$ Score** Is a type of average of precision and recall. It can show us the tradeoff between these two. The higher the better."
   ]
  },
  {
   "cell_type": "markdown",
   "id": "d282681c",
   "metadata": {},
   "source": [
    "#### <span style=\"color:blue\">Example - Imbalanced Dataset</span>"
   ]
  },
  {
   "cell_type": "markdown",
   "id": "425c2d2d",
   "metadata": {},
   "source": [
    "I have prepared an imbalanced version of the wine dataset. Here only the highest quality wines are labeled as positive. Wines for true snobs."
   ]
  },
  {
   "cell_type": "code",
   "execution_count": 5,
   "id": "aa350883",
   "metadata": {},
   "outputs": [
    {
     "data": {
      "text/plain": [
       "quality\n",
       "0    1581\n",
       "1      18\n",
       "Name: count, dtype: int64"
      ]
     },
     "execution_count": 5,
     "metadata": {},
     "output_type": "execute_result"
    }
   ],
   "source": [
    "imb_wine = pd.read_csv('data/red_wine_binary_imbalanced.csv')\n",
    "imb_wine['quality'].value_counts()"
   ]
  },
  {
   "cell_type": "markdown",
   "id": "17db5912",
   "metadata": {},
   "source": [
    "Let's create the classifier:"
   ]
  },
  {
   "cell_type": "code",
   "execution_count": 6,
   "id": "319657f5",
   "metadata": {},
   "outputs": [],
   "source": [
    "# Split the data\n",
    "imb_X = imb_wine.drop(['quality'], axis='columns')\n",
    "imb_y = imb_wine['quality']\n",
    "iX_train, iX_test, iy_train, iy_test = train_test_split(imb_X, imb_y, test_size=.2, stratify=imb_y, random_state=42)\n",
    "# stratify makes sure we keep a similar proportion of  each label in the test dataset"
   ]
  },
  {
   "cell_type": "code",
   "execution_count": 7,
   "id": "b8d9d4d2",
   "metadata": {},
   "outputs": [],
   "source": [
    "# Create and train classifier on imbalanced data\n",
    "imb_clf = svm.SVC().fit(iX_train, iy_train)"
   ]
  },
  {
   "cell_type": "code",
   "execution_count": 8,
   "id": "1df6d927",
   "metadata": {},
   "outputs": [],
   "source": [
    "# and the dumb classifier for comparison\n",
    "def dumb_clf_score(X, y):\n",
    "    prediction = 0\n",
    "    correct_n = sum(y==prediction)\n",
    "    accuracy = correct_n / len(X)\n",
    "    return accuracy"
   ]
  },
  {
   "cell_type": "code",
   "execution_count": 9,
   "id": "8a3b4666",
   "metadata": {},
   "outputs": [
    {
     "name": "stdout",
     "output_type": "stream",
     "text": [
      "SVM's accuracy: 0.99\n",
      "Dumb classifier accuracy: 0.99\n"
     ]
    }
   ],
   "source": [
    "# Compute accuracy\n",
    "svm_acc = imb_clf.score(iX_test, iy_test)\n",
    "dc_acc = dumb_clf_score(iX_test, iy_test)\n",
    "\n",
    "print(f\"SVM's accuracy: {svm_acc:.2f}\\nDumb classifier accuracy: {dc_acc:.2f}\")"
   ]
  },
  {
   "cell_type": "markdown",
   "id": "47bd7b8e",
   "metadata": {},
   "source": [
    "So the SVM is doing just as well as my classifier which just predicts the $0$ label (indeed, the SVM is JUST predcting the 0 label)."
   ]
  },
  {
   "cell_type": "code",
   "execution_count": 10,
   "id": "e467f3e7",
   "metadata": {},
   "outputs": [
    {
     "name": "stdout",
     "output_type": "stream",
     "text": [
      "              precision    recall  f1-score   support\n",
      "\n",
      "           0       0.99      1.00      0.99       316\n",
      "           1       0.00      0.00      0.00         4\n",
      "\n",
      "    accuracy                           0.99       320\n",
      "   macro avg       0.49      0.50      0.50       320\n",
      "weighted avg       0.98      0.99      0.98       320\n",
      "\n"
     ]
    }
   ],
   "source": [
    "iy_pred = imb_clf.predict(iX_test)\n",
    "print(metrics.classification_report(iy_test, iy_pred, zero_division=0))"
   ]
  },
  {
   "cell_type": "markdown",
   "id": "aa8637d9",
   "metadata": {},
   "source": [
    "### <span style=\"color:teal\"> The `metrics` module"
   ]
  },
  {
   "cell_type": "markdown",
   "id": "33967c1a",
   "metadata": {},
   "source": [
    "Since the `.score()` method only returns accuracy, sklearn provides a handy way to obtain other metrics through the `metrics` module. This will come in handy if you compare models according to a given metric that is not the default.\n",
    "\n",
    "`metrics` has access to a wide variety of metrics for both classification and regression, some more exotic than others. Here we'll just see how to obtain individually some standard metrics."
   ]
  },
  {
   "cell_type": "markdown",
   "id": "c3dfa984",
   "metadata": {},
   "source": [
    "**Standard Metrics**"
   ]
  },
  {
   "cell_type": "code",
   "execution_count": 11,
   "id": "cc5648ab",
   "metadata": {},
   "outputs": [
    {
     "name": "stdout",
     "output_type": "stream",
     "text": [
      "\n",
      "Accuracy: 0.88\n",
      "Precission: 0.66\n",
      "F1 Score: 0.42\n",
      "\n"
     ]
    }
   ],
   "source": [
    "# Back to the slightly more balanced dataset\n",
    "\n",
    "# We'll need the predicted values on the test data\n",
    "py_pred = port_wine_pipeline.predict(pX_test)\n",
    "\n",
    "# We can extract a variety of metrics, let's start with the ones from the classification report:\n",
    "pw_clf_acc = metrics.accuracy_score(py_test, py_pred) # this is the same as using .score()\n",
    "pw_clf_prec = metrics.precision_score(py_test, py_pred) # this will compute the precision\n",
    "pw_clf_f1 = metrics.f1_score(py_test, py_pred)\n",
    "\n",
    "metrics_summary = f\"\"\"\n",
    "Accuracy: {pw_clf_acc:.2f}\n",
    "Precission: {pw_clf_prec:.2f}\n",
    "F1 Score: {pw_clf_f1:.2f}\n",
    "\"\"\"\n",
    "print(metrics_summary)"
   ]
  },
  {
   "cell_type": "markdown",
   "id": "ccc2ee50",
   "metadata": {},
   "source": [
    "Many metrics are derived from the confusion matrix (true vs predicted labels)"
   ]
  },
  {
   "cell_type": "code",
   "execution_count": 12,
   "id": "126955e2",
   "metadata": {},
   "outputs": [
    {
     "name": "stdout",
     "output_type": "stream",
     "text": [
      "Confusion matrix:\n",
      "[[402  11]\n",
      " [ 46  21]]\n"
     ]
    },
    {
     "data": {
      "image/png": "[encoded data removed]",
      "text/plain": [
       "<Figure size 640x480 with 2 Axes>"
      ]
     },
     "metadata": {},
     "output_type": "display_data"
    }
   ],
   "source": [
    "# Raw confusion matrix\n",
    "raw_matrix = metrics.confusion_matrix(py_test, py_pred)\n",
    "print(f\"Confusion matrix:\\n{raw_matrix}\")\n",
    "\n",
    "# nicerly visualized\n",
    "metrics.ConfusionMatrixDisplay.from_predictions(py_test, py_pred);"
   ]
  },
  {
   "cell_type": "markdown",
   "id": "60dc8ff1",
   "metadata": {},
   "source": [
    "**Receiver Operating Characteristic (ROC) and Precision-Recall Curves**"
   ]
  },
  {
   "cell_type": "markdown",
   "id": "49c19285",
   "metadata": {},
   "source": [
    "Classifiers usually work by computing some real value of an observation, and then thresholding, such that if that value is larger than the threshold, the observation is labeled as one class (say the positive class), while if it is smaller then it will be the other class.\n",
    "\n",
    "These values are either computed as probabilities or through a decision function. More on these below."
   ]
  },
  {
   "cell_type": "markdown",
   "id": "cb9ea8f8",
   "metadata": {},
   "source": [
    "Choosing a good threshold is not always trivial. Our running example (the SVM), has a 'natural', geometrically motivaded threshold of $0$. However, other thresholds could be better depending on our case and our data. To study those, we use the ROC curve and the PR curve."
   ]
  },
  {
   "cell_type": "markdown",
   "id": "53f7af3b",
   "metadata": {},
   "source": [
    "The decision function values will be needed to compute the ROC curve:"
   ]
  },
  {
   "cell_type": "code",
   "execution_count": 13,
   "id": "0769ba08",
   "metadata": {},
   "outputs": [
    {
     "data": {
      "text/plain": [
       "array([-1.14128235, -1.42185719, -1.20725862, -1.08620746, -1.46669604,\n",
       "       -1.10920953, -1.43406485, -1.18001663, -1.24976021, -1.2900564 ])"
      ]
     },
     "execution_count": 13,
     "metadata": {},
     "output_type": "execute_result"
    }
   ],
   "source": [
    "# By default, SVC does not compute probabilities, but we can get the decision functions values:\n",
    "py_dfunc_values = port_wine_pipeline.decision_function(pX_test)\n",
    "py_dfunc_values[0:10]"
   ]
  },
  {
   "cell_type": "markdown",
   "id": "8fca1df8",
   "metadata": {},
   "source": [
    "We can compute the raw ROC values:"
   ]
  },
  {
   "cell_type": "code",
   "execution_count": 14,
   "id": "bd332f89",
   "metadata": {},
   "outputs": [],
   "source": [
    "# Will return false postive rates, true positive rates, and the threshold those values belong to\n",
    "fpr, tpr, thresholds = metrics.roc_curve(py_test, py_dfunc_values)"
   ]
  },
  {
   "cell_type": "markdown",
   "id": "444161d1",
   "metadata": {},
   "source": [
    "Or we can use a handy way to display it (but miss the threshold values)"
   ]
  },
  {
   "cell_type": "code",
   "execution_count": 15,
   "id": "4b607280",
   "metadata": {},
   "outputs": [
    {
     "data": {
      "image/png": "[encoded data removed]",
      "text/plain": [
       "<Figure size 640x480 with 1 Axes>"
      ]
     },
     "metadata": {},
     "output_type": "display_data"
    }
   ],
   "source": [
    "metrics.RocCurveDisplay.from_predictions(py_test, py_dfunc_values);"
   ]
  },
  {
   "cell_type": "markdown",
   "id": "cc2b4a85",
   "metadata": {},
   "source": [
    "**Interpretation**\n",
    "- Ideally we want our classifier to have as high a TPR and as low an FPR as possible. Hence, we must choose the threshold achieving the point closest to the top left (thresholds are not shown in the figure above).\n",
    "- The curve is a visual summary of how our classifier works for a variety of thresholds, the area under the curve (AUC in the plot) is an aggregate of how the classifier performs over all thresholds."
   ]
  },
  {
   "cell_type": "markdown",
   "id": "b9ecb100",
   "metadata": {},
   "source": [
    "**NOTE**\n",
    "\n",
    "Some classifiers will use probabilities instead of the decision function. Furthermore, for some classifiers using decision functions, you can also convert decision function values to probabilities. In the case of SVC, you need to indicate `probability=True` when creating the `svm.SVC()` object."
   ]
  },
  {
   "cell_type": "markdown",
   "id": "10ef3995",
   "metadata": {},
   "source": [
    "Now let's compute the precision recall curve."
   ]
  },
  {
   "cell_type": "code",
   "execution_count": 16,
   "id": "54d7a64d",
   "metadata": {},
   "outputs": [],
   "source": [
    "# Raw option, useful when thresholds are needed\n",
    "pw_clf_precision, pw_clf_recall, pw_clf_pr_thresholds = metrics.precision_recall_curve(py_test, py_dfunc_values)"
   ]
  },
  {
   "cell_type": "code",
   "execution_count": 17,
   "id": "26574cad",
   "metadata": {},
   "outputs": [
    {
     "data": {
      "image/png": "[encoded data removed]",
      "text/plain": [
       "<Figure size 640x480 with 1 Axes>"
      ]
     },
     "metadata": {},
     "output_type": "display_data"
    }
   ],
   "source": [
    "# Visual option, for quick overall reading of behavior\n",
    "metrics.PrecisionRecallDisplay.from_predictions(py_test, py_dfunc_values);"
   ]
  },
  {
   "cell_type": "markdown",
   "id": "2be99943",
   "metadata": {},
   "source": [
    "Aha! The PR curve, which ideally is as pushed to the top right as possible, is pretty bad. This was not clear with the ROC curve. The PR curve is better at diagnosing problems when data is imbalanced."
   ]
  },
  {
   "cell_type": "markdown",
   "id": "338dfe39",
   "metadata": {},
   "source": [
    "#### <span style=\"color:red\">EXERCISE</span>"
   ]
  },
  {
   "cell_type": "markdown",
   "id": "3c8a6500",
   "metadata": {},
   "source": [
    "1. Take a look at the confusion matrix in wikipedia and discuss with your neighbor the meaning of some terms like FPR, TPR, Precision, and Recall.\n",
    "2. Discuss with your neighbors what the shapes of ROC and PR curves can tell us about a classifier.\n",
    "3. Why, in the case of imbalanced data, would the PR be more informative than the ROC?"
   ]
  },
  {
   "cell_type": "markdown",
   "id": "506fc254",
   "metadata": {},
   "source": []
  }
 ],
 "metadata": {
  "author": "efrén cruz cortés",
  "kernelspec": {
   "display_name": ".venv",
   "language": "python",
   "name": "python3"
  },
  "language_info": {
   "codemirror_mode": {
    "name": "ipython",
    "version": 3
   },
   "file_extension": ".py",
   "mimetype": "text/x-python",
   "name": "python",
   "nbconvert_exporter": "python",
   "pygments_lexer": "ipython3",
   "version": "3.11.5"
  }
 },
 "nbformat": 4,
 "nbformat_minor": 5
}
