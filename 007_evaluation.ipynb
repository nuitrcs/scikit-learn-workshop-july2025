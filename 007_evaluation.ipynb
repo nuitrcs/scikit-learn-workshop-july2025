{
 "cells": [
  {
   "cell_type": "markdown",
   "id": "3da0ca59",
   "metadata": {},
   "source": [
    "<h1 style=\"color: rebeccapurple;\">Evaluation – A Quick Detour</h1>\n",
    "<span style=\"text-transform: uppercase;\n",
    "        font-size: 14px;\n",
    "        letter-spacing: 1px;\n",
    "        font-family: 'Segoe UI', sans-serif;\">\n",
    "    Author\n",
    "</span><br>\n",
    "efrén cruz cortés\n",
    "<hr style=\"border: none; height: 1px; background: linear-gradient(to right, transparent 0%, #ccc 10%, transparent 100%); margin-top: 10px;\">"
   ]
  },
  {
   "cell_type": "markdown",
   "id": "326c0ed4",
   "metadata": {},
   "source": [
    "So far we have seen two tasks:\n",
    "- Regression\n",
    "- Classification\n",
    "\n",
    "For regression, we evaluated our result based on the coefficient of determination $R^2$. For classification we evaluated using the proportion of correct predictions (accuracy). Let's take a closer look at evaluation metrics. We will focus on classification as it is likely you're less familiar with it."
   ]
  },
  {
   "cell_type": "markdown",
   "id": "e4552096",
   "metadata": {},
   "source": [
    "Evaluation is important to compare how different models perform on the same task, or to choose the best hyperparameters for a given model. Soon we will learn about `cross-validation`, where evaluation plays an important role."
   ]
  },
  {
   "cell_type": "markdown",
   "id": "0b08f3d4",
   "metadata": {},
   "source": [
    "## <span style=\"color:darkorchid\"> Imports and data"
   ]
  },
  {
   "cell_type": "code",
   "execution_count": 1,
   "id": "461688c7",
   "metadata": {},
   "outputs": [],
   "source": [
    "# Scikit-learn specifics:\n",
    "from sklearn import datasets\n",
    "from sklearn import metrics\n",
    "from sklearn.pipeline import Pipeline\n",
    "from sklearn import preprocessing\n",
    "from sklearn.model_selection import train_test_split\n",
    "from sklearn import svm\n",
    "\n",
    "# Helper modules\n",
    "import pandas as pd\n",
    "import matplotlib.pyplot as plt\n",
    "import numpy as np"
   ]
  },
  {
   "cell_type": "code",
   "execution_count": 2,
   "id": "cab7a899",
   "metadata": {},
   "outputs": [
    {
     "name": "stdout",
     "output_type": "stream",
     "text": [
      "Data should be in your local directory. Under the 'data' folder.\n"
     ]
    }
   ],
   "source": [
    "# :: DATA ::\n",
    "\n",
    "try:\n",
    "    import google.colab\n",
    "    !wget https://raw.githubusercontent.com/nuitrcs/scikit-learn-workshop-july2025/refs/heads/main/data/red_wine_binary.csv\n",
    "    !wget https://raw.githubusercontent.com/nuitrcs/scikit-learn-workshop-july2025/refs/heads/main/data/red_wine_binary_imbalanced.csv\n",
    "    red_wine_directory = \"red_wine_binary.csv\"\n",
    "    red_wine_imbalanced_directory = \"red_wine_binary_imbalanced.csv\"\n",
    "    print(\"Successfully loaded files to Colab. Check folder on left column.\")\n",
    "except ModuleNotFoundError:\n",
    "    red_wine_directory = \"data/red_wine_binary.csv\"\n",
    "    red_wine_imbalanced_directory = \"data/red_wine_binary_imbalanced.csv\"\n",
    "    print(\"Data should be in your local directory. Under the 'data' folder.\")"
   ]
  },
  {
   "cell_type": "markdown",
   "id": "93073d1b",
   "metadata": {},
   "source": [
    "## <span style=\"color:darkorchid\"> Classification Metrics"
   ]
  },
  {
   "cell_type": "markdown",
   "id": "a1109440",
   "metadata": {},
   "source": [
    "To simplify our discussion, we will first focus on binary classification. The extension to multi-class classification is fairly straighforward, and we'll talk about it at the end.\n",
    "\n",
    "Most classification metrics are based on the [confusion matrix](https://en.wikipedia.org/wiki/Confusion_matrix). Let's take a quick look at what that is so we develop an intuition."
   ]
  },
  {
   "cell_type": "markdown",
   "id": "93337829",
   "metadata": {},
   "source": [
    "### <span style=\"color:darkorange\"> Conceptual Intermezzo - Confusion Matrix"
   ]
  },
  {
   "cell_type": "markdown",
   "id": "a4de6b1a",
   "metadata": {},
   "source": [
    "See slides"
   ]
  },
  {
   "cell_type": "markdown",
   "id": "002854cd",
   "metadata": {},
   "source": [
    "### <span style=\"color:teal\">Alice's Surprising Success"
   ]
  },
  {
   "cell_type": "markdown",
   "id": "c776af86",
   "metadata": {},
   "source": [
    "After Alice shows her extraordinary sommerlier skills in Italy, Portuguese growers ask for help. They want to be able to identify, based on chemical composition, the quality of the wine (as opposed to variety, as in Italy). In this case, our wines are either high quality or standard, making it a binary classification problem. Let's take a look at our data:"
   ]
  },
  {
   "cell_type": "code",
   "execution_count": 54,
   "id": "a5cb1443",
   "metadata": {},
   "outputs": [
    {
     "data": {
      "text/html": [
       "<div>\n",
       "<style scoped>\n",
       "    .dataframe tbody tr th:only-of-type {\n",
       "        vertical-align: middle;\n",
       "    }\n",
       "\n",
       "    .dataframe tbody tr th {\n",
       "        vertical-align: top;\n",
       "    }\n",
       "\n",
       "    .dataframe thead th {\n",
       "        text-align: right;\n",
       "    }\n",
       "</style>\n",
       "<table border=\"1\" class=\"dataframe\">\n",
       "  <thead>\n",
       "    <tr style=\"text-align: right;\">\n",
       "      <th></th>\n",
       "      <th>fixed acidity</th>\n",
       "      <th>volatile acidity</th>\n",
       "      <th>citric acid</th>\n",
       "      <th>residual sugar</th>\n",
       "      <th>chlorides</th>\n",
       "      <th>free sulfur dioxide</th>\n",
       "      <th>total sulfur dioxide</th>\n",
       "      <th>density</th>\n",
       "      <th>pH</th>\n",
       "      <th>sulphates</th>\n",
       "      <th>alcohol</th>\n",
       "      <th>quality</th>\n",
       "    </tr>\n",
       "  </thead>\n",
       "  <tbody>\n",
       "    <tr>\n",
       "      <th>0</th>\n",
       "      <td>7.4</td>\n",
       "      <td>0.70</td>\n",
       "      <td>0.00</td>\n",
       "      <td>1.9</td>\n",
       "      <td>0.076</td>\n",
       "      <td>11.0</td>\n",
       "      <td>34.0</td>\n",
       "      <td>0.9978</td>\n",
       "      <td>3.51</td>\n",
       "      <td>0.56</td>\n",
       "      <td>9.4</td>\n",
       "      <td>0</td>\n",
       "    </tr>\n",
       "    <tr>\n",
       "      <th>1</th>\n",
       "      <td>7.8</td>\n",
       "      <td>0.88</td>\n",
       "      <td>0.00</td>\n",
       "      <td>2.6</td>\n",
       "      <td>0.098</td>\n",
       "      <td>25.0</td>\n",
       "      <td>67.0</td>\n",
       "      <td>0.9968</td>\n",
       "      <td>3.20</td>\n",
       "      <td>0.68</td>\n",
       "      <td>9.8</td>\n",
       "      <td>0</td>\n",
       "    </tr>\n",
       "    <tr>\n",
       "      <th>2</th>\n",
       "      <td>7.8</td>\n",
       "      <td>0.76</td>\n",
       "      <td>0.04</td>\n",
       "      <td>2.3</td>\n",
       "      <td>0.092</td>\n",
       "      <td>15.0</td>\n",
       "      <td>54.0</td>\n",
       "      <td>0.9970</td>\n",
       "      <td>3.26</td>\n",
       "      <td>0.65</td>\n",
       "      <td>9.8</td>\n",
       "      <td>0</td>\n",
       "    </tr>\n",
       "    <tr>\n",
       "      <th>3</th>\n",
       "      <td>11.2</td>\n",
       "      <td>0.28</td>\n",
       "      <td>0.56</td>\n",
       "      <td>1.9</td>\n",
       "      <td>0.075</td>\n",
       "      <td>17.0</td>\n",
       "      <td>60.0</td>\n",
       "      <td>0.9980</td>\n",
       "      <td>3.16</td>\n",
       "      <td>0.58</td>\n",
       "      <td>9.8</td>\n",
       "      <td>0</td>\n",
       "    </tr>\n",
       "    <tr>\n",
       "      <th>4</th>\n",
       "      <td>7.4</td>\n",
       "      <td>0.70</td>\n",
       "      <td>0.00</td>\n",
       "      <td>1.9</td>\n",
       "      <td>0.076</td>\n",
       "      <td>11.0</td>\n",
       "      <td>34.0</td>\n",
       "      <td>0.9978</td>\n",
       "      <td>3.51</td>\n",
       "      <td>0.56</td>\n",
       "      <td>9.4</td>\n",
       "      <td>0</td>\n",
       "    </tr>\n",
       "  </tbody>\n",
       "</table>\n",
       "</div>"
      ],
      "text/plain": [
       "   fixed acidity  volatile acidity  citric acid  residual sugar  chlorides  \\\n",
       "0            7.4              0.70         0.00             1.9      0.076   \n",
       "1            7.8              0.88         0.00             2.6      0.098   \n",
       "2            7.8              0.76         0.04             2.3      0.092   \n",
       "3           11.2              0.28         0.56             1.9      0.075   \n",
       "4            7.4              0.70         0.00             1.9      0.076   \n",
       "\n",
       "   free sulfur dioxide  total sulfur dioxide  density    pH  sulphates  \\\n",
       "0                 11.0                  34.0   0.9978  3.51       0.56   \n",
       "1                 25.0                  67.0   0.9968  3.20       0.68   \n",
       "2                 15.0                  54.0   0.9970  3.26       0.65   \n",
       "3                 17.0                  60.0   0.9980  3.16       0.58   \n",
       "4                 11.0                  34.0   0.9978  3.51       0.56   \n",
       "\n",
       "   alcohol  quality  \n",
       "0      9.4        0  \n",
       "1      9.8        0  \n",
       "2      9.8        0  \n",
       "3      9.8        0  \n",
       "4      9.4        0  "
      ]
     },
     "execution_count": 54,
     "metadata": {},
     "output_type": "execute_result"
    }
   ],
   "source": [
    "port_wine = pd.read_csv(red_wine_directory)\n",
    "port_wine.head()"
   ]
  },
  {
   "cell_type": "markdown",
   "id": "7aaf2b88",
   "metadata": {},
   "source": [
    "Since we know how to build a classification pipeline, let's do so. Ideally we would choose the appropriate scaler for each column, for example, we may want to limit `pH` to the range $[0,14]$ using a min max scaler, but to keep things simple let's standardize everything."
   ]
  },
  {
   "cell_type": "code",
   "execution_count": 55,
   "id": "85000977",
   "metadata": {},
   "outputs": [
    {
     "data": {
      "text/html": [
       "<style>#sk-container-id-3 {\n",
       "  /* Definition of color scheme common for light and dark mode */\n",
       "  --sklearn-color-text: #000;\n",
       "  --sklearn-color-text-muted: #666;\n",
       "  --sklearn-color-line: gray;\n",
       "  /* Definition of color scheme for unfitted estimators */\n",
       "  --sklearn-color-unfitted-level-0: #fff5e6;\n",
       "  --sklearn-color-unfitted-level-1: #f6e4d2;\n",
       "  --sklearn-color-unfitted-level-2: #ffe0b3;\n",
       "  --sklearn-color-unfitted-level-3: chocolate;\n",
       "  /* Definition of color scheme for fitted estimators */\n",
       "  --sklearn-color-fitted-level-0: #f0f8ff;\n",
       "  --sklearn-color-fitted-level-1: #d4ebff;\n",
       "  --sklearn-color-fitted-level-2: #b3dbfd;\n",
       "  --sklearn-color-fitted-level-3: cornflowerblue;\n",
       "\n",
       "  /* Specific color for light theme */\n",
       "  --sklearn-color-text-on-default-background: var(--sg-text-color, var(--theme-code-foreground, var(--jp-content-font-color1, black)));\n",
       "  --sklearn-color-background: var(--sg-background-color, var(--theme-background, var(--jp-layout-color0, white)));\n",
       "  --sklearn-color-border-box: var(--sg-text-color, var(--theme-code-foreground, var(--jp-content-font-color1, black)));\n",
       "  --sklearn-color-icon: #696969;\n",
       "\n",
       "  @media (prefers-color-scheme: dark) {\n",
       "    /* Redefinition of color scheme for dark theme */\n",
       "    --sklearn-color-text-on-default-background: var(--sg-text-color, var(--theme-code-foreground, var(--jp-content-font-color1, white)));\n",
       "    --sklearn-color-background: var(--sg-background-color, var(--theme-background, var(--jp-layout-color0, #111)));\n",
       "    --sklearn-color-border-box: var(--sg-text-color, var(--theme-code-foreground, var(--jp-content-font-color1, white)));\n",
       "    --sklearn-color-icon: #878787;\n",
       "  }\n",
       "}\n",
       "\n",
       "#sk-container-id-3 {\n",
       "  color: var(--sklearn-color-text);\n",
       "}\n",
       "\n",
       "#sk-container-id-3 pre {\n",
       "  padding: 0;\n",
       "}\n",
       "\n",
       "#sk-container-id-3 input.sk-hidden--visually {\n",
       "  border: 0;\n",
       "  clip: rect(1px 1px 1px 1px);\n",
       "  clip: rect(1px, 1px, 1px, 1px);\n",
       "  height: 1px;\n",
       "  margin: -1px;\n",
       "  overflow: hidden;\n",
       "  padding: 0;\n",
       "  position: absolute;\n",
       "  width: 1px;\n",
       "}\n",
       "\n",
       "#sk-container-id-3 div.sk-dashed-wrapped {\n",
       "  border: 1px dashed var(--sklearn-color-line);\n",
       "  margin: 0 0.4em 0.5em 0.4em;\n",
       "  box-sizing: border-box;\n",
       "  padding-bottom: 0.4em;\n",
       "  background-color: var(--sklearn-color-background);\n",
       "}\n",
       "\n",
       "#sk-container-id-3 div.sk-container {\n",
       "  /* jupyter's `normalize.less` sets `[hidden] { display: none; }`\n",
       "     but bootstrap.min.css set `[hidden] { display: none !important; }`\n",
       "     so we also need the `!important` here to be able to override the\n",
       "     default hidden behavior on the sphinx rendered scikit-learn.org.\n",
       "     See: https://github.com/scikit-learn/scikit-learn/issues/21755 */\n",
       "  display: inline-block !important;\n",
       "  position: relative;\n",
       "}\n",
       "\n",
       "#sk-container-id-3 div.sk-text-repr-fallback {\n",
       "  display: none;\n",
       "}\n",
       "\n",
       "div.sk-parallel-item,\n",
       "div.sk-serial,\n",
       "div.sk-item {\n",
       "  /* draw centered vertical line to link estimators */\n",
       "  background-image: linear-gradient(var(--sklearn-color-text-on-default-background), var(--sklearn-color-text-on-default-background));\n",
       "  background-size: 2px 100%;\n",
       "  background-repeat: no-repeat;\n",
       "  background-position: center center;\n",
       "}\n",
       "\n",
       "/* Parallel-specific style estimator block */\n",
       "\n",
       "#sk-container-id-3 div.sk-parallel-item::after {\n",
       "  content: \"\";\n",
       "  width: 100%;\n",
       "  border-bottom: 2px solid var(--sklearn-color-text-on-default-background);\n",
       "  flex-grow: 1;\n",
       "}\n",
       "\n",
       "#sk-container-id-3 div.sk-parallel {\n",
       "  display: flex;\n",
       "  align-items: stretch;\n",
       "  justify-content: center;\n",
       "  background-color: var(--sklearn-color-background);\n",
       "  position: relative;\n",
       "}\n",
       "\n",
       "#sk-container-id-3 div.sk-parallel-item {\n",
       "  display: flex;\n",
       "  flex-direction: column;\n",
       "}\n",
       "\n",
       "#sk-container-id-3 div.sk-parallel-item:first-child::after {\n",
       "  align-self: flex-end;\n",
       "  width: 50%;\n",
       "}\n",
       "\n",
       "#sk-container-id-3 div.sk-parallel-item:last-child::after {\n",
       "  align-self: flex-start;\n",
       "  width: 50%;\n",
       "}\n",
       "\n",
       "#sk-container-id-3 div.sk-parallel-item:only-child::after {\n",
       "  width: 0;\n",
       "}\n",
       "\n",
       "/* Serial-specific style estimator block */\n",
       "\n",
       "#sk-container-id-3 div.sk-serial {\n",
       "  display: flex;\n",
       "  flex-direction: column;\n",
       "  align-items: center;\n",
       "  background-color: var(--sklearn-color-background);\n",
       "  padding-right: 1em;\n",
       "  padding-left: 1em;\n",
       "}\n",
       "\n",
       "\n",
       "/* Toggleable style: style used for estimator/Pipeline/ColumnTransformer box that is\n",
       "clickable and can be expanded/collapsed.\n",
       "- Pipeline and ColumnTransformer use this feature and define the default style\n",
       "- Estimators will overwrite some part of the style using the `sk-estimator` class\n",
       "*/\n",
       "\n",
       "/* Pipeline and ColumnTransformer style (default) */\n",
       "\n",
       "#sk-container-id-3 div.sk-toggleable {\n",
       "  /* Default theme specific background. It is overwritten whether we have a\n",
       "  specific estimator or a Pipeline/ColumnTransformer */\n",
       "  background-color: var(--sklearn-color-background);\n",
       "}\n",
       "\n",
       "/* Toggleable label */\n",
       "#sk-container-id-3 label.sk-toggleable__label {\n",
       "  cursor: pointer;\n",
       "  display: flex;\n",
       "  width: 100%;\n",
       "  margin-bottom: 0;\n",
       "  padding: 0.5em;\n",
       "  box-sizing: border-box;\n",
       "  text-align: center;\n",
       "  align-items: start;\n",
       "  justify-content: space-between;\n",
       "  gap: 0.5em;\n",
       "}\n",
       "\n",
       "#sk-container-id-3 label.sk-toggleable__label .caption {\n",
       "  font-size: 0.6rem;\n",
       "  font-weight: lighter;\n",
       "  color: var(--sklearn-color-text-muted);\n",
       "}\n",
       "\n",
       "#sk-container-id-3 label.sk-toggleable__label-arrow:before {\n",
       "  /* Arrow on the left of the label */\n",
       "  content: \"▸\";\n",
       "  float: left;\n",
       "  margin-right: 0.25em;\n",
       "  color: var(--sklearn-color-icon);\n",
       "}\n",
       "\n",
       "#sk-container-id-3 label.sk-toggleable__label-arrow:hover:before {\n",
       "  color: var(--sklearn-color-text);\n",
       "}\n",
       "\n",
       "/* Toggleable content - dropdown */\n",
       "\n",
       "#sk-container-id-3 div.sk-toggleable__content {\n",
       "  max-height: 0;\n",
       "  max-width: 0;\n",
       "  overflow: hidden;\n",
       "  text-align: left;\n",
       "  /* unfitted */\n",
       "  background-color: var(--sklearn-color-unfitted-level-0);\n",
       "}\n",
       "\n",
       "#sk-container-id-3 div.sk-toggleable__content.fitted {\n",
       "  /* fitted */\n",
       "  background-color: var(--sklearn-color-fitted-level-0);\n",
       "}\n",
       "\n",
       "#sk-container-id-3 div.sk-toggleable__content pre {\n",
       "  margin: 0.2em;\n",
       "  border-radius: 0.25em;\n",
       "  color: var(--sklearn-color-text);\n",
       "  /* unfitted */\n",
       "  background-color: var(--sklearn-color-unfitted-level-0);\n",
       "}\n",
       "\n",
       "#sk-container-id-3 div.sk-toggleable__content.fitted pre {\n",
       "  /* unfitted */\n",
       "  background-color: var(--sklearn-color-fitted-level-0);\n",
       "}\n",
       "\n",
       "#sk-container-id-3 input.sk-toggleable__control:checked~div.sk-toggleable__content {\n",
       "  /* Expand drop-down */\n",
       "  max-height: 200px;\n",
       "  max-width: 100%;\n",
       "  overflow: auto;\n",
       "}\n",
       "\n",
       "#sk-container-id-3 input.sk-toggleable__control:checked~label.sk-toggleable__label-arrow:before {\n",
       "  content: \"▾\";\n",
       "}\n",
       "\n",
       "/* Pipeline/ColumnTransformer-specific style */\n",
       "\n",
       "#sk-container-id-3 div.sk-label input.sk-toggleable__control:checked~label.sk-toggleable__label {\n",
       "  color: var(--sklearn-color-text);\n",
       "  background-color: var(--sklearn-color-unfitted-level-2);\n",
       "}\n",
       "\n",
       "#sk-container-id-3 div.sk-label.fitted input.sk-toggleable__control:checked~label.sk-toggleable__label {\n",
       "  background-color: var(--sklearn-color-fitted-level-2);\n",
       "}\n",
       "\n",
       "/* Estimator-specific style */\n",
       "\n",
       "/* Colorize estimator box */\n",
       "#sk-container-id-3 div.sk-estimator input.sk-toggleable__control:checked~label.sk-toggleable__label {\n",
       "  /* unfitted */\n",
       "  background-color: var(--sklearn-color-unfitted-level-2);\n",
       "}\n",
       "\n",
       "#sk-container-id-3 div.sk-estimator.fitted input.sk-toggleable__control:checked~label.sk-toggleable__label {\n",
       "  /* fitted */\n",
       "  background-color: var(--sklearn-color-fitted-level-2);\n",
       "}\n",
       "\n",
       "#sk-container-id-3 div.sk-label label.sk-toggleable__label,\n",
       "#sk-container-id-3 div.sk-label label {\n",
       "  /* The background is the default theme color */\n",
       "  color: var(--sklearn-color-text-on-default-background);\n",
       "}\n",
       "\n",
       "/* On hover, darken the color of the background */\n",
       "#sk-container-id-3 div.sk-label:hover label.sk-toggleable__label {\n",
       "  color: var(--sklearn-color-text);\n",
       "  background-color: var(--sklearn-color-unfitted-level-2);\n",
       "}\n",
       "\n",
       "/* Label box, darken color on hover, fitted */\n",
       "#sk-container-id-3 div.sk-label.fitted:hover label.sk-toggleable__label.fitted {\n",
       "  color: var(--sklearn-color-text);\n",
       "  background-color: var(--sklearn-color-fitted-level-2);\n",
       "}\n",
       "\n",
       "/* Estimator label */\n",
       "\n",
       "#sk-container-id-3 div.sk-label label {\n",
       "  font-family: monospace;\n",
       "  font-weight: bold;\n",
       "  display: inline-block;\n",
       "  line-height: 1.2em;\n",
       "}\n",
       "\n",
       "#sk-container-id-3 div.sk-label-container {\n",
       "  text-align: center;\n",
       "}\n",
       "\n",
       "/* Estimator-specific */\n",
       "#sk-container-id-3 div.sk-estimator {\n",
       "  font-family: monospace;\n",
       "  border: 1px dotted var(--sklearn-color-border-box);\n",
       "  border-radius: 0.25em;\n",
       "  box-sizing: border-box;\n",
       "  margin-bottom: 0.5em;\n",
       "  /* unfitted */\n",
       "  background-color: var(--sklearn-color-unfitted-level-0);\n",
       "}\n",
       "\n",
       "#sk-container-id-3 div.sk-estimator.fitted {\n",
       "  /* fitted */\n",
       "  background-color: var(--sklearn-color-fitted-level-0);\n",
       "}\n",
       "\n",
       "/* on hover */\n",
       "#sk-container-id-3 div.sk-estimator:hover {\n",
       "  /* unfitted */\n",
       "  background-color: var(--sklearn-color-unfitted-level-2);\n",
       "}\n",
       "\n",
       "#sk-container-id-3 div.sk-estimator.fitted:hover {\n",
       "  /* fitted */\n",
       "  background-color: var(--sklearn-color-fitted-level-2);\n",
       "}\n",
       "\n",
       "/* Specification for estimator info (e.g. \"i\" and \"?\") */\n",
       "\n",
       "/* Common style for \"i\" and \"?\" */\n",
       "\n",
       ".sk-estimator-doc-link,\n",
       "a:link.sk-estimator-doc-link,\n",
       "a:visited.sk-estimator-doc-link {\n",
       "  float: right;\n",
       "  font-size: smaller;\n",
       "  line-height: 1em;\n",
       "  font-family: monospace;\n",
       "  background-color: var(--sklearn-color-background);\n",
       "  border-radius: 1em;\n",
       "  height: 1em;\n",
       "  width: 1em;\n",
       "  text-decoration: none !important;\n",
       "  margin-left: 0.5em;\n",
       "  text-align: center;\n",
       "  /* unfitted */\n",
       "  border: var(--sklearn-color-unfitted-level-1) 1pt solid;\n",
       "  color: var(--sklearn-color-unfitted-level-1);\n",
       "}\n",
       "\n",
       ".sk-estimator-doc-link.fitted,\n",
       "a:link.sk-estimator-doc-link.fitted,\n",
       "a:visited.sk-estimator-doc-link.fitted {\n",
       "  /* fitted */\n",
       "  border: var(--sklearn-color-fitted-level-1) 1pt solid;\n",
       "  color: var(--sklearn-color-fitted-level-1);\n",
       "}\n",
       "\n",
       "/* On hover */\n",
       "div.sk-estimator:hover .sk-estimator-doc-link:hover,\n",
       ".sk-estimator-doc-link:hover,\n",
       "div.sk-label-container:hover .sk-estimator-doc-link:hover,\n",
       ".sk-estimator-doc-link:hover {\n",
       "  /* unfitted */\n",
       "  background-color: var(--sklearn-color-unfitted-level-3);\n",
       "  color: var(--sklearn-color-background);\n",
       "  text-decoration: none;\n",
       "}\n",
       "\n",
       "div.sk-estimator.fitted:hover .sk-estimator-doc-link.fitted:hover,\n",
       ".sk-estimator-doc-link.fitted:hover,\n",
       "div.sk-label-container:hover .sk-estimator-doc-link.fitted:hover,\n",
       ".sk-estimator-doc-link.fitted:hover {\n",
       "  /* fitted */\n",
       "  background-color: var(--sklearn-color-fitted-level-3);\n",
       "  color: var(--sklearn-color-background);\n",
       "  text-decoration: none;\n",
       "}\n",
       "\n",
       "/* Span, style for the box shown on hovering the info icon */\n",
       ".sk-estimator-doc-link span {\n",
       "  display: none;\n",
       "  z-index: 9999;\n",
       "  position: relative;\n",
       "  font-weight: normal;\n",
       "  right: .2ex;\n",
       "  padding: .5ex;\n",
       "  margin: .5ex;\n",
       "  width: min-content;\n",
       "  min-width: 20ex;\n",
       "  max-width: 50ex;\n",
       "  color: var(--sklearn-color-text);\n",
       "  box-shadow: 2pt 2pt 4pt #999;\n",
       "  /* unfitted */\n",
       "  background: var(--sklearn-color-unfitted-level-0);\n",
       "  border: .5pt solid var(--sklearn-color-unfitted-level-3);\n",
       "}\n",
       "\n",
       ".sk-estimator-doc-link.fitted span {\n",
       "  /* fitted */\n",
       "  background: var(--sklearn-color-fitted-level-0);\n",
       "  border: var(--sklearn-color-fitted-level-3);\n",
       "}\n",
       "\n",
       ".sk-estimator-doc-link:hover span {\n",
       "  display: block;\n",
       "}\n",
       "\n",
       "/* \"?\"-specific style due to the `<a>` HTML tag */\n",
       "\n",
       "#sk-container-id-3 a.estimator_doc_link {\n",
       "  float: right;\n",
       "  font-size: 1rem;\n",
       "  line-height: 1em;\n",
       "  font-family: monospace;\n",
       "  background-color: var(--sklearn-color-background);\n",
       "  border-radius: 1rem;\n",
       "  height: 1rem;\n",
       "  width: 1rem;\n",
       "  text-decoration: none;\n",
       "  /* unfitted */\n",
       "  color: var(--sklearn-color-unfitted-level-1);\n",
       "  border: var(--sklearn-color-unfitted-level-1) 1pt solid;\n",
       "}\n",
       "\n",
       "#sk-container-id-3 a.estimator_doc_link.fitted {\n",
       "  /* fitted */\n",
       "  border: var(--sklearn-color-fitted-level-1) 1pt solid;\n",
       "  color: var(--sklearn-color-fitted-level-1);\n",
       "}\n",
       "\n",
       "/* On hover */\n",
       "#sk-container-id-3 a.estimator_doc_link:hover {\n",
       "  /* unfitted */\n",
       "  background-color: var(--sklearn-color-unfitted-level-3);\n",
       "  color: var(--sklearn-color-background);\n",
       "  text-decoration: none;\n",
       "}\n",
       "\n",
       "#sk-container-id-3 a.estimator_doc_link.fitted:hover {\n",
       "  /* fitted */\n",
       "  background-color: var(--sklearn-color-fitted-level-3);\n",
       "}\n",
       "</style><div id=\"sk-container-id-3\" class=\"sk-top-container\"><div class=\"sk-text-repr-fallback\"><pre>Pipeline(steps=[(&#x27;preprocessor&#x27;, StandardScaler()), (&#x27;classifier&#x27;, SVC())])</pre><b>In a Jupyter environment, please rerun this cell to show the HTML representation or trust the notebook. <br />On GitHub, the HTML representation is unable to render, please try loading this page with nbviewer.org.</b></div><div class=\"sk-container\" hidden><div class=\"sk-item sk-dashed-wrapped\"><div class=\"sk-label-container\"><div class=\"sk-label fitted sk-toggleable\"><input class=\"sk-toggleable__control sk-hidden--visually\" id=\"sk-estimator-id-7\" type=\"checkbox\" ><label for=\"sk-estimator-id-7\" class=\"sk-toggleable__label fitted sk-toggleable__label-arrow\"><div><div>Pipeline</div></div><div><a class=\"sk-estimator-doc-link fitted\" rel=\"noreferrer\" target=\"_blank\" href=\"https://scikit-learn.org/1.6/modules/generated/sklearn.pipeline.Pipeline.html\">?<span>Documentation for Pipeline</span></a><span class=\"sk-estimator-doc-link fitted\">i<span>Fitted</span></span></div></label><div class=\"sk-toggleable__content fitted\"><pre>Pipeline(steps=[(&#x27;preprocessor&#x27;, StandardScaler()), (&#x27;classifier&#x27;, SVC())])</pre></div> </div></div><div class=\"sk-serial\"><div class=\"sk-item\"><div class=\"sk-estimator fitted sk-toggleable\"><input class=\"sk-toggleable__control sk-hidden--visually\" id=\"sk-estimator-id-8\" type=\"checkbox\" ><label for=\"sk-estimator-id-8\" class=\"sk-toggleable__label fitted sk-toggleable__label-arrow\"><div><div>StandardScaler</div></div><div><a class=\"sk-estimator-doc-link fitted\" rel=\"noreferrer\" target=\"_blank\" href=\"https://scikit-learn.org/1.6/modules/generated/sklearn.preprocessing.StandardScaler.html\">?<span>Documentation for StandardScaler</span></a></div></label><div class=\"sk-toggleable__content fitted\"><pre>StandardScaler()</pre></div> </div></div><div class=\"sk-item\"><div class=\"sk-estimator fitted sk-toggleable\"><input class=\"sk-toggleable__control sk-hidden--visually\" id=\"sk-estimator-id-9\" type=\"checkbox\" ><label for=\"sk-estimator-id-9\" class=\"sk-toggleable__label fitted sk-toggleable__label-arrow\"><div><div>SVC</div></div><div><a class=\"sk-estimator-doc-link fitted\" rel=\"noreferrer\" target=\"_blank\" href=\"https://scikit-learn.org/1.6/modules/generated/sklearn.svm.SVC.html\">?<span>Documentation for SVC</span></a></div></label><div class=\"sk-toggleable__content fitted\"><pre>SVC()</pre></div> </div></div></div></div></div></div>"
      ],
      "text/plain": [
       "Pipeline(steps=[('preprocessor', StandardScaler()), ('classifier', SVC())])"
      ]
     },
     "execution_count": 55,
     "metadata": {},
     "output_type": "execute_result"
    }
   ],
   "source": [
    "pX = port_wine.drop(['quality'], axis='columns')\n",
    "py = port_wine['quality']\n",
    "pX_train, pX_test, py_train, py_test = train_test_split(pX, py, stratify=py, test_size=.3, random_state=42)\n",
    "\n",
    "port_wine_pipeline = Pipeline(\n",
    "    [\n",
    "        (\"preprocessor\", preprocessing.StandardScaler()),\n",
    "        (\"classifier\", svm.SVC())\n",
    "    ]\n",
    ")\n",
    "\n",
    "port_wine_pipeline.fit(pX_train, py_train)"
   ]
  },
  {
   "cell_type": "markdown",
   "id": "609bea47",
   "metadata": {},
   "source": [
    "As a reminder, in our previous classification pipelines, we obtained the accuracy by calling the `.score()` method. Let's explore this further."
   ]
  },
  {
   "cell_type": "code",
   "execution_count": 56,
   "id": "3a685b78",
   "metadata": {},
   "outputs": [
    {
     "data": {
      "text/plain": [
       "0.9041666666666667"
      ]
     },
     "execution_count": 56,
     "metadata": {},
     "output_type": "execute_result"
    }
   ],
   "source": [
    "port_wine_pipeline.score(pX_test, py_test)"
   ]
  },
  {
   "cell_type": "markdown",
   "id": "0834f358",
   "metadata": {},
   "source": [
    "### <span style=\"color:teal\"> Accuracy"
   ]
  },
  {
   "cell_type": "markdown",
   "id": "f4688100",
   "metadata": {},
   "source": [
    "Accuracy is given by the proportion of correct predictions, among all classes. For example, if we predicted correctly $87$ cases out of $100$, independent of which class those successful cases were on, then the accuracy would be $.87$.\n",
    "$$\n",
    "accuracy = \\frac{\\text{number of correct predictions}}{n}\n",
    "$$\n",
    "This may intuitively seem the natural metric for performance, and it's fine for quite a few cases, but it may fail.\n",
    "\n",
    "Imagine you have an unbalanced dataset, where 99% of observations come from one class (call it $C_1$), and only $1\\%$ from the other. I can have a very simple classifier that always predicts $C_1$. If my test data is also split $99/1$, I will have an accuracy of $99%$!!\n",
    "\n",
    "But what if the $1\\%$ which is a very rare occurrance, is actually of high impact? This is common, for example, with medical diagnosis: even if the percentage of a disease in a population is small, we want to be able to properly diagnose it!"
   ]
  },
  {
   "cell_type": "markdown",
   "id": "7ec2642a",
   "metadata": {},
   "source": [
    "### <span style=\"color:teal\"> Classification Report\n",
    "We can get more measures of performance with a `classification report` from the `metrics` module:"
   ]
  },
  {
   "cell_type": "code",
   "execution_count": 57,
   "id": "46816f2d",
   "metadata": {},
   "outputs": [
    {
     "name": "stdout",
     "output_type": "stream",
     "text": [
      "              precision    recall  f1-score   support\n",
      "\n",
      "           0       0.91      0.99      0.95       415\n",
      "           1       0.88      0.34      0.49        65\n",
      "\n",
      "    accuracy                           0.90       480\n",
      "   macro avg       0.89      0.67      0.72       480\n",
      "weighted avg       0.90      0.90      0.89       480\n",
      "\n"
     ]
    }
   ],
   "source": [
    "py_pred = port_wine_pipeline.predict(pX_test)\n",
    "print(metrics.classification_report(py_test, py_pred))"
   ]
  },
  {
   "cell_type": "markdown",
   "id": "1695de6e",
   "metadata": {},
   "source": [
    "- **Precision** for a class $C$ is the proportion of observations correctly classified as class $C$ out of everything classified as $C$. The higher the better.\n",
    "- **Recall** for a class $C$ is the proportion of observations correctly classified as class $C$ out of everything that was actually from $C$. The higher the better.\n",
    "- **$F_1$ Score** Is a type of average of precision and recall. It can show us the tradeoff between these two. The higher the better.\n",
    "- **Support** The number of test observations of each class."
   ]
  },
  {
   "cell_type": "markdown",
   "id": "55f8d228",
   "metadata": {},
   "source": [
    "In our example above, our classifier performed much better on class $0$ (standard quality wines) than on class $1$ (high quality wines). Notice we have way more examples of standard wines.\n",
    "\n",
    "**Averages**\n",
    "- The macro average is just the average over all classes.\n",
    "- The weighted average considers the relative number of observations for each class."
   ]
  },
  {
   "cell_type": "markdown",
   "id": "ad1f49db",
   "metadata": {},
   "source": [
    "STOP!!\n",
    "\n",
    "Let's think a little bit about each of these results.\n",
    "\n",
    "1. Let's think about precision and recall for each class.\n",
    "2. Let's think about averages:\n",
    "\n",
    "For example, our recall macro average is $67$, not that great. This is because our performance on high quality wines is very poor. However, we don't have that many high quality wines overall, so it's unlikely we will encounter them. If that is the case, and errors on class $0$ and class $1$ are equally important, we may prefer the weighted average to account for our good performance on standard wines, which is most of the time.\n",
    "\n",
    "HOWEVER, some errors may be much more important than others. What if class $1$, for example, was a rare disease? We definitely don't want to downplay poor performance just because the disease is rare."
   ]
  },
  {
   "cell_type": "markdown",
   "id": "d282681c",
   "metadata": {},
   "source": [
    "#### <span style=\"color:blue\">Example - Imbalanced Dataset</span>"
   ]
  },
  {
   "cell_type": "markdown",
   "id": "425c2d2d",
   "metadata": {},
   "source": [
    "I have prepared an imbalanced version of the wine dataset. Here only the highest quality wines are labeled as positive. Wines for true snobs."
   ]
  },
  {
   "cell_type": "code",
   "execution_count": 58,
   "id": "aa350883",
   "metadata": {},
   "outputs": [
    {
     "data": {
      "text/plain": [
       "quality\n",
       "0    1581\n",
       "1      18\n",
       "Name: count, dtype: int64"
      ]
     },
     "execution_count": 58,
     "metadata": {},
     "output_type": "execute_result"
    }
   ],
   "source": [
    "imb_wine = pd.read_csv(red_wine_imbalanced_directory)\n",
    "imb_wine['quality'].value_counts()"
   ]
  },
  {
   "cell_type": "markdown",
   "id": "17db5912",
   "metadata": {},
   "source": [
    "Let's create the classifier:"
   ]
  },
  {
   "cell_type": "code",
   "execution_count": 59,
   "id": "319657f5",
   "metadata": {},
   "outputs": [],
   "source": [
    "# Split the data\n",
    "imb_X = imb_wine.drop(['quality'], axis='columns')\n",
    "imb_y = imb_wine['quality']\n",
    "iX_train, iX_test, iy_train, iy_test = train_test_split(imb_X, imb_y, test_size=.2, stratify=imb_y, random_state=42)\n",
    "# stratify makes sure we keep a similar proportion of  each label in the test dataset"
   ]
  },
  {
   "cell_type": "code",
   "execution_count": 60,
   "id": "b8d9d4d2",
   "metadata": {},
   "outputs": [],
   "source": [
    "# Create and train classifier on imbalanced data\n",
    "imb_clf = svm.SVC().fit(iX_train, iy_train)"
   ]
  },
  {
   "cell_type": "markdown",
   "id": "d601e5a4",
   "metadata": {},
   "source": [
    "For comparison, let's create a simple classifier that always predicts $0$, no matter what."
   ]
  },
  {
   "cell_type": "code",
   "execution_count": 61,
   "id": "1df6d927",
   "metadata": {},
   "outputs": [],
   "source": [
    "# Simple classifier for comparison\n",
    "def simple_clf_score(X, y):\n",
    "    prediction = 0\n",
    "    correct_n = sum(y==prediction)\n",
    "    accuracy = correct_n / len(X)\n",
    "    return accuracy"
   ]
  },
  {
   "cell_type": "code",
   "execution_count": 62,
   "id": "8a3b4666",
   "metadata": {},
   "outputs": [
    {
     "name": "stdout",
     "output_type": "stream",
     "text": [
      "SVM's accuracy: 0.99\n",
      "Simple classifier accuracy: 0.99\n"
     ]
    }
   ],
   "source": [
    "# Compute accuracy\n",
    "svm_acc = imb_clf.score(iX_test, iy_test)\n",
    "dc_acc = simple_clf_score(iX_test, iy_test)\n",
    "\n",
    "print(f\"SVM's accuracy: {svm_acc:.2f}\\nSimple classifier accuracy: {dc_acc:.2f}\")"
   ]
  },
  {
   "cell_type": "markdown",
   "id": "47bd7b8e",
   "metadata": {},
   "source": [
    "So the SVM is doing just as well as my classifier which just predicts the $0$ label (indeed, the SVM is JUST predcting the 0 label)."
   ]
  },
  {
   "cell_type": "code",
   "execution_count": 63,
   "id": "e467f3e7",
   "metadata": {},
   "outputs": [
    {
     "name": "stdout",
     "output_type": "stream",
     "text": [
      "              precision    recall  f1-score   support\n",
      "\n",
      "           0       0.99      1.00      0.99       316\n",
      "           1       0.00      0.00      0.00         4\n",
      "\n",
      "    accuracy                           0.99       320\n",
      "   macro avg       0.49      0.50      0.50       320\n",
      "weighted avg       0.98      0.99      0.98       320\n",
      "\n"
     ]
    }
   ],
   "source": [
    "iy_pred = imb_clf.predict(iX_test)\n",
    "print(metrics.classification_report(iy_test, iy_pred, zero_division=0))"
   ]
  },
  {
   "cell_type": "markdown",
   "id": "aa50e947",
   "metadata": {},
   "source": [
    "(You may notice the `zero_division` parameter. This is to handle the fact that our classifier never predicts $1$)"
   ]
  },
  {
   "cell_type": "markdown",
   "id": "a7856ead",
   "metadata": {},
   "source": [
    "#### <span style=\"color:red\">EXERCISE</span>\n",
    "<hr>"
   ]
  },
  {
   "cell_type": "markdown",
   "id": "ba155506",
   "metadata": {},
   "source": [
    "1. Take a look at the confusion matrix in the slides and discuss with your neighbor the meaning of some terms like FPR, TPR or Recall and Precision.\n",
    "2. Take a minute to think alone about the classification report for the extremely imabalanced wine dataset, try to interpret the results. Discuss with your neighbor.\n",
    "3. Looking at precision for class $0$, why is it so good compared to class $1$? How is this related to the class imbalance?\n",
    "4. Why are the macro and weighted averages so different? When would you use one or the other?"
   ]
  },
  {
   "cell_type": "markdown",
   "id": "9417980a",
   "metadata": {},
   "source": [
    "<hr>"
   ]
  },
  {
   "cell_type": "markdown",
   "id": "d58ddf2c",
   "metadata": {},
   "source": [
    "**There's much more to this!**"
   ]
  },
  {
   "cell_type": "markdown",
   "id": "6ebc629e",
   "metadata": {},
   "source": [
    "At this point, you may realize it is not so straightforward to decide what to focus on when it comes to performance. For example:\n",
    "- In medical diagnosis, if your classifier focuses on not missing any positive, it may yield a lot of false positives, freaking out a lot of people. Confirmatory tests are used to ameliorate the situation.\n",
    "- When it comes to weather warnings, you definitely don't want to miss any (for example earthquakes, tornadoes, etc.)! However, you don't want to have so many false positives that the general population will stop believing in you, leading to a boy who cried wolf scenario.\n",
    "- We don't have time to discuss this further, but a fun article would be the [base rate fallacy](https://en.wikipedia.org/wiki/Base_rate_fallacy)."
   ]
  },
  {
   "cell_type": "markdown",
   "id": "aa8637d9",
   "metadata": {},
   "source": [
    "### <span style=\"color:teal\"> The `metrics` module"
   ]
  },
  {
   "cell_type": "markdown",
   "id": "33967c1a",
   "metadata": {},
   "source": [
    "Since the `.score()` method only returns accuracy, sklearn provides a handy way to obtain other metrics through the `metrics` module. This will come in handy if you compare models according to a given metric that is not the default.\n",
    "\n",
    "`metrics` has access to a wide variety of metrics for both classification and regression, some more exotic than others. Here we'll just see how to obtain individually some standard metrics."
   ]
  },
  {
   "cell_type": "markdown",
   "id": "f5f85ae3",
   "metadata": {},
   "source": [
    "Let's switch back to our original, less imablanced portuguese wine dataset."
   ]
  },
  {
   "cell_type": "markdown",
   "id": "c3dfa984",
   "metadata": {},
   "source": [
    "#### Standard Metrics"
   ]
  },
  {
   "cell_type": "code",
   "execution_count": 79,
   "id": "cc5648ab",
   "metadata": {},
   "outputs": [
    {
     "name": "stdout",
     "output_type": "stream",
     "text": [
      "\n",
      "Accuracy: 0.90\n",
      "Precission: 0.88\n",
      "Recall: 0.34\n",
      "F1 Score: 0.49\n",
      "\n"
     ]
    }
   ],
   "source": [
    "# Back to the slightly more balanced dataset\n",
    "\n",
    "# We'll need the predicted values on the test data\n",
    "py_pred = port_wine_pipeline.predict(pX_test)\n",
    "\n",
    "# We can extract a variety of metrics, let's start with the ones from the classification report:\n",
    "pw_clf_acc = metrics.accuracy_score(py_test, py_pred) # this is the same as using .score()\n",
    "pw_clf_prec = metrics.precision_score(py_test, py_pred) # this will compute the precision\n",
    "pw_clf_recall = metrics.recall_score(py_test, py_pred)\n",
    "pw_clf_f1 = metrics.f1_score(py_test, py_pred)\n",
    "\n",
    "metrics_summary = f\"\"\"\n",
    "Accuracy: {pw_clf_acc:.2f}\n",
    "Precission: {pw_clf_prec:.2f}\n",
    "Recall: {pw_clf_recall:.2f}\n",
    "F1 Score: {pw_clf_f1:.2f}\n",
    "\"\"\"\n",
    "print(metrics_summary)"
   ]
  },
  {
   "cell_type": "markdown",
   "id": "ccc2ee50",
   "metadata": {},
   "source": [
    "#### The Confusion Matrix in scikit-learn"
   ]
  },
  {
   "cell_type": "code",
   "execution_count": 65,
   "id": "126955e2",
   "metadata": {},
   "outputs": [
    {
     "name": "stdout",
     "output_type": "stream",
     "text": [
      "Confusion matrix:\n",
      "[[412   3]\n",
      " [ 43  22]]\n"
     ]
    },
    {
     "data": {
      "image/png": "[encoded data removed]",
      "text/plain": [
       "<Figure size 640x480 with 2 Axes>"
      ]
     },
     "metadata": {},
     "output_type": "display_data"
    }
   ],
   "source": [
    "# Raw confusion matrix\n",
    "raw_matrix = metrics.confusion_matrix(py_test, py_pred)\n",
    "print(f\"Confusion matrix:\\n{raw_matrix}\")\n",
    "\n",
    "# nicely visualized\n",
    "metrics.ConfusionMatrixDisplay.from_predictions(py_test, py_pred);"
   ]
  },
  {
   "cell_type": "markdown",
   "id": "60dc8ff1",
   "metadata": {},
   "source": [
    "### <span style=\"color:teal\"> Receiver Operating Characteristic (ROC) and Precision-Recall (PR) Curves"
   ]
  },
  {
   "cell_type": "markdown",
   "id": "bd841ec6",
   "metadata": {},
   "source": [
    "#### Understanding decision functions and classification thresholds"
   ]
  },
  {
   "cell_type": "markdown",
   "id": "49c19285",
   "metadata": {},
   "source": [
    "Classifiers usually work by computing some real value of an observation, and then thresholding, such that if that value is larger than the threshold, the observation is labeled as one class (say the positive class), while if it is smaller then it will be the other class.\n",
    "\n",
    "These values are either computed as probabilities or through a decision function. For example, for a given observation $x$ and a given threshold $\\tau$:\n",
    "$$\n",
    "C_1: f(x) \\ge \\tau \\\\\n",
    "C_0: f(x) < \\tau\n",
    "$$"
   ]
  },
  {
   "cell_type": "markdown",
   "id": "cb9ea8f8",
   "metadata": {},
   "source": [
    "Choosing a good threshold is not always trivial. Our running example (the SVM), has a 'natural', geometrically motivaded threshold of $0$. However, other thresholds could be better depending on our case and our data. To study those, we use the ROC curve and the PR curve."
   ]
  },
  {
   "cell_type": "markdown",
   "id": "1746a646",
   "metadata": {},
   "source": [
    "**(Note)** Some classifiers will use probabilities instead of the decision function. Furthermore, for some classifiers using decision functions, you can also convert decision function values to probabilities. In the case of SVC, you need to indicate `probability=True` when creating the `svm.SVC()` object."
   ]
  },
  {
   "cell_type": "markdown",
   "id": "53f7af3b",
   "metadata": {},
   "source": [
    "The decision function values will be needed to compute the ROC curve:"
   ]
  },
  {
   "cell_type": "code",
   "execution_count": 66,
   "id": "0769ba08",
   "metadata": {},
   "outputs": [
    {
     "data": {
      "text/plain": [
       "array([-1.29790281, -1.09194051, -1.10176649, -1.12974832, -1.32714634,\n",
       "       -1.20742612, -1.39115739, -1.24024576, -1.00004521, -1.23621845,\n",
       "       -1.08953367, -0.96103076, -1.3276137 , -0.7777825 , -1.17444207,\n",
       "       -1.19769345,  0.60136173, -1.3525244 , -0.95604438, -1.01988701])"
      ]
     },
     "execution_count": 66,
     "metadata": {},
     "output_type": "execute_result"
    }
   ],
   "source": [
    "# By default, SVC does not compute probabilities, but we can get the decision functions values:\n",
    "py_dfunc_values = port_wine_pipeline.decision_function(pX_test)\n",
    "py_dfunc_values[0:20]"
   ]
  },
  {
   "cell_type": "markdown",
   "id": "f760387d",
   "metadata": {},
   "source": [
    "By default, our classifier has a threshold of $\\tau_{default}=0$. Hence, it should map the negative values to the $0^{th}$ class and the positive ones to the $1^{th}$ class."
   ]
  },
  {
   "cell_type": "code",
   "execution_count": 67,
   "id": "b18ee367",
   "metadata": {},
   "outputs": [
    {
     "data": {
      "text/html": [
       "<div>\n",
       "<style scoped>\n",
       "    .dataframe tbody tr th:only-of-type {\n",
       "        vertical-align: middle;\n",
       "    }\n",
       "\n",
       "    .dataframe tbody tr th {\n",
       "        vertical-align: top;\n",
       "    }\n",
       "\n",
       "    .dataframe thead th {\n",
       "        text-align: right;\n",
       "    }\n",
       "</style>\n",
       "<table border=\"1\" class=\"dataframe\">\n",
       "  <thead>\n",
       "    <tr style=\"text-align: right;\">\n",
       "      <th></th>\n",
       "      <th>decision_function</th>\n",
       "      <th>predicted_class</th>\n",
       "    </tr>\n",
       "  </thead>\n",
       "  <tbody>\n",
       "    <tr>\n",
       "      <th>0</th>\n",
       "      <td>-1.297903</td>\n",
       "      <td>0</td>\n",
       "    </tr>\n",
       "    <tr>\n",
       "      <th>1</th>\n",
       "      <td>-1.091941</td>\n",
       "      <td>0</td>\n",
       "    </tr>\n",
       "    <tr>\n",
       "      <th>2</th>\n",
       "      <td>-1.101766</td>\n",
       "      <td>0</td>\n",
       "    </tr>\n",
       "    <tr>\n",
       "      <th>3</th>\n",
       "      <td>-1.129748</td>\n",
       "      <td>0</td>\n",
       "    </tr>\n",
       "    <tr>\n",
       "      <th>4</th>\n",
       "      <td>-1.327146</td>\n",
       "      <td>0</td>\n",
       "    </tr>\n",
       "    <tr>\n",
       "      <th>5</th>\n",
       "      <td>-1.207426</td>\n",
       "      <td>0</td>\n",
       "    </tr>\n",
       "    <tr>\n",
       "      <th>6</th>\n",
       "      <td>-1.391157</td>\n",
       "      <td>0</td>\n",
       "    </tr>\n",
       "    <tr>\n",
       "      <th>7</th>\n",
       "      <td>-1.240246</td>\n",
       "      <td>0</td>\n",
       "    </tr>\n",
       "    <tr>\n",
       "      <th>8</th>\n",
       "      <td>-1.000045</td>\n",
       "      <td>0</td>\n",
       "    </tr>\n",
       "    <tr>\n",
       "      <th>9</th>\n",
       "      <td>-1.236218</td>\n",
       "      <td>0</td>\n",
       "    </tr>\n",
       "    <tr>\n",
       "      <th>10</th>\n",
       "      <td>-1.089534</td>\n",
       "      <td>0</td>\n",
       "    </tr>\n",
       "    <tr>\n",
       "      <th>11</th>\n",
       "      <td>-0.961031</td>\n",
       "      <td>0</td>\n",
       "    </tr>\n",
       "    <tr>\n",
       "      <th>12</th>\n",
       "      <td>-1.327614</td>\n",
       "      <td>0</td>\n",
       "    </tr>\n",
       "    <tr>\n",
       "      <th>13</th>\n",
       "      <td>-0.777782</td>\n",
       "      <td>0</td>\n",
       "    </tr>\n",
       "    <tr>\n",
       "      <th>14</th>\n",
       "      <td>-1.174442</td>\n",
       "      <td>0</td>\n",
       "    </tr>\n",
       "    <tr>\n",
       "      <th>15</th>\n",
       "      <td>-1.197693</td>\n",
       "      <td>0</td>\n",
       "    </tr>\n",
       "    <tr>\n",
       "      <th>16</th>\n",
       "      <td>0.601362</td>\n",
       "      <td>1</td>\n",
       "    </tr>\n",
       "    <tr>\n",
       "      <th>17</th>\n",
       "      <td>-1.352524</td>\n",
       "      <td>0</td>\n",
       "    </tr>\n",
       "    <tr>\n",
       "      <th>18</th>\n",
       "      <td>-0.956044</td>\n",
       "      <td>0</td>\n",
       "    </tr>\n",
       "    <tr>\n",
       "      <th>19</th>\n",
       "      <td>-1.019887</td>\n",
       "      <td>0</td>\n",
       "    </tr>\n",
       "  </tbody>\n",
       "</table>\n",
       "</div>"
      ],
      "text/plain": [
       "    decision_function  predicted_class\n",
       "0           -1.297903                0\n",
       "1           -1.091941                0\n",
       "2           -1.101766                0\n",
       "3           -1.129748                0\n",
       "4           -1.327146                0\n",
       "5           -1.207426                0\n",
       "6           -1.391157                0\n",
       "7           -1.240246                0\n",
       "8           -1.000045                0\n",
       "9           -1.236218                0\n",
       "10          -1.089534                0\n",
       "11          -0.961031                0\n",
       "12          -1.327614                0\n",
       "13          -0.777782                0\n",
       "14          -1.174442                0\n",
       "15          -1.197693                0\n",
       "16           0.601362                1\n",
       "17          -1.352524                0\n",
       "18          -0.956044                0\n",
       "19          -1.019887                0"
      ]
     },
     "execution_count": 67,
     "metadata": {},
     "output_type": "execute_result"
    }
   ],
   "source": [
    "py_pred = port_wine_pipeline.predict(pX_test)\n",
    "dfunc_df = pd.DataFrame({\"decision_function\": py_dfunc_values, \"predicted_class\": py_pred})\n",
    "dfunc_df.head(20)"
   ]
  },
  {
   "cell_type": "markdown",
   "id": "5b27203a",
   "metadata": {},
   "source": [
    "Remember that now from all of these predicted values, which were obtained using the default threshold $\\tau=0$, we obtain particular performance metrics, for example the true positive rate (recall):"
   ]
  },
  {
   "cell_type": "code",
   "execution_count": 68,
   "id": "0e6c2d37",
   "metadata": {},
   "outputs": [
    {
     "name": "stdout",
     "output_type": "stream",
     "text": [
      "TPR (tau=0): 0.34\n"
     ]
    }
   ],
   "source": [
    "print(f\"TPR (tau=0): {pw_clf_recall:.2f}\")"
   ]
  },
  {
   "cell_type": "markdown",
   "id": "80e41bf9",
   "metadata": {},
   "source": [
    "Hopefully this clarifies the relationship between the decision function, thresholds, predicted classes, and overall performance."
   ]
  },
  {
   "cell_type": "markdown",
   "id": "0a5ff470",
   "metadata": {},
   "source": [
    "**Computing values for ROC curve**"
   ]
  },
  {
   "cell_type": "markdown",
   "id": "8fca1df8",
   "metadata": {},
   "source": [
    "We can compute the raw ROC values:"
   ]
  },
  {
   "cell_type": "code",
   "execution_count": 69,
   "id": "bd332f89",
   "metadata": {},
   "outputs": [],
   "source": [
    "# Will return false postive rates, true positive rates, and the threshold those values belong to\n",
    "fpr, tpr, thresholds = metrics.roc_curve(py_test, py_dfunc_values)"
   ]
  },
  {
   "cell_type": "markdown",
   "id": "c374fe84",
   "metadata": {},
   "source": [
    "How are these related? Let's look at the threshold `sklearn` tried, and the resulting FPR values per threshold:"
   ]
  },
  {
   "cell_type": "code",
   "execution_count": 70,
   "id": "d4fea7f6",
   "metadata": {},
   "outputs": [
    {
     "data": {
      "text/plain": [
       "array([        inf,  1.21717019,  0.39827136,  0.38841677,  0.35934486,\n",
       "        0.33145083,  0.26774805,  0.23714662,  0.02044853, -0.07650539,\n",
       "       -0.16260752, -0.39868845, -0.46309746, -0.47349215, -0.53123261,\n",
       "       -0.55118628, -0.59521042, -0.5999714 , -0.61066896, -0.61693491,\n",
       "       -0.65390574, -0.65713825, -0.68908904, -0.72395033, -0.73413125,\n",
       "       -0.75477077, -0.75742969, -0.7756029 , -0.80726017, -0.81993187,\n",
       "       -0.8596334 , -0.86040939, -0.93809038, -0.94444221, -0.96380949,\n",
       "       -0.96524292, -1.00507709, -1.0059164 , -1.01857725, -1.01988701,\n",
       "       -1.02559992, -1.02759428, -1.03367218, -1.03424199, -1.03704702,\n",
       "       -1.04167869, -1.05424462, -1.05576446, -1.07016142, -1.07034823,\n",
       "       -1.0728325 , -1.07521376, -1.08514911, -1.08667357, -1.09823758,\n",
       "       -1.09861655, -1.10780639, -1.10840309, -1.11414445, -1.11545685,\n",
       "       -1.1220132 , -1.12226082, -1.12256242, -1.12974832, -1.12992283,\n",
       "       -1.182836  , -1.18312906, -1.18591113, -1.18667064, -1.18765639,\n",
       "       -1.18818052, -1.19293499, -1.19400069, -1.20178861, -1.20268255,\n",
       "       -1.20316598, -1.20321367, -1.2355407 , -1.23621845, -1.23817288,\n",
       "       -1.2384681 , -1.23848842, -1.24024576, -1.24923761, -1.25081789,\n",
       "       -1.25145371, -1.25191823, -1.28094627, -1.28419039, -1.29651157,\n",
       "       -1.29735229, -1.32714634, -1.3276137 , -1.34285309, -1.3501468 ,\n",
       "       -1.43237375, -1.43571217, -1.4921566 , -1.49890653, -1.58926654])"
      ]
     },
     "execution_count": 70,
     "metadata": {},
     "output_type": "execute_result"
    }
   ],
   "source": [
    "thresholds"
   ]
  },
  {
   "cell_type": "code",
   "execution_count": 71,
   "id": "7d2537a9",
   "metadata": {},
   "outputs": [
    {
     "data": {
      "text/plain": [
       "array([0.        , 0.        , 0.        , 0.00240964, 0.00240964,\n",
       "       0.00481928, 0.00481928, 0.00722892, 0.00722892, 0.01445783,\n",
       "       0.01445783, 0.02891566, 0.02891566, 0.0313253 , 0.0313253 ,\n",
       "       0.03373494, 0.03855422, 0.03855422, 0.04337349, 0.04337349,\n",
       "       0.04578313, 0.04578313, 0.05060241, 0.05060241, 0.05542169,\n",
       "       0.05542169, 0.05783133, 0.05783133, 0.06506024, 0.06506024,\n",
       "       0.07228916, 0.07228916, 0.12048193, 0.12048193, 0.13253012,\n",
       "       0.13253012, 0.21445783, 0.21927711, 0.25060241, 0.25060241,\n",
       "       0.26506024, 0.26506024, 0.27710843, 0.28192771, 0.28915663,\n",
       "       0.28915663, 0.32048193, 0.32048193, 0.33975904, 0.33975904,\n",
       "       0.34457831, 0.34939759, 0.37349398, 0.37349398, 0.39277108,\n",
       "       0.39277108, 0.41927711, 0.41927711, 0.44578313, 0.44578313,\n",
       "       0.47228916, 0.47710843, 0.47710843, 0.48433735, 0.48915663,\n",
       "       0.59759036, 0.60240964, 0.60963855, 0.61445783, 0.61686747,\n",
       "       0.61686747, 0.6313253 , 0.6313253 , 0.64819277, 0.64819277,\n",
       "       0.65301205, 0.65783133, 0.71566265, 0.72048193, 0.72771084,\n",
       "       0.73253012, 0.73493976, 0.74457831, 0.75662651, 0.76144578,\n",
       "       0.76626506, 0.76626506, 0.80481928, 0.80481928, 0.81686747,\n",
       "       0.82168675, 0.85783133, 0.8626506 , 0.87710843, 0.88674699,\n",
       "       0.95662651, 0.96626506, 0.99036145, 0.99518072, 1.        ])"
      ]
     },
     "execution_count": 71,
     "metadata": {},
     "output_type": "execute_result"
    }
   ],
   "source": [
    "fpr"
   ]
  },
  {
   "cell_type": "markdown",
   "id": "9289d277",
   "metadata": {},
   "source": [
    "Notice that when our decision threshold is very high, we don't have any False Positives. That makes sense because we are being overly strict on what we consider a positive, so almost no point will be missclassified as such.\n",
    "\n",
    "The more we reduced our threshold, the more false positives we get, and hence a higher FPR. By the time we make our threshold super small, such that basically everything is considered class 1, we missclassify all the negatives a positive and hence get FPR of $1$."
   ]
  },
  {
   "cell_type": "markdown",
   "id": "366b5037",
   "metadata": {},
   "source": [
    "Let's plot how TPR and FPR change individually as we change thresholds."
   ]
  },
  {
   "cell_type": "code",
   "execution_count": 72,
   "id": "1e2089bb",
   "metadata": {},
   "outputs": [
    {
     "data": {
      "image/png": "[encoded data removed]",
      "text/plain": [
       "<Figure size 640x480 with 1 Axes>"
      ]
     },
     "metadata": {},
     "output_type": "display_data"
    }
   ],
   "source": [
    "plt.plot(thresholds, fpr)\n",
    "plt.xlabel(\"Classification Threshold\")\n",
    "plt.ylabel(\"False Positive Rate (FPR)\")\n",
    "plt.title(\"FPR as threshold changes\")\n",
    "plt.show()"
   ]
  },
  {
   "cell_type": "code",
   "execution_count": 73,
   "id": "3cbc1742",
   "metadata": {},
   "outputs": [
    {
     "data": {
      "image/png": "[encoded data removed]",
      "text/plain": [
       "<Figure size 640x480 with 1 Axes>"
      ]
     },
     "metadata": {},
     "output_type": "display_data"
    }
   ],
   "source": [
    "plt.plot(thresholds, tpr)\n",
    "plt.xlabel(\"Classification Threshold\")\n",
    "plt.ylabel(\"Recall or True Positive Rate (TPR)\")\n",
    "plt.title(\"TPR as threshold changes\")\n",
    "plt.show()"
   ]
  },
  {
   "cell_type": "markdown",
   "id": "444161d1",
   "metadata": {},
   "source": [
    "#### The ROC Curve"
   ]
  },
  {
   "cell_type": "markdown",
   "id": "6056e700",
   "metadata": {},
   "source": [
    "We can now display FPR vs TPR. The ROC curve does NOT display the thresholds themselves."
   ]
  },
  {
   "cell_type": "code",
   "execution_count": 74,
   "id": "4b607280",
   "metadata": {},
   "outputs": [
    {
     "data": {
      "image/png": "[encoded data removed]",
      "text/plain": [
       "<Figure size 640x480 with 1 Axes>"
      ]
     },
     "metadata": {},
     "output_type": "display_data"
    }
   ],
   "source": [
    "metrics.RocCurveDisplay.from_predictions(py_test, py_dfunc_values);\n",
    "# The semi-colon suppresses unnescessary matplotlib output"
   ]
  },
  {
   "cell_type": "markdown",
   "id": "cc2b4a85",
   "metadata": {},
   "source": [
    "**Interpretation**\n",
    "- Ideally we want our classifier to have as high a TPR and as low an FPR as possible. Hence, we must choose the threshold achieving the point closest to the top left (thresholds are not shown in the figure above).\n",
    "- The curve is a visual summary of how our classifier works for a variety of thresholds, the area under the curve (AUC in the plot) is an aggregate of how the classifier performs over all thresholds."
   ]
  },
  {
   "cell_type": "markdown",
   "id": "43180cd6",
   "metadata": {},
   "source": [
    "#### The PR Curve"
   ]
  },
  {
   "cell_type": "markdown",
   "id": "d5a1e20d",
   "metadata": {},
   "source": [
    "The Precision-Recall curve works similar to the ROC but with Precision vs Recall.\n",
    "- Ideally, we would have both high recall (TPR) and high precision (fraction of true positives to everything we classified as positive).\n",
    "- So we would want a right-upward bulging arc."
   ]
  },
  {
   "cell_type": "markdown",
   "id": "10ef3995",
   "metadata": {},
   "source": [
    "Now let's compute the precision recall curve."
   ]
  },
  {
   "cell_type": "code",
   "execution_count": 75,
   "id": "54d7a64d",
   "metadata": {},
   "outputs": [],
   "source": [
    "# Raw option, useful when thresholds are needed\n",
    "pw_clf_precision, pw_clf_recall, pw_clf_pr_thresholds = metrics.precision_recall_curve(py_test, py_dfunc_values)"
   ]
  },
  {
   "cell_type": "code",
   "execution_count": 76,
   "id": "26574cad",
   "metadata": {},
   "outputs": [
    {
     "data": {
      "image/png": "[encoded data removed]",
      "text/plain": [
       "<Figure size 640x480 with 1 Axes>"
      ]
     },
     "metadata": {},
     "output_type": "display_data"
    }
   ],
   "source": [
    "# Visual option, for quick overall reading of behavior\n",
    "metrics.PrecisionRecallDisplay.from_predictions(py_test, py_dfunc_values);"
   ]
  },
  {
   "cell_type": "markdown",
   "id": "2be99943",
   "metadata": {},
   "source": [
    "**Interpretation**\n",
    "- Aha! The PR curve, which ideally is as pushed to the top right as possible, is pretty bad. This was not clear with the ROC curve. The PR curve is better at diagnosing problems when data is imbalanced.\n",
    "- A one-number metric summarizing the curve above is the average precision (AP), which weights precision based on recall increases. The exact formula is in the [documentation](https://scikit-learn.org/stable/modules/generated/sklearn.metrics.average_precision_score.html)"
   ]
  },
  {
   "cell_type": "markdown",
   "id": "338dfe39",
   "metadata": {},
   "source": [
    "#### <span style=\"color:red\">EXERCISE</span>\n",
    "<hr>"
   ]
  },
  {
   "cell_type": "markdown",
   "id": "3c8a6500",
   "metadata": {},
   "source": [
    "1. Discuss with your neighbors what the shapes of ROC and PR curves can tell us about a classifier.\n",
    "3. Why, in the case of imbalanced data, would the PR be more informative than the ROC?"
   ]
  },
  {
   "cell_type": "markdown",
   "id": "82547ccc",
   "metadata": {},
   "source": [
    "<hr>"
   ]
  },
  {
   "cell_type": "markdown",
   "id": "506fc254",
   "metadata": {},
   "source": [
    "#### When and how to use the ROC and PR curves"
   ]
  },
  {
   "cell_type": "markdown",
   "id": "bc6525ab",
   "metadata": {},
   "source": [
    "You can use the curves in two scenarios:\n",
    "\n",
    "1. **Threshold Selection.** If you have a classifier or model you are sure to use, you can use the above curves to choose a specific threshold.\n",
    "    - For example, you can find the point on the ROC curve with highest TPR given an FPR tolerance.\n",
    "    - Or, using the PR curve, you can find the threshold that optimizes a trade-off between precision and recall, like maximizing the $F_1$ score.\n",
    "\n",
    "2. **Model Selection.** If you want to compare performance among classifiers or models.\n",
    "    - In this case, you can obtain an overall summary of performance with the ROC area under the curve (AUC) or the PR average precision (AP), and pick the model that maximizes these.\n",
    "\n",
    "And remember that when your classes are imbalanced, PR is preferable to ROC."
   ]
  },
  {
   "cell_type": "markdown",
   "id": "47f99de0",
   "metadata": {},
   "source": [
    "In the next section we will talk about cross-validation, the ML go-to framework to compare among models!"
   ]
  },
  {
   "cell_type": "markdown",
   "id": "42787e1c",
   "metadata": {},
   "source": []
  }
 ],
 "metadata": {
  "author": "efrén cruz cortés",
  "kernelspec": {
   "display_name": "scikit-learn-workshop",
   "language": "python",
   "name": "python3"
  },
  "language_info": {
   "codemirror_mode": {
    "name": "ipython",
    "version": 3
   },
   "file_extension": ".py",
   "mimetype": "text/x-python",
   "name": "python",
   "nbconvert_exporter": "python",
   "pygments_lexer": "ipython3",
   "version": "3.11.5"
  }
 },
 "nbformat": 4,
 "nbformat_minor": 5
}
