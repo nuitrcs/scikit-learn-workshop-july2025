{
 "cells": [
  {
   "cell_type": "markdown",
   "id": "29217e55-e574-4061-b25e-9d5b7560ff75",
   "metadata": {},
   "source": [
    "Part 2 of scikit-learn workshop"
   ]
  },
  {
   "cell_type": "markdown",
   "id": "1a610255-f564-4eec-9db1-c318b32e668f",
   "metadata": {},
   "source": [
    "We'll start by importing our modules again:"
   ]
  },
  {
   "cell_type": "code",
   "execution_count": null,
   "id": "d59331a9-7648-408b-85b2-b8d6cfeb6f65",
   "metadata": {},
   "outputs": [],
   "source": [
    "# :: IMPORTS ::\n",
    "\n",
    "# Scikit-learn specifics:\n",
    "from sklearn import datasets\n",
    "from sklearn import preprocessing\n",
    "from sklearn import linear_model\n",
    "from sklearn.model_selection import train_test_split\n",
    "from sklearn.compose import ColumnTransformer\n",
    "from sklearn.pipeline import Pipeline\n",
    "from sklearn import svm\n",
    "\n",
    "# Helper modules\n",
    "import pandas as pd\n",
    "import matplotlib as plt"
   ]
  },
  {
   "cell_type": "markdown",
   "id": "80999b45-8313-4f71-b1b2-98a126cb7d34",
   "metadata": {},
   "source": [
    "# <span style = \"color:rebeccapurple\"> Part 4 - Classification"
   ]
  },
  {
   "cell_type": "markdown",
   "id": "76c0d39a-719c-4bf6-9788-59dcdc36be50",
   "metadata": {},
   "source": [
    "Now that we are experienced with preprocessing and pipelines. Let's move on to a different machine learning task: classification."
   ]
  },
  {
   "cell_type": "markdown",
   "id": "88ceaa21-4617-405f-a92b-998cdad55d56",
   "metadata": {},
   "source": [
    "### <span style = \"color:teal\"> Conceptual intermezzo - What is classification?"
   ]
  },
  {
   "cell_type": "markdown",
   "id": "8d57c8a9-5c95-4ac6-b664-97fee8e217fc",
   "metadata": {},
   "source": [
    "See slides"
   ]
  },
  {
   "cell_type": "markdown",
   "id": "a4bbd2fc-aa06-4d9a-a2e8-bb8c959421d8",
   "metadata": {},
   "source": [
    "## <span style = \"color:darkorchid\"> Alice: sommelière extraordinaire!"
   ]
  },
  {
   "cell_type": "markdown",
   "id": "e37da5cb-3c0a-4a07-91aa-887638fbca33",
   "metadata": {},
   "source": [
    "After coming back from her cold polar adventures, Alice is ready for a change of scenery, so she takes a trip to Italy. Being quite the sommelière herself, she visits her favorite ristorante in La Toscana, *Il Cappellaio Matto*, in search of good wine. As it turns out, there is a heated debate going on, everyone is wondering if sommelieres can actually distinguish different wines, or if they are just faking it.\n",
    "\n",
    "Alice decides to settle the dispute with machine learning. Her colleagues trust her, so they give her a dataset containing the chemical composition of different wine samples. All these samples were grown in the Toscana region, but they were made of three different cultivars (a cultivar is a specific plant variety, in this case varieties of grape vines)."
   ]
  },
  {
   "cell_type": "markdown",
   "id": "43b932b3-6fc4-4da3-a86c-9d6c206ac0d8",
   "metadata": {},
   "source": [
    "### <span style = \"color:teal\"> Load data"
   ]
  },
  {
   "cell_type": "code",
   "execution_count": null,
   "id": "a70cf951-f1c1-4710-b88a-7a9c79fe9ae5",
   "metadata": {},
   "outputs": [],
   "source": [
    "wine = datasets.load_wine(as_frame = True)"
   ]
  },
  {
   "cell_type": "code",
   "execution_count": null,
   "id": "322bbb02-2c57-4cef-9835-6fbe1cf579e4",
   "metadata": {},
   "outputs": [],
   "source": [
    "wine_X = wine[\"data\"]\n",
    "wine_y = wine[\"target\"]"
   ]
  },
  {
   "cell_type": "code",
   "execution_count": null,
   "id": "0e66a3f4-a141-4ea3-9f7c-922354bba06e",
   "metadata": {},
   "outputs": [],
   "source": [
    "wine_X.shape"
   ]
  },
  {
   "cell_type": "code",
   "execution_count": null,
   "id": "faa8086e-2913-4c2b-932b-1f4c1c3b5c46",
   "metadata": {},
   "outputs": [],
   "source": [
    "wine_X.head()"
   ]
  },
  {
   "cell_type": "code",
   "execution_count": null,
   "id": "583037ef-946e-4bf7-a397-687a5c4cfc5c",
   "metadata": {},
   "outputs": [],
   "source": [
    "wine_y.head()"
   ]
  },
  {
   "cell_type": "markdown",
   "id": "c38f5680-a6d9-4d54-8f59-5ff829484911",
   "metadata": {},
   "source": [
    "Note the target is a pandas series. We could make it a dataframe:"
   ]
  },
  {
   "cell_type": "code",
   "execution_count": null,
   "id": "f4c99bd5-3520-48ff-81d1-843234e1ef3d",
   "metadata": {},
   "outputs": [],
   "source": [
    "wine_y = wine_y.to_frame(name = \"cultivar\")"
   ]
  },
  {
   "cell_type": "code",
   "execution_count": null,
   "id": "0fbb8b55-6993-4340-a695-23108b78ec62",
   "metadata": {},
   "outputs": [],
   "source": [
    "wine_y.head()"
   ]
  },
  {
   "cell_type": "markdown",
   "id": "6bcab26c-afe5-440d-ab24-ed9e3ae282fa",
   "metadata": {},
   "source": [
    "<b>BUT</b>, scikit learn classifiers usually expect the target to be a 1-d array or a series, so we'll keep it as a series."
   ]
  },
  {
   "cell_type": "markdown",
   "id": "ec724504-3768-486a-ad04-566163358d94",
   "metadata": {},
   "source": [
    "And just to make sure we don't mess things up, let's do it again:"
   ]
  },
  {
   "cell_type": "code",
   "execution_count": null,
   "id": "b44772bf-a1ad-432d-9128-1aa99453cf99",
   "metadata": {},
   "outputs": [],
   "source": [
    "# Load wine data\n",
    "wine = datasets.load_wine(as_frame = True)\n",
    "wine_X = wine[\"data\"]\n",
    "wine_y = wine[\"target\"]"
   ]
  },
  {
   "cell_type": "markdown",
   "id": "67a410ed-5d9b-4405-b144-f5f3f39acc2f",
   "metadata": {},
   "source": [
    "### <span style = \"color:teal\"> Using a support vector classifier"
   ]
  },
  {
   "cell_type": "markdown",
   "id": "b5ad4d0e-b796-482d-bb2d-0095c152661d",
   "metadata": {},
   "source": [
    "For now, we will skip the preprocessing stage and head straight to the classification task. `scikit-learn` provides different classifiers for us, let's use the support vector machine. We can find support vector classifiers in the `svm` module, which we have already imported."
   ]
  },
  {
   "cell_type": "code",
   "execution_count": null,
   "id": "260efbb2-8b8a-4d19-8513-7d37574984fc",
   "metadata": {},
   "outputs": [],
   "source": [
    "wX_train, wX_test, wy_train, wy_test = train_test_split(wine_X, wine_y, test_size = .15)"
   ]
  },
  {
   "cell_type": "code",
   "execution_count": null,
   "id": "1b815c34-663a-4aa1-b1d5-46a2e48e9249",
   "metadata": {},
   "outputs": [],
   "source": [
    "# Create SVM classifier:\n",
    "wine_clf = svm.SVC()"
   ]
  },
  {
   "cell_type": "code",
   "execution_count": null,
   "id": "a7eaba71-286d-420f-b26c-fbcb357bf749",
   "metadata": {},
   "outputs": [],
   "source": [
    "# Fit the SVM classifier:\n",
    "wine_clf.fit(wX_train, wy_train)"
   ]
  },
  {
   "cell_type": "code",
   "execution_count": null,
   "id": "47874938-f775-4298-b16b-c9f7bd624304",
   "metadata": {},
   "outputs": [],
   "source": [
    "wine_clf.classes_"
   ]
  },
  {
   "cell_type": "code",
   "execution_count": null,
   "id": "148235c7-919c-470c-8a01-0432575da936",
   "metadata": {},
   "outputs": [],
   "source": [
    "# Predict the cultivars\n",
    "wine_predictions = wine_clf.predict(wX_test)\n",
    "wine_predictions"
   ]
  },
  {
   "cell_type": "markdown",
   "id": "6ed76d4b-46e8-4a82-a4ae-f78123b3a16a",
   "metadata": {},
   "source": [
    "Let's compare the predictions to the true values:"
   ]
  },
  {
   "cell_type": "code",
   "execution_count": null,
   "id": "9588cb9b-6aa7-49be-b501-8c7e19fec654",
   "metadata": {},
   "outputs": [],
   "source": [
    "comparison_df = pd.DataFrame(data = {\"Predicted\": wine_predictions,\n",
    "                                    \"True Cultivars\": wy_test})"
   ]
  },
  {
   "cell_type": "code",
   "execution_count": null,
   "id": "9667135e-bca4-4ff1-a4ff-84fe48dc20e3",
   "metadata": {},
   "outputs": [],
   "source": [
    "comparison_df.head(20)"
   ]
  },
  {
   "cell_type": "markdown",
   "id": "85acdf86-7d06-45f2-ba0e-33fab4ab616f",
   "metadata": {},
   "source": [
    "Note: we didn't have a lot of data points, and since we have three classes (wine varieties), we are a bit tight on our data. That's why I chose a small test size. If you go back and change the test size parameter to something like $.3$, you will notice a big drop in performance."
   ]
  },
  {
   "cell_type": "markdown",
   "id": "dab67192-c943-462b-8f17-04ab5303dd3b",
   "metadata": {},
   "source": [
    "Let's check now our accuracy:"
   ]
  },
  {
   "cell_type": "code",
   "execution_count": null,
   "id": "57e77295-aecf-4bb0-8d6c-efbc09630f87",
   "metadata": {},
   "outputs": [],
   "source": [
    "# Evaluate:\n",
    "wine_clf.score(wX_test, wy_test)"
   ]
  },
  {
   "cell_type": "markdown",
   "id": "10c2f50a-88ce-4a4f-b730-85fca1434851",
   "metadata": {},
   "source": [
    "### <span style = \"color:teal\"> Preprocessing"
   ]
  },
  {
   "cell_type": "markdown",
   "id": "31f7a3e7-6332-4cd9-8822-fb704131ad95",
   "metadata": {},
   "source": [
    "As stated before, the type of preprocessing we must do depends on your data and your model. We don't have time to go into much detail, so for now we will stick to the standard scaler."
   ]
  },
  {
   "cell_type": "code",
   "execution_count": null,
   "id": "8df51347-44db-4266-a6a0-33767b003419",
   "metadata": {},
   "outputs": [],
   "source": [
    "# Create and fit preprocessor\n",
    "wine_preprocessor = preprocessing.StandardScaler().fit(wX_train, wy_train)"
   ]
  },
  {
   "cell_type": "code",
   "execution_count": null,
   "id": "bfaf4762-96f5-44f3-8785-390643f2f80d",
   "metadata": {},
   "outputs": [],
   "source": [
    "# Transform data\n",
    "wX_train_trans = wine_preprocessor.transform(wX_train)"
   ]
  },
  {
   "cell_type": "code",
   "execution_count": null,
   "id": "a996ecfd-e1ac-4b31-ae3a-efa51d6b498d",
   "metadata": {},
   "outputs": [],
   "source": [
    "# Fit classifier to transformed data\n",
    "wine_clf = svm.SVC().fit(wX_train_trans, wy_train)"
   ]
  },
  {
   "cell_type": "code",
   "execution_count": null,
   "id": "cb766bab-c892-43f1-9883-60c8e32e47b4",
   "metadata": {},
   "outputs": [],
   "source": [
    "# Evaluate on testing data:\n",
    "    # Transform test data\n",
    "wX_test_trans = wine_preprocessor.transform(wX_test)\n",
    "\n",
    "    # Check accuracy\n",
    "wine_clf.score(wX_test_trans, wy_test)"
   ]
  },
  {
   "cell_type": "markdown",
   "id": "ba4639b2-f603-41ab-ae59-078922aeefab",
   "metadata": {},
   "source": [
    "Woah!! Our accuracy skyrocketed, looks like preprocessing is very important uh?"
   ]
  },
  {
   "cell_type": "markdown",
   "id": "4bf6b092-30b6-4b50-8500-fff5a48a0445",
   "metadata": {},
   "source": [
    "### <span style = \"color:teal\"> Make a pipeline"
   ]
  },
  {
   "cell_type": "code",
   "execution_count": null,
   "id": "e4e2e7c2-eaa2-40a7-b4f9-670d37d527cb",
   "metadata": {},
   "outputs": [],
   "source": [
    "# Step 1: Load the data\n",
    "wine = datasets.load_wine(as_frame = True)\n",
    "wine_X = wine[\"data\"]\n",
    "wine_y = wine[\"target\"]\n",
    "\n",
    "# Step 2: Split the data\n",
    "wX_train, wX_test, wy_train, wy_test = train_test_split(wine_X, wine_y, test_size = .3)\n",
    "\n",
    "# Step 3: Create the pipeline\n",
    "wine_pipeline = Pipeline(\n",
    "    [\n",
    "        (\"preprocessor\", preprocessing.StandardScaler()),\n",
    "        (\"classifier\", svm.SVC())\n",
    "    ]\n",
    ")\n",
    "\n",
    "# Step 4: Fit the pipeline\n",
    "wine_pipeline.fit(wX_train, wy_train)\n",
    "\n",
    "# Step 5: Evaluate accuracy of classifier\n",
    "wine_pipeline.score(wX_test, wy_test)"
   ]
  },
  {
   "cell_type": "code",
   "execution_count": null,
   "id": "08313b46-3224-47ca-a0d0-46fb5264e0c2",
   "metadata": {},
   "outputs": [],
   "source": [
    "wine_pipeline"
   ]
  },
  {
   "cell_type": "markdown",
   "id": "916c7fc9-c50e-4fa5-a3b1-687d9a8bb7a4",
   "metadata": {},
   "source": [
    "## <span style = \"color:red\"> Long Exercise - Bo's daunting dilemma"
   ]
  },
  {
   "cell_type": "markdown",
   "id": "712dc497-c33e-4b3e-9501-52c9b904e330",
   "metadata": {},
   "source": [
    "Having followed Alice to Italy, Bo travels south to visit the famous city Pompei. In there, they find the walls are full of ancient romans' graffiti! Bo would like to have a dataset of all the text in the walls, but copying it one by one would be incredibly dauting. They decides to instead take pictures and figure it out later.\n",
    "\n",
    "Back in their lab, Bo needs to create a classifier that takes as inputs images of hand-written text, and maps them to their proper symbol. To begin, Bo will focus on numerical digits.\n",
    "\n",
    "Load the \"digits\" dataset from `scikit-learn` and build a classifier to achieve this task. Each data point is an image, which is basically a matrix of numbers. You can \"flatten\" this matrix into a long vector, which will be your feature vector. The labels are the actual characters for the different numbers (0, 1, 2, etc.).\n",
    "\n",
    "Good luck!"
   ]
  },
  {
   "cell_type": "code",
   "execution_count": null,
   "id": "656a1e59-8cc2-4bf3-b341-e9531df86deb",
   "metadata": {},
   "outputs": [],
   "source": []
  },
  {
   "cell_type": "markdown",
   "id": "213355d8-57a3-4c3d-9e5d-b09f365270f8",
   "metadata": {},
   "source": [
    "# <span style = \"color:rebeccapurple\"> Summary"
   ]
  },
  {
   "cell_type": "markdown",
   "id": "e777e792-de4e-49be-a769-d82f08f8d159",
   "metadata": {},
   "source": [
    "OK, we've done a lot. We have learned:\n",
    "1. How to preprocess data.\n",
    "2. How to split data into training and testing.\n",
    "3. How to build a linear regression object for regression.\n",
    "4. How to build a support vector classifier for classification.\n",
    "5. How to build pipelines."
   ]
  },
  {
   "cell_type": "markdown",
   "id": "97904054-d3fc-4367-9ed8-6a80287bed4a",
   "metadata": {},
   "source": [
    "There are so many things left to do! For instance, there are many other types of classifiers, k-nearest neighbors, logistic regression, decision trees, etc. We can't cover it all here, so you'll have to venture into those lands by yourself. But don't worry, you can always come to us for help :-)"
   ]
  },
  {
   "cell_type": "markdown",
   "id": "16340b7e-d9f9-43d6-8f5d-9a514d5ac221",
   "metadata": {},
   "source": [
    "## <span style = \"color:darkorchid\"> What's next?"
   ]
  },
  {
   "cell_type": "markdown",
   "id": "fa0c31c3-268d-4bcf-a8d6-178a07918b26",
   "metadata": {},
   "source": [
    "1. Well, immediately, I suggest you learn about <b>cross-validation</b>. It is an <span style = \"color:red\">extremely important</span> concept that we did not cover. Lucky for you `scikit-learn` can do cross validation for you, AND it works well with pipelines.\n",
    "\n",
    "2. Second, our metrics for evaluation were pretty simple. There is a whole world to explore there. For instance, if you are doing classification, you should learn about the \"receiver operating characteristic\" curve (ROC curve).\n",
    "\n",
    "3. Third, I suggest you play around with other models for both regression and classification.\n",
    "\n",
    "4. Fourth, go beyond supervised learning and into the realm of unsupervised learning. You may need to learn what these terms mean first. Then learn about \"clustering\", the most common unsupervised learning method. I've prepared an optional notebook for that!\n",
    "\n",
    "5. Finally, just keep learning and keep doing. At times it will be frustrating, that's fine, that's how it is with everything new. Good luck in your machine learning endeavors :-)"
   ]
  },
  {
   "cell_type": "markdown",
   "id": "0ced04a1-fd8a-4c28-9ac0-c8f583609a1a",
   "metadata": {},
   "source": [
    "# <span style = \"color:rebeccapurple\"> (Optional) Supervised versus unsupervised learning"
   ]
  },
  {
   "cell_type": "markdown",
   "id": "b8371265-48e2-4eba-8b75-82f70fc759f3",
   "metadata": {},
   "source": [
    "If there is time, go to \"clustering\" notebook."
   ]
  },
  {
   "cell_type": "code",
   "execution_count": null,
   "id": "fc760c44-244f-405e-bf34-d0cbaaed3860",
   "metadata": {},
   "outputs": [],
   "source": []
  }
 ],
 "metadata": {
  "kernelspec": {
   "display_name": "Python 3 (ipykernel)",
   "language": "python",
   "name": "python3"
  },
  "language_info": {
   "codemirror_mode": {
    "name": "ipython",
    "version": 3
   },
   "file_extension": ".py",
   "mimetype": "text/x-python",
   "name": "python",
   "nbconvert_exporter": "python",
   "pygments_lexer": "ipython3",
   "version": "3.11.5"
  }
 },
 "nbformat": 4,
 "nbformat_minor": 5
}
