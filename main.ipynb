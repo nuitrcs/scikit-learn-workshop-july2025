{
 "cells": [
  {
   "cell_type": "markdown",
   "id": "9cc01510-630f-42c8-9112-4da50a57ab6a",
   "metadata": {
    "panel-layout": {
     "height": 60.3125,
     "visible": true,
     "width": 100
    }
   },
   "source": [
    "# <span style = \"color:rebeccapurple\">Introduction to scikit-learn</span>"
   ]
  },
  {
   "cell_type": "markdown",
   "id": "61ee69a4",
   "metadata": {},
   "source": [
    "by efrén cruz cortés"
   ]
  },
  {
   "cell_type": "markdown",
   "id": "5bdc2be4-c689-451a-99eb-bcdd9ef6c8f5",
   "metadata": {
    "panel-layout": {
     "height": 50.09375,
     "visible": true,
     "width": 100
    }
   },
   "source": [
    "## <span style = \"color:darkorchid\">What is scikit-learn?</span>"
   ]
  },
  {
   "cell_type": "markdown",
   "id": "e2e1e398-a0d4-4253-a250-7af6dd620528",
   "metadata": {
    "panel-layout": {
     "height": 133,
     "visible": true,
     "width": 100
    }
   },
   "source": [
    "`scikit-learn` is a user-friendly python library that helps you implement a variety of machine learning algorithms with just a few lines of code. You do not need to be an expert in machine learning to use `scikit-learn`, however, you do need to learn some concepts to use it correctly.\n",
    "\n",
    "Today, we will learn a bit of both. We will alternate between coding and concepts so you can be successful in your future machine learning endeavors!"
   ]
  },
  {
   "cell_type": "markdown",
   "id": "2eb29f43-3975-48c4-8dfd-0f8c6957719a",
   "metadata": {
    "panel-layout": {
     "height": 60.3125,
     "visible": true,
     "width": 100
    }
   },
   "source": [
    "## <span style = \"color:darkorchid\"> The adventures of Alice and Bo"
   ]
  },
  {
   "cell_type": "markdown",
   "id": "67f340b2-57b1-4f23-9bc3-165d64216404",
   "metadata": {},
   "source": [
    "Throughout the workshop we will follow the adventures of two researchers: Alice and Bo. I will teach with examples from Alice's adventures. You will work on exercises from Bo's breakthroughs.\n",
    "\n",
    "I asked midjourney to generate images of Alice and Bo on the style of Alice in Wonderland. This is what I got:"
   ]
  },
  {
   "cell_type": "markdown",
   "id": "9201554e-169c-430c-8086-879dad57ec88",
   "metadata": {},
   "source": [
    "<img src = \"images/Alice-and-Bo.png\" width = 900>"
   ]
  },
  {
   "cell_type": "markdown",
   "id": "67672247",
   "metadata": {},
   "source": [
    "You may notice that throughout the workshop the looks of Alice and Bo are not super consistent. Blame Midjourney and Sora 😅"
   ]
  },
  {
   "cell_type": "markdown",
   "id": "ec0c51ae",
   "metadata": {},
   "source": [
    "Let's get started!"
   ]
  },
  {
   "cell_type": "markdown",
   "id": "93f9cb71",
   "metadata": {},
   "source": [
    "#### <span style=\"color:red\">EXERCISE</span>"
   ]
  },
  {
   "cell_type": "markdown",
   "id": "0666fd0e",
   "metadata": {},
   "source": [
    "1. If you are comfortable with it, take two minutes to introduce yourself to those next to you (both sides). (If you don't feel comfortable talking today, you can tell them \"today I prefer not to talk\" or provide a similar indication. It's fine.).\n",
    "\n",
    "2. Now let's do a round of names and get used to asking questions!"
   ]
  },
  {
   "cell_type": "markdown",
   "id": "1fda734e",
   "metadata": {},
   "source": [
    "## <span style = \"color:darkorchid\"> Credit\n",
    "\n",
    "The author of these notebooks and the exercises is efrén cruz cortés. However, I owe inspiration and some of the materials of the preprocessing and regression sections to Ritika Giri."
   ]
  }
 ],
 "metadata": {
  "kernelspec": {
   "display_name": "scikit-learn-workshop",
   "language": "python",
   "name": "python3"
  },
  "language_info": {
   "codemirror_mode": {
    "name": "ipython",
    "version": 3
   },
   "file_extension": ".py",
   "mimetype": "text/x-python",
   "name": "python",
   "nbconvert_exporter": "python",
   "pygments_lexer": "ipython3",
   "version": "3.11.5"
  },
  "panel-cell-order": [
   "9cc01510-630f-42c8-9112-4da50a57ab6a",
   "5b082360-237e-4ba3-a055-c6ab1f45abb5",
   "5bdc2be4-c689-451a-99eb-bcdd9ef6c8f5",
   "e2e1e398-a0d4-4253-a250-7af6dd620528",
   "85353d77-3bc8-4cfa-867f-1adc24765050",
   "909fbd52-47ae-4dbf-8e81-8e656029e1e2",
   "d76fb7bc-fce8-41b8-b5ac-21d69c2fa660",
   "a77f401e-c06c-47ff-b401-c428b6561fda",
   "a380bf25-42e7-4db8-89f3-b9f395a009a3",
   "1b2b0957-8ae6-488c-82aa-05e3c704acbf",
   "2eb29f43-3975-48c4-8dfd-0f8c6957719a",
   "48095baf-bd2d-4860-b83b-238479c55e43",
   "e3101a01-d755-4c90-8037-b094d273ad60",
   "aa4adf62-b240-49ac-b057-4f475dbb2061",
   "5de79fc5-7d21-4711-a8e5-30edf1e430de",
   "48359de5-eea5-44fd-b148-4950ed66d90b",
   "17037863-9ef6-4a5d-a842-33d3d1069186",
   "64f84854-086f-471e-ac9a-996074de6b63",
   "d2d95da1-15a4-4f76-acb7-3a1081c3f862",
   "6bf86c16-2a91-4401-bb67-4f693996e86a",
   "0fde2a73-03d6-41c5-a6f1-53b274f6f538",
   "e20c8781-cf90-4b44-bd88-c99b933227ab",
   "e31700c5-4d2f-4d7a-ae72-4fce0e093b0a",
   "ec0e52b3-ad02-4f0c-9569-0f031d299b9c",
   "ce73879b-97da-483c-b754-3c89b731d5a3",
   "43d9c52a-efdd-4903-9966-3644788b7c52",
   "ef14c206-cdf3-4fd9-a0d4-dfd5d16ce410",
   "d5a2c1df-34b8-4c28-9f64-ee803421f3d5",
   "191905e0-0a6b-484e-948d-84f3387c87cb",
   "ce1c111d-d4aa-4c08-9d88-87c4b52d1d41",
   "ebd739a5-ae8c-41e4-b87b-a1d28401ee1e",
   "5d2fe31b-3d23-46eb-88dc-0d330b217461",
   "7e8c6446-0727-4548-8a92-4bdf543ff508",
   "75097743-a5c5-411d-9f53-ab0396b55544",
   "853cde47-e945-49f4-87d5-1e1834afdc59",
   "74a013d0-9471-444c-a078-0aaf46d5f372",
   "fb6c5094-edab-479b-bbae-0908d77b29ed",
   "abd6b0a3-bf39-431d-a592-166c73e8b7ce",
   "34c89974-8212-4605-aa2f-5c40d50d3719"
  ]
 },
 "nbformat": 4,
 "nbformat_minor": 5
}
